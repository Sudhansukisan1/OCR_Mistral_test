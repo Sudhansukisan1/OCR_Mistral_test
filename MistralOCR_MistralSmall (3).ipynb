{
  "nbformat": 4,
  "nbformat_minor": 0,
  "metadata": {
    "colab": {
      "provenance": []
    },
    "kernelspec": {
      "name": "python3",
      "display_name": "Python 3"
    },
    "language_info": {
      "name": "python"
    }
  },
  "cells": [
    {
      "cell_type": "code",
      "execution_count": 2,
      "metadata": {
        "colab": {
          "base_uri": "https://localhost:8080/"
        },
        "collapsed": true,
        "id": "K2hwBRdP1C_O",
        "outputId": "88684d4d-51aa-47a3-fef4-cd7d5c6cc92f"
      },
      "outputs": [
        {
          "output_type": "stream",
          "name": "stdout",
          "text": [
            "\u001b[2K     \u001b[90m━━━━━━━━━━━━━━━━━━━━━━━━━━━━━━━━━━━━━━━━\u001b[0m \u001b[32m42.6/42.6 kB\u001b[0m \u001b[31m3.1 MB/s\u001b[0m eta \u001b[36m0:00:00\u001b[0m\n",
            "\u001b[2K   \u001b[90m━━━━━━━━━━━━━━━━━━━━━━━━━━━━━━━━━━━━━━━━\u001b[0m \u001b[32m301.5/301.5 kB\u001b[0m \u001b[31m25.3 MB/s\u001b[0m eta \u001b[36m0:00:00\u001b[0m\n",
            "\u001b[2K   \u001b[90m━━━━━━━━━━━━━━━━━━━━━━━━━━━━━━━━━━━━━━━━\u001b[0m \u001b[32m407.0/407.0 kB\u001b[0m \u001b[31m33.3 MB/s\u001b[0m eta \u001b[36m0:00:00\u001b[0m\n",
            "\u001b[2K   \u001b[90m━━━━━━━━━━━━━━━━━━━━━━━━━━━━━━━━━━━━━━━━\u001b[0m \u001b[32m207.1/207.1 kB\u001b[0m \u001b[31m19.0 MB/s\u001b[0m eta \u001b[36m0:00:00\u001b[0m\n",
            "\u001b[?25h"
          ]
        }
      ],
      "source": [
        "!pip install mistralai azure-storage-blob -q"
      ]
    },
    {
      "cell_type": "code",
      "source": [
        "from mistralai import Mistral\n",
        "\n",
        "api_key = \"WTRLJObkMjgcbXQYKzznKdYYjhQb3mGd\"\n",
        "client = Mistral(api_key=api_key)"
      ],
      "metadata": {
        "id": "tYwIG3hU1O8-"
      },
      "execution_count": 3,
      "outputs": []
    },
    {
      "cell_type": "code",
      "source": [
        "# Import required libraries\n",
        "from pathlib import Path\n",
        "from mistralai import DocumentURLChunk, ImageURLChunk, TextChunk\n",
        "import json\n",
        "\n",
        "# Verify PDF file exists\n",
        "pdf_file = Path(\"/content/Chapter 1.pdf\")\n",
        "assert pdf_file.is_file()\n",
        "\n",
        "# Upload PDF file to Mistral's OCR service\n",
        "uploaded_file = client.files.upload(\n",
        "    file={\n",
        "        \"file_name\": pdf_file.stem,\n",
        "        \"content\": pdf_file.read_bytes(),\n",
        "    },\n",
        "    purpose=\"ocr\",\n",
        ")\n",
        "\n",
        "# Get URL for the uploaded file\n",
        "signed_url = client.files.get_signed_url(file_id=uploaded_file.id, expiry=1)\n",
        "\n",
        "# Process PDF with OCR, including embedded images\n",
        "pdf_response = client.ocr.process(\n",
        "    document=DocumentURLChunk(document_url=signed_url.url),\n",
        "    model=\"mistral-ocr-latest\",\n",
        "    include_image_base64=True\n",
        ")\n",
        "\n",
        "# Convert response to JSON format\n",
        "response_dict = json.loads(pdf_response.model_dump_json())\n",
        "\n",
        "print(json.dumps(response_dict, indent=4)[2000:5000]) # check the first 1000 characters"
      ],
      "metadata": {
        "colab": {
          "base_uri": "https://localhost:8080/"
        },
        "id": "djkrzVT51R3C",
        "outputId": "11dd2b48-1b74-4344-da53-d003fe7f3ef1"
      },
      "execution_count": null,
      "outputs": [
        {
          "output_type": "stream",
          "name": "stdout",
          "text": [
            "visions applying to live animals are in chapter 98.\\n[^0]\\n[^0]:    1/ The animal certificate of pure breeding is an obsolete form and can no longer be obtained from the U.S. Department of Agriculture. Consult U.S. Customs for additional information.\",\n",
            "            \"images\": [],\n",
            "            \"dimensions\": {\n",
            "                \"dpi\": 200,\n",
            "                \"height\": 2200,\n",
            "                \"width\": 1700\n",
            "            }\n",
            "        },\n",
            "        {\n",
            "            \"index\": 3,\n",
            "            \"markdown\": \"| $\\\\begin{aligned} & \\\\text { Heading/ } \\\\\\\\ & \\\\text { Subheading } \\\\end{aligned}$ | Stat. <br> Suf- <br> fis | Article Description | Unit of Quantity | Rates of Duty |  |  |\\n| :--: | :--: | :--: | :--: | :--: | :--: | :--: |\\n|  |  |  |  | General | Special |  |\\n| 0101 |  | Live horses, asses, mules and hinnies: |  | Free $^{1)}$ |  | Free |\\n| 0101.21 .00 |  | Horses: |  |  |  |  |\\n|  | 10 | Purebred breeding animals. |  |  |  |  |\\n|  | 20 | Males. | No. |  |  |  |\\n| 0101.29 .00 |  | Females. | No. |  |  |  |\\n|  | 10 | Other. |  | Free $^{1)}$ |  | $20 \\\\%$ |\\n|  | 10 | Imported for immediate slaughter. | No. |  |  |  |\\n|  | 90 | Other. | No. |  |  |  |\\n| 0101.30 .00 | 00 | Asses. | No. | $6.8 \\\\%^{1)}$ | Free (A+, AU, BH, CL, CO, D, E, IL, JO, KR, MA, OM, P, PA, PE, S, SG) | $15 \\\\%$ |\\n| 0101.90 |  | Other: |  |  |  |  |\\n| 0101.90.30 | 00 | Imported for immediate slaughter. | No. | Free $^{1)}$ |  | Free |\\n| 0101.90.40 | 00 | Other. | No. | $4.5 \\\\%^{1)}$ | Free (A+, AU, BH, CL, CO, D, E, IL, JO, KR, MA, OM, P, PA, PE, S, SG) | $20 \\\\%$ |\\n| 0102 |  | Live bovine animals: |  |  |  |  |\\n| 0102.21 .00 |  | Cattle: |  |  |  |  |\\n|  | 10 | Purebred breeding animals. |  | Free $^{1)}$ |  | Free |\\n|  | 10 | Male. | No. |  |  |  |\\n|  | 20 | Female. | No. |  |  |  |\\n|  | 30 | Other: | No. |  |  |  |\\n|  | 50 | Male. | No. |  |  |  |\\n|  |  | Female. | No. |  |  |  |\",\n",
            "            \"images\": [],\n",
            "            \"dimensions\": {\n",
            "                \"dpi\": 200,\n",
            "                \"height\": 2200,\n",
            "                \"width\": 1700\n",
            "            }\n",
            "        },\n",
            "        {\n",
            "            \"index\": 4,\n",
            "            \"markdown\": \"| Heading/ <br> Subheading | $\\\\begin{aligned} & \\\\text { Stat. } \\\\\\\\ & \\\\text { Suf- } \\\\\\\\ & \\\\text { fis } \\\\end{aligned}$ | Article Description | Unit of Quantity | Rates of Duty |  |  |\\n| :--: | :--: | :--: | :--: | :--: | :--: | :--: |\\n|  |  |  |  | 1 |  | 2 |\\n| 0102 (con.) |  | Live bovine animals: (con.) |  |  |  |  |\\n| 0102.29 |  | Cattle: (con.) |  |  |  |  |\\n| 0102.29.20 |  | Other: |  | Free $^{5}$ |  | $6.6 \\\\notin / \\\\mathrm{kg}$ |\\n|  | 11 | Cows imported specially for dairy purposes. |  |  |  |  |\\n|  |  | Weighing less than 90 kg each..................... | No. <br> kg |  |  |  |\\n|  | 12 | Weighing 90 kg or more each......................... | No. <br> kg |  |  |  |\\n| 0102.29.40 |  | Other.......................................................... |  | $1 \\\\notin / \\\\mathrm{kg}^{5}$ | Free (A+, AU, BH, CL, CO, D, E, IL, JO, KR, MA, OM, P, PA, PE, S,\n"
          ]
        }
      ]
    },
    {
      "cell_type": "code",
      "source": [
        "from mistralai.models import OCRResponse\n",
        "from IPython.display import Markdown, display\n",
        "\n",
        "def replace_images_in_markdown(markdown_str: str, images_dict: dict) -> str:\n",
        "    \"\"\"\n",
        "    Replace image placeholders in markdown with base64-encoded images.\n",
        "\n",
        "    Args:\n",
        "        markdown_str: Markdown text containing image placeholders\n",
        "        images_dict: Dictionary mapping image IDs to base64 strings\n",
        "\n",
        "    Returns:\n",
        "        Markdown text with images replaced by base64 data\n",
        "    \"\"\"\n",
        "    for img_name, base64_str in images_dict.items():\n",
        "        markdown_str = markdown_str.replace(\n",
        "            f\"![{img_name}]({img_name})\", f\"![{img_name}]({base64_str})\"\n",
        "        )\n",
        "    return markdown_str\n",
        "\n",
        "def get_combined_markdown(ocr_response: OCRResponse) -> str:\n",
        "    \"\"\"\n",
        "    Combine OCR text and images into a single markdown document.\n",
        "\n",
        "    Args:\n",
        "        ocr_response: Response from OCR processing containing text and images\n",
        "\n",
        "    Returns:\n",
        "        Combined markdown string with embedded images\n",
        "    \"\"\"\n",
        "    markdowns: list[str] = []\n",
        "    # Extract images from page\n",
        "    for page in ocr_response.pages:\n",
        "        image_data = {}\n",
        "        for img in page.images:\n",
        "            image_data[img.id] = img.image_base64\n",
        "        # Replace image placeholders with actual images\n",
        "        markdowns.append(replace_images_in_markdown(page.markdown, image_data))\n",
        "\n",
        "    return \"\\n\\n\".join(markdowns)\n",
        "\n",
        "# Display combined markdowns and images\n",
        "display(Markdown(get_combined_markdown(pdf_response)))"
      ],
      "metadata": {
        "colab": {
          "base_uri": "https://localhost:8080/",
          "height": 1000
        },
        "collapsed": true,
        "id": "8tJoJThF1R1F",
        "outputId": "975460c4-bc50-418c-a01a-930bcf4fbd3e"
      },
      "execution_count": null,
      "outputs": [
        {
          "output_type": "display_data",
          "data": {
            "text/plain": [
              "<IPython.core.display.Markdown object>"
            ],
            "text/markdown": "# Harmonized Tariff Schedule of the United States Revision 10 (2025) \n\n## SECTION I\n\n## LIVE ANIMALS; ANIMAL PRODUCTS\n\nNotes\n\n1. Any reference in this section to a particular genus or species of an animal, except where the context otherwise requires, includes a reference to the young of that genus or species.\n2. Except where the context otherwise requires, throughout the tariff schedule any reference to \"dried\" products also covers products which have been dehydrated, evaporated or freeze-dried.\n\nHarmonized Tariff Schedule of the United States Revision 10 (2025)\nAnnotated for Statistical Reporting Purposes\n\n# Harmonized Tariff Schedule of the United States Revision 10 (2025) \n\n## CHAPTER 1\n\n## LIVE ANIMALS\n\nNote\n\n1. This chapter covers all live animals except:\n(a) Fish and crustaceans, molluscs and other aquatic invertebrates, of heading 0301, 0306, 0307 or 0308;\n(b) Cultures of microorganisms and other products of heading 3002; and\n(c) Animals of heading 9508.\n\n## Additional U.S. Notes\n\n1. The expression \"purebred breeding animals\" covers only animals certified to the U.S. Customs Service by the Department of Agriculture as being purebred of a recognized breed and duly registered in a book of record recognized by the Secretary of Agriculture for that breed, imported specially for breeding purposes, whether intended to be used by the importer himself or for sale for such purposes. ${ }^{1}$\n2. Certain special provisions applying to live animals are in chapter 98.\n[^0]\n[^0]:    1/ The animal certificate of pure breeding is an obsolete form and can no longer be obtained from the U.S. Department of Agriculture. Consult U.S. Customs for additional information.\n\n| $\\begin{aligned} & \\text { Heading/ } \\\\ & \\text { Subheading } \\end{aligned}$ | Stat. <br> Suf- <br> fis | Article Description | Unit of Quantity | Rates of Duty |  |  |\n| :--: | :--: | :--: | :--: | :--: | :--: | :--: |\n|  |  |  |  | General | Special |  |\n| 0101 |  | Live horses, asses, mules and hinnies: |  | Free $^{1)}$ |  | Free |\n| 0101.21 .00 |  | Horses: |  |  |  |  |\n|  | 10 | Purebred breeding animals. |  |  |  |  |\n|  | 20 | Males. | No. |  |  |  |\n| 0101.29 .00 |  | Females. | No. |  |  |  |\n|  | 10 | Other. |  | Free $^{1)}$ |  | $20 \\%$ |\n|  | 10 | Imported for immediate slaughter. | No. |  |  |  |\n|  | 90 | Other. | No. |  |  |  |\n| 0101.30 .00 | 00 | Asses. | No. | $6.8 \\%^{1)}$ | Free (A+, AU, BH, CL, CO, D, E, IL, JO, KR, MA, OM, P, PA, PE, S, SG) | $15 \\%$ |\n| 0101.90 |  | Other: |  |  |  |  |\n| 0101.90.30 | 00 | Imported for immediate slaughter. | No. | Free $^{1)}$ |  | Free |\n| 0101.90.40 | 00 | Other. | No. | $4.5 \\%^{1)}$ | Free (A+, AU, BH, CL, CO, D, E, IL, JO, KR, MA, OM, P, PA, PE, S, SG) | $20 \\%$ |\n| 0102 |  | Live bovine animals: |  |  |  |  |\n| 0102.21 .00 |  | Cattle: |  |  |  |  |\n|  | 10 | Purebred breeding animals. |  | Free $^{1)}$ |  | Free |\n|  | 10 | Male. | No. |  |  |  |\n|  | 20 | Female. | No. |  |  |  |\n|  | 30 | Other: | No. |  |  |  |\n|  | 50 | Male. | No. |  |  |  |\n|  |  | Female. | No. |  |  |  |\n\n| Heading/ <br> Subheading | $\\begin{aligned} & \\text { Stat. } \\\\ & \\text { Suf- } \\\\ & \\text { fis } \\end{aligned}$ | Article Description | Unit of Quantity | Rates of Duty |  |  |\n| :--: | :--: | :--: | :--: | :--: | :--: | :--: |\n|  |  |  |  | 1 |  | 2 |\n| 0102 (con.) |  | Live bovine animals: (con.) |  |  |  |  |\n| 0102.29 |  | Cattle: (con.) |  |  |  |  |\n| 0102.29.20 |  | Other: |  | Free $^{5}$ |  | $6.6 \\notin / \\mathrm{kg}$ |\n|  | 11 | Cows imported specially for dairy purposes. |  |  |  |  |\n|  |  | Weighing less than 90 kg each..................... | No. <br> kg |  |  |  |\n|  | 12 | Weighing 90 kg or more each......................... | No. <br> kg |  |  |  |\n| 0102.29.40 |  | Other.......................................................... |  | $1 \\notin / \\mathrm{kg}^{5}$ | Free (A+, AU, BH, CL, CO, D, E, IL, JO, KR, MA, OM, P, PA, PE, S, SG) | $5.5 \\notin / \\mathrm{kg}$ |\n|  | 24 | Weighing less than 90 kg each: |  |  |  |  |\n|  |  | Male........................................................ |  |  |  |  |\n|  | 28 | Female.................................................... | No. <br> kg |  |  |  |\n|  |  | Weighing 90 kg or more but less than 200 kg each: |  |  |  |  |\n|  | 34 | Male.................................................... | No. <br> kg |  |  |  |\n|  | 38 | Female.................................................... | No. <br> kg |  |  |  |\n|  |  | Weighing 200 kg or more but less than 320 kg each: |  |  |  |  |\n|  | 54 | Male.................................................... | No. <br> kg |  |  |  |\n|  | 58 | Female.................................................... | No. <br> kg |  |  |  |\n|  |  | Weighing 320 kg or more each: |  |  |  |  |\n|  |  | For immediate slaughter: |  |  |  |  |\n|  | 62 | Steers............................................... | No. <br> kg |  |  |  |\n|  | 64 | Bulls.................................................... | No. <br> kg |  |  |  |\n|  | 66 | Cows.................................................... | No. <br> kg |  |  |  |\n|  | 68 | Heifers................................................. | No. <br> kg |  |  |  |\n|  | 68 | For breeding: |  |  |  |  |\n|  | 72 | Male.................................................... | No. <br> kg |  |  |  |\n|  | 74 | Female.................................................... | No. <br> kg |  |  |  |\n|  |  | Other: |  |  |  |  |\n|  | 82 | Male.................................................... | No. <br> kg |  |  |  |\n|  | 84 | Female.................................................... | No. <br> kg |  |  |  |\n\nHarmonized Tariff Schedule of the United States Revision 10 (2025)\nAnnotated for Statistical Reporting Purposes\n1-4\n\n| Heading/ <br> Subheading | Stat. <br> Suf- <br> fis | Article Description | Unit of Quantity | Rates of Duty |  |  |\n| :--: | :--: | :--: | :--: | :--: | :--: | :--: |\n|  |  |  |  | General | Special |  |\n| 0102 (con.) |  | Live bovine animals: (con.) |  | Free $^{5}$ |  | Free |\n| 0102.31 .00 |  | Buffalo: |  |  |  |  |\n|  | 10 | Purebred breeding animals. |  |  |  |  |\n|  | 10 | Male. | No. |  |  |  |\n|  | 20 | Female. | No. |  |  |  |\n| 0102.39.00 |  | Other. |  | $1 \\mathrm{~g} / \\mathrm{kg}^{5}$ | Free (A+, AU, BH, CL, CO, D, E, IL, JO, KR, MA, OM, P, PA, PE, S, SG) | $5.5 \\mathrm{~g} / \\mathrm{kg}$ |\n|  | 10 | Bison. | No. kg |  |  |  |\n|  |  | Other: |  |  |  |  |\n|  |  | Weighing less than 90 kg each: |  |  |  |  |\n|  | 24 | Male. | No. kg |  |  |  |\n|  | 28 | Female. | No. kg |  |  |  |\n|  |  | Weighing 90 kg or more but less than 200 kg each: |  |  |  |  |\n|  | 34 | Male. | No. kg |  |  |  |\n|  | 38 | Female. | No. kg |  |  |  |\n|  |  | Weighing 200 kg or more but less than 320 kg each: |  |  |  |  |\n|  | 54 | Male. | No. kg |  |  |  |\n|  | 58 | Female. | No. kg |  |  |  |\n|  |  | Weighing 320 kg or more each: |  |  |  |  |\n|  | 61 | For immediate slaughter. | No. kg |  |  |  |\n|  | 72 | For breeding: |  |  |  |  |\n|  | 72 | Male. | No. kg |  |  |  |\n|  | 74 | Female. | No. kg |  |  |  |\n|  | 82 | Other: |  |  |  |  |\n|  | 82 | Male. | No. kg |  |  |  |\n|  | 84 | Female. | No. kg |  |  |  |\n| 0102.90.00 | 00 | Other. | No. kg | $1 \\mathrm{~g} / \\mathrm{kg}^{5}$ | Free (A+, AU, BH, CL, CO, D, E, IL, JO, KR, MA, OM, P, PA, PE, S, SG) | $5.5 \\mathrm{~g} / \\mathrm{kg}$ |\n\n| $\\begin{aligned} & \\text { Heading/ } \\\\ & \\text { Subheading } \\end{aligned}$ | Stat. <br> Suf- <br> fis | Article Description | Unit of Quantity | Rates of Duty |  |  |\n| :--: | :--: | :--: | :--: | :--: | :--: | :--: |\n|  |  |  |  | General | Special |  |\n| 0103 |  | Live swine: |  |  |  |  |\n| 0103.10 .00 | 00 | Purebred breeding animals. | No. | Free $^{1)}$ |  | Free |\n| 0103.91 .00 |  | Other: <br> Weighing less than 50 kg each. |  | Free $^{1)}$ |  | $4.4 \\mathrm{~s} / \\mathrm{kg}$ |\n|  | 10 | Weighing less than 7 kg each. | No. <br> kg |  |  |  |\n|  | 20 | Weighing 7 kg or more but less than 23 kg each.. | No. <br> kg |  |  |  |\n|  | 30 | Weighing 23 kg or more but less than 50 kg each. | No. <br> kg |  |  |  |\n| 0103.92 .00 |  | Weighing 50 kg or more each. |  | Free $^{1)}$ |  | $4.4 \\mathrm{~s} / \\mathrm{kg}$ |\n|  | 10 | Imported for immediate slaughter. | No. <br> kg |  |  |  |\n|  | 20 | Breeding animals other than purebred breeding animals. | No. <br> kg |  |  |  |\n|  | 91 | Other. | No. <br> kg |  |  |  |\n| 0104 |  | Live sheep and goats: |  |  |  |  |\n| 0104.10 .00 | 00 | Sheep. | No. | Free $^{1)}$ |  | \\$3/head |\n| 0104.20 .00 | 00 | Goats. | No. | 68c/head ${ }^{1)}$ | Free (A+, AU, BH, CL, CO, D, E, IL, JO, KR, MA, OM, P, PA, PE, S, SG) | \\$3/head |\n\n| $\\begin{aligned} & \\text { Heading } \\\\ & \\text { Subheading } \\end{aligned}$ | Stat. <br> Suf- <br> fis | Article Description | Unit of Quantity | Rates of Duty |  |  |\n| :--: | :--: | :--: | :--: | :--: | :--: | :--: |\n|  |  |  |  | General | Special |  |\n| 0105 |  | Live poultry of the following kinds: Chickens, ducks, geese, turkeys and guineas: <br> Weighing not more than 185 g : <br> Chickens. |  |  |  |  |\n|  |  |  |  | $0.9 \\in$ each $^{1 /}$ | Free (A+, AU, BH, CL, CO, D, E, IL, JO, KR, MA, OM, P, PA, PE, S, SG) | $4 \\in$ each |\n|  | 10 |  |  |  |  |  |\n|  | 20 | Broiler-type (meat-type). | No. |  |  |  |\n|  | 40 |  |  |  |  |  |\n| 0105.12.00 | 00 | Turkeys. | No. | $0.9 \\in$ each $^{1 /}$ | Free (A+, AU, BH, CL, CO, D, E, IL, JO, KR, MA, OM, P, PA, PE, S, SG) | $4 \\in$ each |\n| 0105.13.00 | 00 | Ducks. | No. | $0.9 \\in$ each $^{1 /}$ | Free (A+, AU, BH, CL, CO, D, E, IL, JO, KR, MA, OM, P, PA, PE, S, SG) | $4 \\in$ each |\n| 0105.14.00 | 00 | Geese. | No. | $0.9 \\in$ each $^{1 /}$ | Free (A+, AU, BH, CL, CO, D, E, IL, JO, KR, MA, OM, P, PA, PE, S, SG) | $4 \\in$ each |\n| 0105.15.00 | 00 | Guinea fowls. | No. | $0.9 \\in$ each $^{1 /}$ | Free (A+, AU, BH, CL, CO, D, E, IL, JO, KR, MA, OM, P, PA, PE, S, SG) | $4 \\in$ each |\n| 0105.94.00 | 00 | Other: <br> Chickens. | No. <br> $\\mathrm{kg}$ | $2 \\mathrm{z} / \\mathrm{kg}^{1 /}$ | Free (A+, AU, BH, CL, CO, D, E, IL, JO, KR, MA, OM, P, PA, PE, S, SG) | $17.6 \\mathrm{z} / \\mathrm{kg}$ |\n| 0105.99.00 | 00 | Other. | No. <br> $\\mathrm{kg}$ | $2 \\mathrm{z} / \\mathrm{kg}^{1 /}$ | Free (A+, AU, BH, CL, CO, D, E, IL, JO, KR, MA, OM, P, PA, PE, S, SG) | $17.6 \\mathrm{z} / \\mathrm{kg}$ |\n\n| Heading/ <br> Subheading | $\\begin{aligned} & \\text { Stat. } \\\\ & \\text { Suf- } \\\\ & \\text { fis } \\end{aligned}$ | Article Description | Unit of Quantity | Rates of Duty |  |  |\n| :--: | :--: | :--: | :--: | :--: | :--: | :--: |\n|  |  |  |  | General | Special |  |\n| 0106 |  | Other live animals: Mammals: |  |  |  |  |\n| 0106.11.00 | 00 | Primates. | No. | Free ${ }^{\\text {® }}$ |  | $15 \\%$ |\n| 0106.12.01 | 00 | Whales, dolphins and porpoises (mammals of the order Cetacea); manatees and dugongs (mammals of the order Sirenia); seals, sea lions and walruses (mammals of the suborder Pinnipedia). | No. | Free ${ }^{\\text {® }}$ |  | $15 \\%$ |\n| 0106.13.00 | 00 | Camels and other camelids (Camelidae). | No. | Free ${ }^{\\text {® }}$ |  | $15 \\%$ |\n| 0106.14.00 | 00 | Rabbits and hares. | No. | Free ${ }^{\\text {® }}$ |  | $15 \\%$ |\n| 0106.19 |  | Other: |  |  |  |  |\n| 0106.19.30 | 00 | Foxes. | No. | $4.8 \\%^{\\text {® }}$ | Free (A+, AU, BH, CL, CO, D, E, IL, JO, KR, MA, OM, P, PA, PE, S, SG) | $15 \\%$ |\n| 0106.19.91 |  | Other |  | Free ${ }^{\\text {® }}$ |  | $15 \\%$ |\n|  | 20 | Dogs. | No. |  |  |  |\n|  | 95 | Other. | No. |  |  |  |\n| 0106.20.00 | 00 | Reptiles (including snakes and turtles). | No. | Free ${ }^{\\text {® }}$ |  | $15 \\%$ |\n| 0106.31.00 | 00 | Birds: |  |  |  |  |\n|  |  | Birds of prey. | No. | $1.8 \\%^{\\text {® }}$ | Free (A, AU, BH, CL, CO, D, E, IL, JO, KR, MA, OM, P, PA, PE, S, SG) | $20 \\%$ |\n| 0106.32.00 | 00 | Psittaciformes (including parrots, parakeets, macaws and cockatoos). | No. | $1.8 \\%^{\\text {® }}$ | Free (A, AU, BH, CL, CO, D, E, IL, JO, KR, MA, OM, P, PA, PE, S, SG) | $20 \\%$ |\n| 0106.33.00 | 00 | Ostriches; emus (Dromaius novaehollandiae). | No. | $1.8 \\%^{\\text {® }}$ | Free (A, AU, BH, CL, CO, D, E, IL, JO, KR, MA, OM, P, PA, PE, S, SG) | $20 \\%$ |\n| 0106.39.01 | 00 | Other. | No. | $1.8 \\%^{\\text {® }}$ | Free (A, AU, BH, CL, CO, D, E, IL, JO, KR, MA, OM, P, PA, PE, S, SG) | $20 \\%$ |\n| 0106.41.00 | 00 | Insects: |  |  |  |  |\n|  | 00 | Bees. | kg | Free ${ }^{\\text {® }}$ |  | $15 \\%$ |\n| 0106.49.00 |  | Other. |  | Free ${ }^{\\text {® }}$ |  | $15 \\%$ |\n|  | 10 | Leaf cutter bee larvae. | kg |  |  |  |\n|  | 90 | Other. | kg |  |  |  |\n| 0106.90.01 |  | Other. |  | Free ${ }^{\\text {® }}$ |  | $15 \\%$ |\n|  | 10 | Worms. | kg |  |  |  |\n|  | 20 | Bait (other than worms). | kg |  |  |  |\n|  | 80 | Other. | kg |  |  |  |\n\nEndnotes-page 1 - 8\n1/ See 9903.88.15."
          },
          "metadata": {}
        }
      ]
    },
    {
      "cell_type": "code",
      "source": [
        "# Import required libraries\n",
        "from pathlib import Path\n",
        "from mistralai import DocumentURLChunk\n",
        "from mistralai.models import OCRResponse\n",
        "import json\n",
        "from IPython.display import display, Markdown\n",
        "\n",
        "# Step 1: Verify PDF file exists\n",
        "pdf_file = Path(\"/content/Chapter 1.pdf\")\n",
        "assert pdf_file.is_file()\n",
        "\n",
        "# Step 2: Upload PDF to Mistral's OCR\n",
        "uploaded_file = client.files.upload(\n",
        "    file={\n",
        "        \"file_name\": pdf_file.stem,\n",
        "        \"content\": pdf_file.read_bytes(),\n",
        "    },\n",
        "    purpose=\"ocr\",\n",
        ")\n",
        "\n",
        "# Step 3: Get signed URL for OCR\n",
        "signed_url = client.files.get_signed_url(file_id=uploaded_file.id, expiry=1)\n",
        "\n",
        "# Step 4: Run OCR with images\n",
        "ocr_response = client.ocr.process(\n",
        "    document=DocumentURLChunk(document_url=signed_url.url),\n",
        "    model=\"mistral-ocr-latest\",\n",
        "    include_image_base64=True\n",
        ")\n",
        "\n",
        "# Optional: Convert to dict for inspection\n",
        "ocr_data = json.loads(ocr_response.model_dump_json())\n",
        "\n",
        "# Step 5: Extract only tables using mistral-small-2503\n",
        "# Create combined markdown text (raw OCR output)\n",
        "def get_combined_text(ocr_response: OCRResponse) -> str:\n",
        "    text = \"\"\n",
        "    for page in ocr_response.pages:\n",
        "        text += page.markdown + \"\\n\\n\"\n",
        "    return text\n",
        "\n",
        "combined_text = get_combined_text(ocr_response)\n",
        "\n",
        "\n",
        "system_prompt = \"Extract only the **table contents** (in markdown or plain table format) from the following OCR text.\"\n",
        "user_prompt = combined_text[:20000]\n",
        "\n",
        "\n",
        "table_response = client.chat.complete(\n",
        "    model=\"mistral-small-2503\",\n",
        "    messages=[\n",
        "        {\"role\": \"system\", \"content\": system_prompt},\n",
        "        {\"role\": \"user\", \"content\": user_prompt}\n",
        "    ]\n",
        ")\n",
        "\n",
        "print(\"Extracted Tables:\\n\")\n",
        "display(Markdown(table_response.choices[0].message.content))\n"
      ],
      "metadata": {
        "colab": {
          "base_uri": "https://localhost:8080/",
          "height": 1000
        },
        "id": "hBEVhIjX35bf",
        "outputId": "ff0ea77d-bf8c-4d01-e2cb-1dce9c6bc413"
      },
      "execution_count": null,
      "outputs": [
        {
          "output_type": "stream",
          "name": "stdout",
          "text": [
            "📝 Extracted Tables:\n",
            "\n"
          ]
        },
        {
          "output_type": "display_data",
          "data": {
            "text/plain": [
              "<IPython.core.display.Markdown object>"
            ],
            "text/markdown": "Here is the table contents extracted in markdown format:\n\n```markdown\n| Heading/Subheading | Stat. Suf- fis | Article Description | Unit of Quantity | Rates of Duty |  |  |\n|---------------------|----------------|---------------------|------------------|----------------|----------------|----------------|\n|                     |                |                     |                  | General         | Special         |                |\n| 0101               |                | Live horses, asses, mules and hinnies: |                  | Free¹          |                | Free           |\n| 0101.21.00         |                | Horses:             |                  |                |                |                |\n|                     | 10             | Purebred breeding animals. |                  |                |                |                |\n|                     | 20             | Males.             | No.              |                |                |                |\n| 0101.29.00         |                | Females.           | No.              |                |                |                |\n|                     | 10             | Other.             |                  | Free¹          |                | 20%            |\n|                     | 90             | Imported for immediate slaughter. | No. |                |                |                |\n|                     | 90             | Other.             | No.              |                |                |                |\n| 0101.30.00         | 00             | Asses.             | No.              | 6.8%¹          | Free (A+, AU, BH, CL, CO, D, E, IL, JO, KR, MA, OM, P, PA, PE, S, SG) | 15% |\n| 0101.90            |                | Other:             |                  |                |                |                |\n| 0101.90.30         | 00             | Imported for immediate slaughter. | No. | Free¹          |                | Free           |\n| 0101.90.40         | 00             | Other.             | No.              | 4.5%¹          | Free (A+, AU, BH, CL, CO, D, E, IL, JO, KR, MA, OM, P, PA, PE, S, SG) | 20% |\n| 0102               |                | Live bovine animals: |                  |                |                |                |\n| 0102.21.00         |                | Cattle:           |                  |                |                |                |\n|                     | 10             | Purebred breeding animals. |                  | Free¹          |                | Free           |\n|                     | 20             | Male.             | No.              |                |                |                |\n|                     | 30             | Female.           | No.              |                |                |                |\n|                     | 50             | Other:           | No.              |                |                |                |\n|                     |                | Male.             | No.              |                |                |                |\n| 0102.29.20         |                | Other:           |                  | Free¹          |                | 6.6¢/kg       |\n|                     | 11             | Cows imported specially for dairy purposes. |                  |                |                |                |\n|                     |                | Weighing less than 90 kg each. | No. kg |                |                |                |\n|                     | 12             | Weighing 90 kg or more each. | No. kg |                |                |                |\n| 0102.29.40         |                | Other.           |                  | 1¢/kg¹         | Free (A+, AU, BH, CL, CO, D, E, IL, JO, KR, MA, OM, P, PA, PE, S, SG) | 5.5¢/kg       |\n|                     | 24             | Weighing less than 90 kg each: |                  |                |                |                |\n|                     |                | Male.             | No. kg          |                |                |                |\n|                     | 28             | Female.           | No. kg          |                |                |                |\n|                     |                | Weighing 90 kg or more but less than 200 kg each: |                  |                |                |                |\n|                     | 34             | Male.             | No. kg          |                |                |                |\n|                     | 38             | Female.           | No. kg          |                |                |                |\n|                     |                | Weighing 200 kg or more but less than 320 kg each: |                  |                |                |                |\n|                     | 54             | Male.             | No. kg          |                |                |                |\n|                     | 58             | Female.           | No. kg          |                |                |                |\n|                     |                | Weighing 320 kg or more each: |                  |                |                |                |\n|                     |                | For immediate slaughter: |                  |                |                |                |\n|                     | 62             | Steers.           | No. kg          |                |                |                |\n|                     | 64             | Bulls.            | No. kg          |                |                |                |\n|                     | 66             | Cows.             | No. kg          |                |                |                |\n|                     | 68             | Heifers.          | No. kg          |                |                |                |\n|                     | 68             | For breeding:     |                  |                |                |                |\n|                     | 72             | Male.             | No. kg          |                |                |                |\n|                     | 74             | Female.           | No. kg          |                |                |                |\n|                     |                | Other:           |                  |                |                |                |\n|                     | 82             | Male.             | No. kg          |                |                |                |\n|                     | 84             | Female.           | No. kg          |                |                |                |\n| 0102.31.00         |                | Buffalo:          |                  |                |                |                |\n|                     | 10             | Purebred breeding animals. |                  |                |                |                |\n|                     | 10             | Male.             | No.              |                |                |                |\n|                     | 20             | Female.           | No.              |                |                |                |\n| 0102.39.00         |                | Other.            |                  | 1¢/kg¹         | Free (A+, AU, BH, CL, CO, D, E, IL, JO, KR, MA, OM, P, PA, PE, S, SG) | 5.5¢/kg       |\n|                     | 10             | Bison.            | No. kg          |                |                |                |\n|                     |                | Other:           |                  |                |                |                |\n|                     |                | Weighing less than 90 kg each: |                  |                |                |                |\n|                     | 24             | Male.             | No. kg          |                |                |                |\n|                     | 28             | Female.           | No. kg          |                |                |                |\n|                     |                | Weighing 90 kg or more but less than 200 kg each: |                  |                |                |                |\n|                     | 34             | Male.             | No. kg          |                |                |                |\n|                     | 38             | Female.           | No. kg          |                |                |                |\n|                     |                | Weighing 200 kg or more but less than 320 kg each: |                  |                |                |                |\n|                     | 54             | Male.             | No. kg          |                |                |                |\n|                     | 58             | Female.           | No. kg          |                |                |                |\n|                     |                | Weighing 320 kg or more each: |                  |                |                |                |\n|                     | 61             | For immediate slaughter. | No. kg |                |                |                |\n|                     | 72             | For breeding:     |                  |                |                |                |\n|                     | 72             | Male.             | No. kg          |                |                |                |\n|                     | 74             | Female.           | No. kg          |                |                |                |\n|                     | 82             | Other:           |                  |                |                |                |\n|                     | 82             | Male.             | No. kg          |                |                |                |\n|                     | 84             | Female.           | No. kg          |                |                |                |\n| 0102.90.00         | 00             | Other.            | No. kg          | 1¢/kg¹         | Free (A+, AU, BH, CL, CO, D, E, IL, JO, KR, MA, OM, P, PA, PE, S, SG) | 5.5¢/kg       |\n| 0103               |                | Live swine:       |                  |                |                |                |\n| 0103.10.00         | 00             | Purebred breeding animals. | No. | Free¹          |                | Free           |\n| 0103.91.00         |                | Other:           |                  | Free¹          |                | 4.4¢/kg       |\n|                     | 10             | Weighing less than 7 kg each. | No. kg |                |                |                |\n|                     | 20             | Weighing 7 kg or more but less than 23 kg each. | No. kg |                |                |                |\n|                     | 30             | Weighing 23 kg or more but less than 50 kg each. | No. kg |                |                |                |\n| 0103.92.00         |                | Weighing 50 kg or more each. |                  | Free¹          |                | 4.4¢/kg       |\n|                     | 10             | Imported for immediate slaughter. | No. kg |                |                |                |\n|                     | 20             | Breeding animals other than purebred breeding animals. | No. kg |                |                |                |\n|                     | 91             | Other.            | No. kg          |                |                |                |\n| 0104               |                | Live sheep and goats: |                  |                |                |                |\n| 0104.10.00         | 00             | Sheep.            | No.              | Free¹          |                | $3/head       |\n| 0104.20.00         | 00             | Goats.            | No.              | 68c/head¹      | Free (A+, AU, BH, CL, CO, D, E, IL, JO, KR, MA, OM, P, PA, PE, S, SG) | $3/head       |\n| 0105               |                | Live poultry of the following kinds: Chickens, ducks, geese, turkeys and guineas: |                  |                |                |                |\n|                     |                | Weighing not more than 185 g: |                  |                |                |                |\n|                     |                | Chickens.        |                  | 0.9¢ each¹     | Free (A+, AU, BH, CL, CO, D, E, IL, JO, KR, MA, OM, P, PA, PE, S, SG) | 4¢ each       |\n|                     | 10             |                  | No.              |                |                |                |\n|                     | 20             | Broiler-type (meat-type). | No. |                |                |                |\n|                     | 40             |                  | No.              |                |                |                |\n| 0105.12.00         | 00             | Turkeys.          | No.              | 0.9¢ each¹     | Free (A+, AU, BH, CL, CO, D, E, IL, JO, KR, MA, OM, P, PA, PE, S, SG) | 4¢ each       |\n| 0105.13.00         | 00             | Ducks.            | No.              | 0.9¢ each¹     | Free (A+, AU, BH, CL, CO, D, E, IL, JO, KR, MA, OM, P, PA, PE, S, SG) | 4¢ each       |\n| 0105.14.00         | 00             | Geese.            | No.              | 0.9¢ each¹     | Free (A+, AU, BH, CL, CO, D, E, IL, JO, KR, MA, OM, P, PA, PE, S, SG) | 4¢ each       |\n| 0105.15.00         | 00             | Guinea fowls.     | No.              | 0.9¢ each¹     | Free (A+, AU, BH, CL, CO, D, E, IL, JO, KR, MA, OM, P, PA, PE, S, SG) | 4¢ each       |\n| 0105.94.00         | 00             | Other:           | No. kg          | 2¢/kg¹         | Free (A+, AU, BH, CL, CO, D, E, IL, JO, KR, MA, OM, P, PA, PE, S, SG) | 17.6¢/kg      |\n| 0105.99.00         | 00             | Other.            | No. kg          | 2¢/kg¹         | Free (A+, AU, BH, CL, CO, D, E, IL, JO, KR, MA, OM, P, PA, PE, S, SG) | 17.6¢/kg      |\n| 0106               |                | Other live animals: Mammals: |                  |                |                |                |\n| 0106.11.00         | 00             | Primates.         | No.              | Free¹          |                | 15%            |\n| 0106.12.01         | 00             | Whales, dolphins and porpoises (mammals of the order Cetacea); manatees and dugongs (mammals of the order Sirenia); seals, sea lions and walruses (mammals of the suborder Pinnipedia). | No. | Free¹          |                | 15%            |\n| 0106.13.00         | 00             | Camels and other camelids (Camelidae). | No. | Free¹          |                | 15%            |\n| 0106.14.00         | 00             | Rabbits and hares. | No. | Free¹          |                | 15%            |\n| 0106.19            |                | Other:           |                  |                |                |                |\n| 0106.19.30         | 00             | Foxes.            | No.              | 4.8%¹          | Free (A+, AU, BH, CL, CO, D, E, IL, JO, KR, MA, OM, P, PA, PE, S, SG) | 15%            |\n| 0106.19.91         |                | Other.            |                  | Free¹          |                | 15%            |\n|                     | 20             | Dogs.             | No.              |                |                |                |\n|                     | 95             | Other.            | No.              |                |                |                |\n| 0106.20.00         | 00             | Reptiles (including snakes and turtles). | No. | Free¹          |                | 15%            |\n| 0106.31.00         | 00             | Birds:           |                  |                |                |                |\n|                     |                | Birds of prey.   | No.              | 1.8%¹          | Free (A, AU, BH, CL, CO, D, E, IL, JO, KR, MA, OM, P, PA, PE, S, SG) | 20%            |\n| 0106.32.00         | 00             | Psittaciformes (including parrots, parakeets, macaws and cockatoos). | No. | 1.8%¹          | Free (A, AU, BH, CL, CO, D, E, IL, JO, KR, MA, OM, P, PA, PE, S, SG) | 20%            |\n| 0106.33.00         | 00             | Ostriches; emus (Dromaius novaehollandiae). | No. | 1.8%¹          | Free (A, AU, BH, CL, CO, D, E, IL, JO, KR, MA, OM, P, PA, PE, S, SG) | 20%            |\n| 0106.39.01         | 00             | Other.            | No.              | 1.8%¹          | Free (A, AU, BH, CL, CO, D, E, IL, JO, KR, MA, OM, P, PA, PE, S, SG) | 20%            |\n| 0106.41.00         | 00             | Insects:         |                  |                |                |                |\n|                     | 00             | Bees.             | kg               | Free¹          |                | 15%            |\n| 0106.49.00         |                | Other.            |                  | Free¹          |                | 15%            |\n|                     | 10             | Leaf cutter bee larvae. | kg |                |                |                |\n|                     | 90             | Other.            | kg               |                |                |                |\n| 0106.90.01         |                | Other.            |                  | Free¹          |                | 15%            |\n|                     | 10             | Worms.            | kg               |                |                |                |\n|                     | 20             | Bait (other than worms). | kg |                |                |                |\n|                     | 80             | Other.            | kg               |                |                |                |\n```"
          },
          "metadata": {}
        }
      ]
    },
    {
      "cell_type": "code",
      "source": [
        "from pathlib import Path\n",
        "from mistralai import DocumentURLChunk\n",
        "from mistralai.models import OCRResponse\n",
        "import json\n",
        "from IPython.display import display, Markdown\n",
        "from google.colab import files\n",
        "import csv\n",
        "import re\n",
        "import time\n",
        "\n",
        "uploaded = files.upload()\n",
        "\n",
        "def get_combined_text(ocr_response: OCRResponse) -> str:\n",
        "    text = \"\"\n",
        "    for page in ocr_response.pages:\n",
        "        text += page.markdown + \"\\n\\n\"\n",
        "    return text\n",
        "\n",
        "\n",
        "for file_name in uploaded.keys():\n",
        "    print(f\"\\nProcessing file: {file_name}\")\n",
        "    start_time = time.time()\n",
        "\n",
        "    pdf_path = Path(f\"/content/{file_name}\")\n",
        "    assert pdf_path.is_file()\n",
        "\n",
        "    uploaded_file = client.files.upload(\n",
        "        file={\n",
        "            \"file_name\": pdf_path.stem,\n",
        "            \"content\": pdf_path.read_bytes(),\n",
        "        },\n",
        "        purpose=\"ocr\",\n",
        "    )\n",
        "\n",
        "    signed_url = client.files.get_signed_url(file_id=uploaded_file.id, expiry=1)\n",
        "\n",
        "    ocr_response = client.ocr.process(\n",
        "        document=DocumentURLChunk(document_url=signed_url.url),\n",
        "        model=\"mistral-ocr-latest\",\n",
        "        include_image_base64=True\n",
        "    )\n",
        "\n",
        "    combined_text = get_combined_text(ocr_response)\n",
        "\n",
        "    system_prompt = \"Extract only the **table contents** (in markdown or plain table format) from the following OCR text.\"\n",
        "    user_prompt = combined_text[:20000]  # Adjust if needed for long text\n",
        "\n",
        "    table_response = client.chat.complete(\n",
        "        model=\"mistral-small-2503\",\n",
        "        messages=[\n",
        "            {\"role\": \"system\", \"content\": system_prompt},\n",
        "            {\"role\": \"user\", \"content\": user_prompt}\n",
        "        ]\n",
        "    )\n",
        "\n",
        "    markdown_content = table_response.choices[0].message.content\n",
        "    print(f\"\\n📄 Extracted tables for {file_name}:\\n\")\n",
        "    display(Markdown(markdown_content))\n",
        "\n",
        "    lines = markdown_content.strip().split('\\n')\n",
        "    table_lines = [line for line in lines if '|' in line and not re.match(r'^\\s*\\|?\\s*-+\\s*\\|?', line)]\n",
        "    table_data = [list(map(str.strip, line.strip('|').split('|'))) for line in table_lines]\n",
        "\n",
        "    csv_name = pdf_path.stem + \"_table.csv\"\n",
        "    with open(csv_name, mode='w', newline='', encoding='utf-8') as f:\n",
        "        writer = csv.writer(f)\n",
        "        writer.writerows(table_data)\n",
        "\n",
        "    end_time = time.time()\n",
        "    duration = end_time - start_time\n",
        "\n",
        "    print(f\"✅ Saved extracted table as: {csv_name}\")\n",
        "\n",
        "    print(f\"Time taken for {file_name}: {duration:.2f} seconds\")\n"
      ],
      "metadata": {
        "colab": {
          "base_uri": "https://localhost:8080/",
          "height": 1000
        },
        "id": "XmqBoHwVId0T",
        "outputId": "dfdcbee0-2a5d-4bc9-8617-fbdac29df150"
      },
      "execution_count": null,
      "outputs": [
        {
          "output_type": "display_data",
          "data": {
            "text/plain": [
              "<IPython.core.display.HTML object>"
            ],
            "text/html": [
              "\n",
              "     <input type=\"file\" id=\"files-528f921f-5ddf-4b09-8a81-cf701fb2bff6\" name=\"files[]\" multiple disabled\n",
              "        style=\"border:none\" />\n",
              "     <output id=\"result-528f921f-5ddf-4b09-8a81-cf701fb2bff6\">\n",
              "      Upload widget is only available when the cell has been executed in the\n",
              "      current browser session. Please rerun this cell to enable.\n",
              "      </output>\n",
              "      <script>// Copyright 2017 Google LLC\n",
              "//\n",
              "// Licensed under the Apache License, Version 2.0 (the \"License\");\n",
              "// you may not use this file except in compliance with the License.\n",
              "// You may obtain a copy of the License at\n",
              "//\n",
              "//      http://www.apache.org/licenses/LICENSE-2.0\n",
              "//\n",
              "// Unless required by applicable law or agreed to in writing, software\n",
              "// distributed under the License is distributed on an \"AS IS\" BASIS,\n",
              "// WITHOUT WARRANTIES OR CONDITIONS OF ANY KIND, either express or implied.\n",
              "// See the License for the specific language governing permissions and\n",
              "// limitations under the License.\n",
              "\n",
              "/**\n",
              " * @fileoverview Helpers for google.colab Python module.\n",
              " */\n",
              "(function(scope) {\n",
              "function span(text, styleAttributes = {}) {\n",
              "  const element = document.createElement('span');\n",
              "  element.textContent = text;\n",
              "  for (const key of Object.keys(styleAttributes)) {\n",
              "    element.style[key] = styleAttributes[key];\n",
              "  }\n",
              "  return element;\n",
              "}\n",
              "\n",
              "// Max number of bytes which will be uploaded at a time.\n",
              "const MAX_PAYLOAD_SIZE = 100 * 1024;\n",
              "\n",
              "function _uploadFiles(inputId, outputId) {\n",
              "  const steps = uploadFilesStep(inputId, outputId);\n",
              "  const outputElement = document.getElementById(outputId);\n",
              "  // Cache steps on the outputElement to make it available for the next call\n",
              "  // to uploadFilesContinue from Python.\n",
              "  outputElement.steps = steps;\n",
              "\n",
              "  return _uploadFilesContinue(outputId);\n",
              "}\n",
              "\n",
              "// This is roughly an async generator (not supported in the browser yet),\n",
              "// where there are multiple asynchronous steps and the Python side is going\n",
              "// to poll for completion of each step.\n",
              "// This uses a Promise to block the python side on completion of each step,\n",
              "// then passes the result of the previous step as the input to the next step.\n",
              "function _uploadFilesContinue(outputId) {\n",
              "  const outputElement = document.getElementById(outputId);\n",
              "  const steps = outputElement.steps;\n",
              "\n",
              "  const next = steps.next(outputElement.lastPromiseValue);\n",
              "  return Promise.resolve(next.value.promise).then((value) => {\n",
              "    // Cache the last promise value to make it available to the next\n",
              "    // step of the generator.\n",
              "    outputElement.lastPromiseValue = value;\n",
              "    return next.value.response;\n",
              "  });\n",
              "}\n",
              "\n",
              "/**\n",
              " * Generator function which is called between each async step of the upload\n",
              " * process.\n",
              " * @param {string} inputId Element ID of the input file picker element.\n",
              " * @param {string} outputId Element ID of the output display.\n",
              " * @return {!Iterable<!Object>} Iterable of next steps.\n",
              " */\n",
              "function* uploadFilesStep(inputId, outputId) {\n",
              "  const inputElement = document.getElementById(inputId);\n",
              "  inputElement.disabled = false;\n",
              "\n",
              "  const outputElement = document.getElementById(outputId);\n",
              "  outputElement.innerHTML = '';\n",
              "\n",
              "  const pickedPromise = new Promise((resolve) => {\n",
              "    inputElement.addEventListener('change', (e) => {\n",
              "      resolve(e.target.files);\n",
              "    });\n",
              "  });\n",
              "\n",
              "  const cancel = document.createElement('button');\n",
              "  inputElement.parentElement.appendChild(cancel);\n",
              "  cancel.textContent = 'Cancel upload';\n",
              "  const cancelPromise = new Promise((resolve) => {\n",
              "    cancel.onclick = () => {\n",
              "      resolve(null);\n",
              "    };\n",
              "  });\n",
              "\n",
              "  // Wait for the user to pick the files.\n",
              "  const files = yield {\n",
              "    promise: Promise.race([pickedPromise, cancelPromise]),\n",
              "    response: {\n",
              "      action: 'starting',\n",
              "    }\n",
              "  };\n",
              "\n",
              "  cancel.remove();\n",
              "\n",
              "  // Disable the input element since further picks are not allowed.\n",
              "  inputElement.disabled = true;\n",
              "\n",
              "  if (!files) {\n",
              "    return {\n",
              "      response: {\n",
              "        action: 'complete',\n",
              "      }\n",
              "    };\n",
              "  }\n",
              "\n",
              "  for (const file of files) {\n",
              "    const li = document.createElement('li');\n",
              "    li.append(span(file.name, {fontWeight: 'bold'}));\n",
              "    li.append(span(\n",
              "        `(${file.type || 'n/a'}) - ${file.size} bytes, ` +\n",
              "        `last modified: ${\n",
              "            file.lastModifiedDate ? file.lastModifiedDate.toLocaleDateString() :\n",
              "                                    'n/a'} - `));\n",
              "    const percent = span('0% done');\n",
              "    li.appendChild(percent);\n",
              "\n",
              "    outputElement.appendChild(li);\n",
              "\n",
              "    const fileDataPromise = new Promise((resolve) => {\n",
              "      const reader = new FileReader();\n",
              "      reader.onload = (e) => {\n",
              "        resolve(e.target.result);\n",
              "      };\n",
              "      reader.readAsArrayBuffer(file);\n",
              "    });\n",
              "    // Wait for the data to be ready.\n",
              "    let fileData = yield {\n",
              "      promise: fileDataPromise,\n",
              "      response: {\n",
              "        action: 'continue',\n",
              "      }\n",
              "    };\n",
              "\n",
              "    // Use a chunked sending to avoid message size limits. See b/62115660.\n",
              "    let position = 0;\n",
              "    do {\n",
              "      const length = Math.min(fileData.byteLength - position, MAX_PAYLOAD_SIZE);\n",
              "      const chunk = new Uint8Array(fileData, position, length);\n",
              "      position += length;\n",
              "\n",
              "      const base64 = btoa(String.fromCharCode.apply(null, chunk));\n",
              "      yield {\n",
              "        response: {\n",
              "          action: 'append',\n",
              "          file: file.name,\n",
              "          data: base64,\n",
              "        },\n",
              "      };\n",
              "\n",
              "      let percentDone = fileData.byteLength === 0 ?\n",
              "          100 :\n",
              "          Math.round((position / fileData.byteLength) * 100);\n",
              "      percent.textContent = `${percentDone}% done`;\n",
              "\n",
              "    } while (position < fileData.byteLength);\n",
              "  }\n",
              "\n",
              "  // All done.\n",
              "  yield {\n",
              "    response: {\n",
              "      action: 'complete',\n",
              "    }\n",
              "  };\n",
              "}\n",
              "\n",
              "scope.google = scope.google || {};\n",
              "scope.google.colab = scope.google.colab || {};\n",
              "scope.google.colab._files = {\n",
              "  _uploadFiles,\n",
              "  _uploadFilesContinue,\n",
              "};\n",
              "})(self);\n",
              "</script> "
            ]
          },
          "metadata": {}
        },
        {
          "output_type": "stream",
          "name": "stdout",
          "text": [
            "Saving Chapter 2.pdf to Chapter 2 (1).pdf\n",
            "Saving Chapter 6.pdf to Chapter 6 (1).pdf\n",
            "Saving Chapter 3.pdf to Chapter 3 (1).pdf\n",
            "Saving Chapter 1.pdf to Chapter 1 (1).pdf\n",
            "\n",
            "🔄 Processing file: Chapter 2 (1).pdf\n",
            "\n",
            "📄 Extracted tables for Chapter 2 (1).pdf:\n",
            "\n"
          ]
        },
        {
          "output_type": "display_data",
          "data": {
            "text/plain": [
              "<IPython.core.display.Markdown object>"
            ],
            "text/markdown": "Here are the tables extracted from the text:\n\n**Table 1: Quantity Limits for Beef Imports**\n\n| Country/Area | Quantity (metric ton) |\n|---------------|------------------------|\n| Canada       | No limit               |\n| Mexico       | No limit               |\n| Australia    | 378,214                |\n| New Zealand  | 213,402                |\n| Argentina    | 20,000                 |\n| Uruguay      | 20,000                 |\n| Other countries or areas | 65,005 |\n\n**Table 2: Rates of Duty for Meat of Bovine Animals, Fresh or Chilled**\n\n| Heading/Subheading | Stat. Suf. | Article Description | Unit of Quantity | General | Special | Column 3 |\n|---------------------|------------|---------------------|------------------|---------|----------|-----------|\n| 0201.10.05         |            | Described in general note 15 | kg | 4.4¢/kg | Free (A+, AU, BH, CL, CO, D, E*, IL, JO, KR, MA, OM, P, PA, PE, S, SG) | 13.2¢/kg |\n| 0201.10.10         |            | Other | kg | 4.4¢/kg | Free (A+, AU, BH, CL, CO, D, E*, IL, JO, KR, MA, OM, P, PA, PE, S, SG) | 13.2¢/kg |\n| 0201.10.50         |            | Other | kg | 26.4% | Free (BH, CL, CO, JO, MA, OM, P, PE, S, SG) 1.7% (KR) See 9822.04.01-9822.04.03 (AU) See 9919.02.01-9919.02.02 (PA) | 31.1% |\n| 0201.20.02         | 00         | High-quality beef cuts | kg | 4% | Free (A+, AU, BH, CL, CO, D, E*, IL, JO, KR, MA, OM, P, PA, PE, S, SG) | 20% |\n| 0201.20.04         | 00         | Other | kg | 10% | Free (A+, AU, BH, CL, CO, D, E*, IL, JO, KR, MA, OM, P, PA, PE, S, SG) | 20% |\n| 0201.20.06         | 00         | Other | kg | 4.4¢/kg | Free (A+, AU, BH, CL, CO, D, E*, IL, JO, KR, MA, OM, P, PA, PE, S, SG) | 13.2¢/kg |\n| 0201.20.10         | 00         | High-quality beef cuts | kg | 4% | Free (A+, AU, BH, CL, CO, D, E*, IL, JO, KR, MA, OM, P, PA, PE, S, SG) | 20% |\n| 0201.20.30         | 00         | Other | kg | 10% | Free (A+, AU, BH, CL, CO, D, E*, IL, JO, KR, MA, OM, P, PA, PE, S, SG) | 20% |\n| 0201.20.50         |            | Other | kg | 4.4¢/kg | Free (A+, AU, BH, CL, CO, D, E*, IL, JO, KR, MA, OM, P, PA, PE, S, SG) | 13.2¢/kg |\n| 0201.20.80         |            | Other | kg | 26.4% | Free (BH, CL, CO, JO, MA, OM, P, PE, S, SG) 1.7% (KR) See 9822.04.01-9822.04.03 (AU) See 9919.02.01-9919.02.02 (PA) | 31.1% |\n| 0201.30.02         | 00         | High-quality beef cuts | kg | 4% | Free (A+, AU, BH, CL, CO, D, E*, IL, JO, KR, MA, OM, P, PA, PE, S, SG) | 20% |\n| 0201.30.04         | 00         | Other | kg | 10% | Free (A+, AU, BH, CL, CO, D, E*, IL, JO, KR, MA, OM, P, PA, PE, S, SG) | 20% |\n| 0201.30.06         | 00         | Other | kg | 4.4¢/kg | Free (A+, AU, BH, CL, CO, D, E*, IL, JO, KR, MA, OM, P, PA, PE, S, SG) | 13.2¢/kg |\n| 0201.30.10         | 00         | High-quality beef cuts | kg | 4% | Free (A+, AU, BH, CL, CO, D, E*, IL, JO, KR, MA, OM, P, PA, PE, S, SG) | 20% |\n| 0201.30.30         | 00         | Other | kg | 10% | Free (A+, AU, BH, CL, CO, D, E*, IL, JO, KR, MA, OM, P, PA, PE, S, SG) | 20% |\n| 0201.30.50         |            | Other | kg | 4.4¢/kg | Free (A+, AU, BH, CL, CO, D, E*, IL, JO, KR, MA, OM, P, PA, PE, S, SG) | 13.2¢/kg |\n| 0201.30.80         |            | Other | kg | 26.4% | Free (BH, CL, CO, JO, MA, OM, P, PE, S, SG) 1.7% (KR) See 9822.04.01-9822.04.03 (AU) See 9919.02.01-9919.02.02 (PA) | 31.1% |\n\n**Table 3: Rates of Duty for Meat of Bovine Animals, Frozen**\n\n| Heading/Subheading | Stat. Suf. | Article Description | Unit of Quantity | General | Special | Column 3 |\n|---------------------|------------|---------------------|------------------|---------|----------|-----------|\n| 0202.10.05         |            | Described in general note 15 | kg | 4.4¢/kg | Free (A+, AU, BH, CL, CO, D, E*, IL, JO, KR, MA, OM, P, PA, PE, S, SG) | 13.2¢/kg |\n| 0202.10.10         |            | Other | kg | 4.4¢/kg | Free (A+, AU, BH, CL, CO, D, E*, IL, JO, KR, MA, OM, P, PA, PE, S, SG) | 13.2¢/kg |\n| 0202.10.50         |            | Other | kg | 26.4% | Free (BH, CL, CO, JO, MA, OM, P, PE, S, SG) 1.7% (KR) See 9822.04.01-9822.04.03 (AU) See 9919.02.01-9919.02.02 (PA) | 31.1% |\n| 0202.20.02         | 00         | High-quality beef cuts | kg | 4% | Free (A+, AU, BH, CL, CO, D, E*, IL, JO, KR, MA, OM, P, PA, PE, S, SG) | 20% |\n| 0202.20.04         | 00         | Other | kg | 10% | Free (A+, AU, BH, CL, CO, D, E*, IL, JO, KR, MA, OM, P, PA, PE, S, SG) | 20% |\n| 0202.20.06         | 00         | Other | kg | 4.4¢/kg | Free (A+, AU, BH, CL, CO, D, E*, IL, JO, KR, MA, OM, P, PA, PE, S, SG) | 13.2¢/kg |\n| 0202.20.10         | 00         | High-quality beef cuts | kg | 4% | Free (A+, AU, BH, CL, CO, D, E*, IL, JO, KR, MA, OM, P, PA, PE, S, SG) | 20% |\n| 0202.20.30         | 00         | Other | kg | 10% | Free (A+, AU, BH, CL, CO, D, E*, IL, JO, KR, MA, OM, P, PA, PE, S, SG) | 20% |\n| 0202.20.50         |            | Other | kg | 4.4¢/kg | Free (A+, AU, BH, CL, CO, D, E*, IL, JO, KR, MA, OM, P, PA, PE, S, SG) | 13.2¢/kg |\n| 0202.20.80         | 00         | Other | kg | 26.4% | Free (BH, CL, CO, JO, MA, OM, P, PE, S, SG) 1.7% (KR) See 9822.04.01-9822.04.03 (AU) See 9919.02.01-9919.02.02 (PA) | 31.1% |\n| 0202.30.02         | 00         | High-quality beef cuts | kg | 4% | Free (A+, AU, BH, CL, CO, D, E*, IL, JO, KR, MA, OM, P, PA, PE, S, SG) | 20% |\n| 0202.30.04         | 00         | Other | kg | 10% | Free (A+, AU, BH, CL, CO, D, E*, IL, JO, KR, MA, OM, P, PA, PE, S, SG) | 20% |\n| 0202.30.06         | 00         | Other | kg | 4.4¢/kg | Free (A+, AU, BH, CL, CO, D, E*, IL, JO, KR, MA, OM, P, PA, PE, S, SG) | 13.2¢/kg |\n| 0202.30.10         | 00         | High-quality beef cuts | kg | 4% | Free (A+, AU, BH, CL, CO, D, E*, IL, JO, KR, MA, OM, P, PA, PE, S, SG) | 20% |\n| 0202.30.30         | 00         | Other | kg | 10% | Free (A+, AU, BH, CL, CO, D, E*, IL, JO, KR, MA, OM, P, PA, PE, S, SG) | 20% |\n| 0202.30.50         |            | Other | kg | 4.4¢/kg | Free (A+, AU, BH, CL, CO, D, E*, IL, JO, KR, MA, OM, P, PA, PE, S, SG) | 13.2¢/kg |\n| 0202.30.80         | 00         | Other | kg | 26.4% | Free (BH, CL, CO, JO, MA, OM, P, PE, S, SG) 1.7% (KR) See 9822.04.01-9822.04.03 (AU) See 9919.02.01-9919.02.02 (PA) | 31.1% |\n\n**Table 4: Rates of Duty for Meat of Swine, Fresh, Chilled, or Frozen**\n\n| Heading/Subheading | Stat. Suf. | Article Description | Unit of Quantity | General | Special | Column 3 |\n|---------------------|------------|---------------------|------------------|---------|----------|-----------|\n| 0203.11.00         | 00         | Carcasses and half-carcasses | kg | Free |  | 5.5¢/kg |\n| 0203.12.10         |            | Hams, shoulders and cuts thereof, with bone in: Processed | kg | 1.4¢/kg | Free (A+, AU, BH, JO, KR, MA, OM, P, PA, PE, S, SG) | 7.2¢/kg |\n| 0203.12.90         |            | Other | kg | Free |  | 5.5¢/kg |\n| 0203.19.20         |            | Processed | kg | 1.4¢/kg | Free (A+, AU, BH, JO, KR, MA, OM, P, PA, PE, S, SG) | 7.2¢/kg |\n| 0203.19.40         |            | Other | kg | Free |  | 5.5¢/kg |\n| 0203.21.00         | 00         | Carcasses and half-carcasses | kg | Free |  | 5.5¢/kg |\n| 0203.22.10         | 00         | Processed | kg | 1.4¢/kg | Free (A, AU, BH, CL, CO, D, E, IL, JO, KR, MA, OM, P, PA, PE, S, SG) | 7.2¢/kg |\n| 0203.22.90         | 00         | Other | kg | Free |  | 5.5¢/kg |\n| 0203.29.20         | 00         | Processed | kg | 1.4¢/kg | Free (A, AU, BH, CL, CO, D, E, IL, JO, KR, MA, OM, P, PA, PE, S, SG) | 7.2¢/kg |\n| 0203.29.40         | 00         | Other | kg | Free |  | 5.5¢/kg |\n\n**Table 5: Rates of Duty for Meat of Sheep or Goats, Fresh, Chilled or Frozen**\n\n| Heading/Subheading | Stat. Suf. | Article Description | Unit of Quantity | General | Special | Column 3 |\n|---------------------|------------|---------------------|------------------|---------|----------|-----------|\n| 0204.10.00         | 00         | Carcasses and half-carcasses of lamb, fresh or chilled | kg | 0.7¢/kg | Free (A+, AU, BH, CL, CO, D, E, IL, JO, KR, MA, OM, P, PA, PE, S, SG) | 15.4¢/kg |\n| 0204.21.00         | 00         | Carcasses and half-carcasses | kg | 2.8¢/kg | Free (A+, AU, BH, CL, CO, D, E, IL, JO, KR, MA, OM, P, PA, PE, S, SG) | 11¢/kg |\n| 0204.22.20         |            | Lamb | kg | 0.7¢/kg | Free (A+, AU, BH, CL, CO, D, E, IL, JO, KR, MA, OM, P, PA, PE, S, SG) | 15.4¢/kg |\n| 0204.22.40         | 00         | Other | kg | 2.8¢/kg | Free (A+, AU, BH, CL, CO, D, E, IL, JO, KR, MA, OM, P, PA, PE, S, SG) | 11¢/kg |\n| 0204.23.20         | 00         | Lamb | kg | 0.7¢/kg | Free (A+, AU, BH, CL, CO, D, E, IL, JO, KR, MA, OM, P, PA, PE, S, SG) | 15.4¢/kg |\n| 0204.23.40         | 00         | Other | kg | 2.8¢/kg | Free (A+, AU, BH, CL, CO, D, E, IL, JO, KR, MA, OM, P, PA, PE, S, SG) | 11¢/kg |\n| 0204.30.00         | 00         | Carcasses and half-carcasses of lamb, frozen | kg | 0.7¢/kg | Free (A+, AU, BH, CL, CO, D, E, IL, JO, KR, MA, OM, P, PA, PE, S, SG) | 15.4¢/kg |\n| 0204.41.00         | 00         | Carcasses and half-carcasses | kg | 2.8¢/kg | Free (A+, AU, BH, CL, CO, D, E, IL, JO, KR, MA, OM, P, PA, PE, S, SG) | 11¢/kg |\n| 0204.42.20         |            | Lamb | kg | 0.7¢/kg | Free (A+, AU, BH, CL, CO, D, E, IL, JO, KR, MA, OM, P, PA, PE, S, SG) | 15.4¢/kg |"
          },
          "metadata": {}
        },
        {
          "output_type": "stream",
          "name": "stdout",
          "text": [
            "✅ Saved extracted table as: Chapter 2 (1)_table.csv\n",
            "\n",
            "🔄 Processing file: Chapter 6 (1).pdf\n",
            "\n",
            "📄 Extracted tables for Chapter 6 (1).pdf:\n",
            "\n"
          ]
        },
        {
          "output_type": "display_data",
          "data": {
            "text/plain": [
              "<IPython.core.display.Markdown object>"
            ],
            "text/markdown": "Here is the table content extracted from the provided OCR text:\n\n| Heading/Subheading | Stat. Suffix | Article Description | Unit of Quantity | Rates of Duty |  |  |\n| --- | --- | --- | --- | --- | --- | --- |\n|  |  |  |  | General | Special |  |\n| 0601 |  | Bulbs, tubers, tuberous roots, corms, crowns and rhizomes, dormant, in growth or in flower; chicory plants and roots other than roots of heading 1212: |  |  |  |  |\n| 0601.10 |  | Bulbs, tubers, tuberous roots, corms, crowns and rhizomes, dormant: |  |  |  |  |\n| 0601.10.15 | 00 | Tulip bulbs. | No. | $89.6 c / 1000$ | Free (A*, AU, BH, CL, CO, D, E, IL, JO, KR, MA, OM, P, PA, PE, S, SG) | $6 / 1000$ |\n| 0601.10.30 | 00 | Hyacinth bulbs. | No. | $38.4 c / 1000$ | Free (A+, AU, BH, CL, CO, D, E, IL, JO, KR, MA, OM, P, PA, PE, S, SG) | $4 / 1000$ |\n| 0601.10.45 | 00 | Lily bulbs. | No. | $55.7 c / 1000$ | Free (A*, AU, BH, CL, CO, D, E, IL, JO, KR, MA, OM, P, PA, PE, S, SG) | $6 / 1000$ |\n| 0601.10.60 | 00 | Narcissus bulbs. | No. | $1.34 / 1000$ | Free (A*, AU, BH, CL, CO, D, E, IL, JO, KR, MA, OM, P, PA, PE, S, SG) | $6 / 1000$ |\n| 0601.10.75 | 00 | Crocus corms. | No. | $19.2 c / 1000$ | Free (A*, AU, BH, CL, CO, D, E, IL, JO, KR, MA, OM, P, PA, PE, S, SG) | $2 / 1000$ |\n| 0601.10.85 | 00 | Lily of the valley pips. | No. | $1.44 / 1000$ | Free (A+, AU, BH, CL, CO, D, E, IL, JO, KR, MA, OM, P, PA, PE, S, SG) | $6 / 1000$ |\n| 0601.10.90 |  | Other. |  | $3.5 %$ | Free (A*, AU, BH, CL, CO, D, E, IL, JO, KR, MA, OM, P, PA, PE, S, SG) | $30 %$ |\n|  | 20 | Iris bulbs. | No. |  |  |  |\n|  | 40 | Gladiolus corms. | No. |  |  |  |\n|  | 60 | Begonia (tuberous) tubers. | No. |  |  |  |\n|  | 80 | Other. | No. |  |  |  |\n| 0601.20 |  | Bulbs, tubers, tuberous roots, corms, crowns and rhizomes, in growth or in flower; chicory plants and roots: |  |  |  |  |\n| 0601.20.10 | 00 | Hyacinth bulbs, without soil attached. | No. | $38.4 c / 1000$ | Free (A+, AU, BH, CL, CO, D, E, IL, JO, KR, MA, OM, P, PA, PE, S, SG) | $4 / 1000$ |\n| 0601.20.90 | 00 | Other. | No. | $1.4 %$ | Free (A*, AU, BH, CL, CO, D, E, IL, JO, KR, MA, OM, P, PA, PE, S, SG) | $30 %$ |\n| 0602 |  | Other live plants (including their roots), cuttings and slips; mushroom spawn: |  |  |  |  |\n| 0602.10.00 | 00 | Unrooted cuttings and slips. | No. | $4.8 %$ | Free (A*, AU, BH, CL, CO, D, E, IL, JO, KR, MA, OM, P, PA, PE, S, SG) | $25 %$ |\n| 0602.20.00 | 00 | Trees, shrubs and bushes, grafted or not, of kinds which bear edible fruit or nuts. | No. | Free |  | $25 %$ |\n| 0602.30.00 | 00 | Rhododendrons and azaleas, grafted or not. | No. | $1.9 %$ | Free (A, AU, BH, CL, CO, D, E, IL, JO, JP, KR, MA, OM, P, PA, PE, S, SG) | $25 %$ |\n| 0602.40.00 | 00 | Roses, grafted or not. | No. | Free |  | $4 each |\n| 0602.90 |  | Other: |  |  |  |  |\n| 0602.90.20 | 00 | Orchid plants. | kg. | Free |  | $25 %$ |\n|  |  | Other: |  |  |  |  |\n| 0602.90.30 |  | With soil attached to roots. |  | $1.4 %$ | Free (A*, AU, BH, CL, CO, D, E, IL, JO, JP, KR, MA, OM, P, PA, PE, S, SG) | $30 %$ |\n|  | 10 | Chrysanthemums. | No. |  |  |  |\n|  | 90 | Other. | No. |  |  |  |\n| 0602.90.40 | 00 | Other. | kg. | $3.5 %$ | Free (A*, AU, BH, CL, CO, D, E, IL, JO, JP, KR, MA, OM, P, PA, PE, S, SG) | $30 %$ |\n|  |  | Other: |  |  |  |  |\n| 0602.90.50 | 00 | Mushroom spawn. | kg. | $1.4 c / kg$ | Free (A+, AU, BH, CL, CO, D, E, IL, JO, KR, MA, OM, P, PA, PE, S, SG) | $2.2 c / kg$ |\n| 0602.90.60 |  | Other: |  |  |  |  |\n|  |  | With soil attached to roots. |  | $1.9 %$ | Free (A*, AU, BH, CL, CO, D, E, IL, JO, JP, KR, MA, OM, P, PA, PE, S, SG) | $25 %$ |\n|  | 10 | Trees and shrubs. | No. |  |  |  |\n|  | 20 | Poinsettias. | No. |  |  |  |\n|  | 90 | Other. | No. |  |  |  |\n| 0602.90.90 |  | Other. |  | $4.8 %$ | Free (A*, AU, BH, CL, CO, D, E, IL, JO, JP, KR, MA, OM, P, PA, PE, S, SG) | $25 %$ |\n|  | 10 | Trees and shrubs. | No. |  |  |  |\n|  | 90 | Other. | No. |  |  |  |\n| 0603 |  | Cut flowers and flower buds of a kind suitable for bouquets or for ornamental purposes, fresh, dried, dyed, bleached, impregnated or otherwise prepared: |  |  |  | $40 %$ |\n|  |  | Fresh: |  |  |  |  |\n| 0603.11.00 |  | Roses. |  | $6.8 %$ | Free (A, AU, BH, CL, CO, D, E, IL, JO, KR, MA, OM, P, PA, PE, S, SG) |  |\n|  | 30 | Spray. | No. |  |  |  |\n|  | 50 | Other. | No. |  |  |  |\n| 0603.12 |  | Carnations: |  |  |  |  |\n| 0603.12.30 | 00 | Miniature (spray) carnations. | No. | $3.2 %$ | Free (A, AU, BH, CL, CO, D, E, IL, JO, JP, KR, MA, OM, P, PA, PE, S, SG) | $40 %$ |\n| 0603.12.70 | 00 | Other. | No. | $6.4 %$ | Free (A, AU, BH, CL, CO, D, E, IL, JO, KR, MA, OM, P, PA, PE, S, SG) $3.2 %$ (JP) | $40 %$ |\n| 0603.13.00 |  | Orchids. |  | $6.4 %$ | Free (A, AU, BH, CL, CO, D, E, IL, JO, KR, MA, OM, P, PA, PE, S, SG) $3.2 %$ (JP) | $40 %$ |\n|  | 50 | Dendrobium. | No. |  |  |  |\n|  | 60 | Other. | No. |  |  |  |\n| 0603.14.00 |  | Chrysanthemums. |  | $6.4 %$ | Free (A, AU, BH, CL, CO, D, E, IL, JO, KR, MA, OM, P, PA, PE, S, SG) $3.2 %$ (JP) | $40 %$ |\n|  | 10 | Chrysanthemums: |  |  |  |  |\n|  | 20 | Pom Pom. | No. |  |  |  |\n| 0603.15.00 | 00 | Lilias (Lillium spp.). | No. | $6.4 %$ | Free (A, AU, BH, CL, CO, D, E, IL, JO, KR, MA, OM, P, PA, PE, S, SG) $3.2 %$ (JP) | $40 %$ |\n| 0603 (con.) |  | Cut flowers and flower buds of a kind suitable for bouquets or for ornamental purposes, fresh, dried, dyed, bleached, impregnated or otherwise prepared: (con.) |  | $6.4 %$ | Free (A*, AU, BH, CL, CO, D, E, IL, JO, KR, MA, OM, P, PA, PE, S, SG) $3.2 %$ (JP) | $40 %$ |\n|  |  | Fresh: (con.) |  |  |  |  |\n| 0603.19.01 |  | Other. |  |  |  |  |\n|  | 05 | Anthuriums. | No. |  |  |  |\n|  | 07 | Alstroemeria. | No. |  |  |  |\n|  | 09 | Aster. | No. |  |  |  |\n|  | 11 | Bells of Ireland. | No. |  |  |  |\n|  | 13 | Bird of Paradise. | No. |  |  |  |\n|  | 14 | Calla lilies. | No. |  |  |  |\n|  | 15 | Daffodils. | No. |  |  |  |\n|  | 16 | Delphinium. | No. |  |  |  |\n|  | 17 | Freesia. | No. |  |  |  |\n|  | 18 | Gerbera. | No. |  |  |  |\n|  | 19 | Gladiolus. | No. |  |  |  |\n|  | 20 | Gypsophila. | No. |  |  |  |\n|  | 25 | Hydrangea. | No. |  |  |  |\n|  | 27 | Hypericum. | No. |  |  |  |\n|  | 29 | Lisianthus. | No. |  |  |  |\n|  | 31 | Peony. | No. |  |  |  |\n|  | 35 | Ranunculus. | No. |  |  |  |\n|  | 37 | Scabiosa. | No. |  |  |  |\n|  | 40 | Snapdragons. | No. |  |  |  |\n|  | 41 | Statice. | No. |  |  |  |\n|  | 42 | Stock. | No. |  |  |  |\n|  | 43 | Sunflowers. | No. |  |  |  |\n|  | 45 | Tulips. | No. |  |  |  |\n|  | 55 | Campanula. | No. |  |  |  |\n|  | 97 | Other. | No. |  |  |  |\n| 0603.90.00 | 00 | Other. | No. | $4 %$ | Free (A*, AU, BH, CL, CO, D, E, IL, JO, JP, KR, MA, OM, P, PA, PE, S, SG) | $40 %$ |\n| 0604 |  | Foliage, branches and other parts of plants, without flowers or flower buds, and grasses, mosses and lichens, being goods of a kind suitable for bouquets or for ornamental purposes, fresh, dried, dyed, bleached, impregnated or otherwise prepared: |  | Free |  | Free |\n| 0604.20.00 |  | Fresh. |  |  |  |  |\n|  | 05 | Aralia. | No. |  |  |  |\n|  | 11 | Aspidistra. | No. |  |  |  |\n|  | 15 | Eucalyptus. | No. |  |  |  |\n|  |  | Evergreen Christmas trees: Douglas fir. |  |  |  |  |\n|  | 20 | Fir except Douglas fir. | No. |  |  |  |\n|  | 40 | Fir except Douglas fir. | No. |  |  |  |\n|  | 60 | Other. | No. |  |  |  |\n|  | 65 | Ferns: |  |  |  |  |\n|  | 70 | Leather leaf. | No. |  |  |  |\n|  | 72 | Other. | No. |  |  |  |\n|  | 74 | Mosses and lichens. | No. |  |  |  |\n|  | 78 |  |  |  |  |  |\n|  | 82 | Pittosporum. | No. |  |  |  |\n|  | 84 | Ruscus. | No. |  |  |  |\n|  | 86 | Other. | No. |  |  |  |\n| 0604.90 |  | Other: |  |  |  |  |\n| 0604.90.10 | 00 | Mosses and lichens. | No. | Free |  | Free |\n|  |  | Other: |  |  |  |  |\n| 0604.90.30 | 00 | Dried or bleached. | No. | Free |  | Free |\n| 0604.90.60 | 00 | Other. | No. | $7 %$ | Free (A*, AU, BH, CL, CO, D, E, IL, JO, KR, MA, OM, P, PA, PE, S, SG) | $50 %$ |"
          },
          "metadata": {}
        },
        {
          "output_type": "stream",
          "name": "stdout",
          "text": [
            "✅ Saved extracted table as: Chapter 6 (1)_table.csv\n",
            "\n",
            "🔄 Processing file: Chapter 3 (1).pdf\n",
            "\n",
            "📄 Extracted tables for Chapter 3 (1).pdf:\n",
            "\n"
          ]
        },
        {
          "output_type": "display_data",
          "data": {
            "text/plain": [
              "<IPython.core.display.Markdown object>"
            ],
            "text/markdown": "Here is the table contents extracted in markdown format:\n\n```markdown\n| Heading/ Subheading | Stat. Suf- fis | Article Description | Unit of Quantity | Rates of Duty |  |  |\n|---------------------|----------------|----------------------|------------------|----------------|----------------|----------------|\n|                     |                |                      |                  | General        | Special         |                |\n| 0301                |                | Live fish:           |                  | Free ${ }^{\\text {D }}$ |                | Free           |\n| 0301.11.00          |                | Ornamental fish:     |                  |                |                |                |\n|                     |                | Freshwater.         |                  |                |                |                |\n|                     | 10             |                      |                  |                |                |                |\n|                     | 20             |                      |                  |                |                |                |\n|                     |                | Goldfish( Carassius auratus), Crucian carp (Carassius carassius). |                  |                |                |                |\n|                     | 90             | Other                |                  |                |                |                |\n| 0301.19.00          | 00             | Other.               |                  |                |                |                |\n|                     |                | Other live fish:     |                  |                |                |                |\n| 0301.91.00          | 00             | Trout (Salmo trutta, Oncorhynchus mykiss, Oncorhynchus clarki, Oncorhynchus aguabonita, Oncorhynchus gilae, Oncorhynchus apache and Oncorhynchus chrysogaster). | kg. | Free ${ }^{\\text {D }}$ |                | Free           |\n| 0301.92.00          | 00             | Eels (Anguilla spp.). | kg. | Free ${ }^{\\text {D }}$ |                | Free           |\n| 0301.93.02          |                | Carp (Cyprinus spp., Carassius spp., Ctenopharyngodon idellus, Hypophthalmichthys spp., Cirrhinus spp., Mylopharyngodon piceus, Catla catla, Labeo spp., Osteochilus hasselti, Leptobarbus hoeveni, Megalobrama spp.). |                  |                |                |                |\n|                     | 10             | Grass carp (Ctenopharyngodon idellus), silver carp (Hypophthalmichthys molitrix) and bighead carp (Aristichthys nobilis). |                  |                |                |                |\n|                     | 90             | Other                |                  |                |                |                |\n| 0301.94.01          | 00             | Atlantic and Pacific bluefin tunas (Thunnus thynnus, Thunnus orientalis). |                  |                |                |                |\n|                     |                |                      | kg. | Free ${ }^{\\text {D }}$ |                | Free           |\n| 0301.95.00          | 00             | Southern Bluefin tunas (Thunnus maccoyii). | kg. | Free ${ }^{\\text {D }}$ |                | Free           |\n| 0301.99.03          |                | Other.               |                  | Free ${ }^{\\text {D }}$ |                | Free           |\n|                     | 10             | Tench (Tinca tinca), sheatfish (Silurus glanis). | kg |                |                |                |\n|                     | 15             | Bighead carp (Aristichthys nobilis). | kg |                |                |                |\n|                     | 90             | Other                | kg |                |                |                |\n\n| Heading/ Subheading | Stat. Suf- fis | Article Description | Unit of Quantity | Rates of Duty |  |  |\n|---------------------|----------------|----------------------|------------------|----------------|----------------|----------------|\n|                     |                |                      |                  | General        | Special         |                |\n| 0302                |                | Fish, fresh or chilled, excluding fish fillets and other fish meal of heading 0304: Salmonidae, excluding edible fish offal of subheadings 0302.91 to 0302.99 : |                  | Free ${ }^{\\text {D }}$ |                | $2.2 \\notin / \\mathrm{kg}$ |\n| 0302.11.00          |                | Trout (Salmo trutta, Oncorhynchus mykiss, Oncorhynchus clarki, Oncorhynchus aguabonita, Oncorhynchus gilae, Oncorhynchus apache and Oncorhynchus chrysogaster). |                  |                |                |                |\n|                     | 10             | Rainbow trout (Salmo gairdneri), farmed. | kg |                |                |                |\n|                     | 90             | Other                | kg |                |                |                |\n| 0302.13.00          |                | Pacific salmon (Oncorhynchus nerka, Oncorhynchus gorbuscha, Oncorhynchus keta, Oncorhynchus tschawytscha, Oncorhynchus kisutch, Oncorhynchus masou and Oncorhynchus rhodurus). |                  |                |                | $4.4 \\notin / \\mathrm{kg}$ |\n|                     | 13             | Chinook (king):     | kg |                |                |                |\n|                     | 14             | Not farmed.         | kg |                |                |                |\n|                     | 22             | Chum (dog).         | kg |                |                |                |\n|                     | 32             | Pink (humpie).      | kg |                |                |                |\n|                     | 42             | Sockeye (red).      | kg |                |                |                |\n|                     | 53             | Coho (silver):      |                  |                |                |                |\n|                     | 54             | Farmed.             | kg |                |                |                |\n|                     | 62             | Not farmed.         | kg |                |                |                |\n| 0302.14.00          |                | Atlantic salmon (Salmo salar) and Danube salmon (Hucho hucho). |                  | Free ${ }^{\\text {D }}$ |                | $4.4 \\notin / \\mathrm{kg}$ |\n|                     | 03             | Atlantic:           | kg |                |                |                |\n|                     | 04             | Not farmed.         | kg |                |                |                |\n|                     | 62             | Other                | kg |                |                |                |\n| 0302.19.00          | 00             | Other.               | kg | Free ${ }^{\\text {D }}$ |                | $2.2 \\notin / \\mathrm{kg}$ |\n|                     |                | Flat fish (Pleuronectidae, Bothidae, Cynoglossidae, Soleidae, Scophthalmidae and Citharidae), excluding edible fish offal of subheadings 0302.91 to 0302.99 : |                  |                |                |                |\n| 0302.21.00          |                | Halibut and Greenland turbot (Reinhardtius hippoglossoides, Hippoglossus hippoglossus, Hippoglossus stenolepis). |                  |                |                | $4.4 \\notin / \\mathrm{kg}$ |\n|                     | 10             | Atlantic.           | kg |                |                |                |\n|                     | 20             | Pacific.            | kg |                |                |                |\n|                     | 90             | Other (including Greenland). | kg |                |                |                |\n| 0302.22.00          | 00             | Plaice (Pleuronectes platessa). | kg | Free ${ }^{\\text {D }}$ |                | $2.2 \\notin / \\mathrm{kg}$ |\n| 0302.23.00          | 00             | Sole (Solea spp.). | kg. | $1.1 \\notin / \\mathrm{kg}^{\\text {D }}$ | Free (A*, AU, BH, CL, CO, D, E, IL, JO, KR, MA, OM, P, PA, PE, S, SG) | $2.2 \\notin / \\mathrm{kg}$ |\n| 0302.24.00          | 00             | Turbots (Psetta maxima). | kg. | Free ${ }^{\\text {D }}$ |                | $2.2 \\notin / \\mathrm{kg}$ |\n| 0302.29.01          |                | Other.               |                  | Free ${ }^{\\text {D }}$ |                | $2.2 \\notin / \\mathrm{kg}$ |\n|                     | 10             | Flounder.           | kg |                |                |                |\n|                     | 90             | Other                | kg |                |                |                |\n\n| Heading/ Subheading | Stat. Suf- fis | Article Description | Unit of Quantity | Rates of Duty |  |  |\n|---------------------|----------------|----------------------|------------------|----------------|----------------|----------------|\n|                     |                |                      |                  | General        | Special         |                |\n| 0302 (con.)         |                | Fish, fresh or chilled, excluding fish fillets and other fish meal of heading 0304: (con.) Tunas (of the genus Thunnus), skipjack tuna (stripe-bellied bonito)(Katsuwonus pelamis), excluding edible fish offal of subheadings 0302.91 to 0302.99: |                  |                |                | Free           |\n| 0302.31.00          | 00             | Albacore or longfinned tunas (Thunnus alalunga). | kg. | Free ${ }^{\\text {D }}$ |                | Free           |\n| 0302.32.00          | 00             | Yellowfin tunas (Thunnus albacares). | kg. | Free ${ }^{\\text {D }}$ |                | Free           |\n| 0302.33.00          | 00             | Skipjack tuna (stripe-bellied bonito) (Katsuwonus pelamis). | kg. | Free ${ }^{\\text {D }}$ |                | Free           |\n| 0302.34.00          | 00             | Bigeye tunas (Thunnus obesus). | kg. | Free ${ }^{\\text {D }}$ |                | Free           |\n| 0302.35.01          | 00             | Atlantic and Pacific bluefin tunas (Thunnus thynnus, Thunnus orientalis). | kg. | Free ${ }^{\\text {D }}$ |                | Free           |\n| 0302.36.00          | 00             | Southern bluefin tunas (Thunnus maccoyii). | kg. | Free ${ }^{\\text {D }}$ |                | Free           |\n| 0302.39.02          | 00             | Other.               | kg. | Free ${ }^{\\text {D }}$ |                | Free           |\n\n| Heading/ Subheading | Stat. Suf- fis | Article Description | Unit of Quantity | Rates of Duty |  |  |\n|---------------------|----------------|----------------------|------------------|----------------|----------------|----------------|\n|                     |                |                      |                  | General        | Special         |                |\n| 0302 (con.)         |                | Fish, fresh or chilled, excluding fish fillets and other fish meal of heading 0304: (con.) Herrings (Clupea harengus, Clupea pallasii), anchovies (Engraulis spp.), sardines (Sardina pilchardus, Sardinops spp.), sardinella (Sardinella spp.), brisling or sprats (Sprattus sprattus), mackerel (Scomber scombrus, Scomber australasicus, Scomber japonicus), Indian mackerels (Rastrelliger spp.), seerfishes (Scomberomorus spp.), jack and horse mackerel (Trachurus spp.), jacks, crevalles (Caranx spp.), cobia (Rachycentron canadum), silver pomfrets (Pampus spp.), Pacific saury (Cololabis saira), scads (Decapterus spp.), capelin (Mallotus villosus), swordfish (Xiphias gladius), Kawakawa (Euthynnus affinis), bonitos (Sarda spp.), marlins, sailfishes, spearlish (Istiophoridae), excluding edible fish offal of subheadings 0302.91 to 0302.99 : |                  |                |                |                |\n| 0302.41.00          | 00             | Herrings (Clupea harengus, Clupea pallasii). | kg. | Free ${ }^{\\text {D }}$ |                | Free           |\n| 0302.42.00          | 00             | Anchovies (Engraulis spp.). | kg. | Free ${ }^{\\text {D }}$ |                | Free           |\n| 0302.43.00          | 00             | Sardines (Sardina pilchardus, Sardinops spp.), sardinella (Sardinella spp.), brisling or sprats (Sprattus sprattus). | kg. | Free ${ }^{\\text {D }}$ |                | $2.2 \\mathrm{~s} / \\mathrm{kg}$ |\n| 0302.44.00          | 00             | Mackerel (Scomber scombrus, Scomber australasicus, Scomber japonicus). | kg. | Free ${ }^{\\text {D }}$ |                | $4.4 \\mathrm{~s} / \\mathrm{kg}$ |\n| 0302.45             |                | Jack and horse mackerel (Trachurus spp): |                  |                |                |                |\n| 0302.45.11          | 00             | Scaled (whether or not heads, viscera and/or fins have been removed, but not otherwise processed), in immediate containers weighing with their contents 6.8 kg or less. | kg. | $3 \\%^{\\text {D }}$ | Free (A*, AU, BH, CL, CO, D, E, IL, JO, KR, MA, OM, P, PA, PE, S, SG) | $25 \\%$ |\n| 0302.45.50          | 00             | Other.               | kg. | Free ${ }^{\\text {D }}$ |                | $2.2 \\mathrm{~s} / \\mathrm{kg}$ |\n| 0302.46             |                | Cobia (Rachycentron canadum) : |                  |                |                |                |\n| 0302.46.11          | 00             | Scaled (whether or not heads, viscera and/or fins have been removed, but not otherwise processed), in immediate containers weighing with their contents 6.8 kg or less. | kg. | $3 \\%^{\\text {D }}$ | Free (A*, AU, BH, CL, CO, D, E, IL, JO, KR, MA, OM, P, PA, PE, S, SG) | $25 \\%$ |\n| 0302.46.50          | 00             | Other.               | kg. | Free ${ }^{\\text {D }}$ |                | $2.2 \\mathrm{~s} / \\mathrm{kg}$ |\n| 0302.47.00          |                | Swordfish (Xiphias gladius). |                  | Free ${ }^{\\text {D }}$ |                | $2.2 \\mathrm{~s} / \\mathrm{kg}$ |\n|                     | 10             | Steaks.              | kg |                |                |                |\n|                     | 90             | Other                | kg |                |                |                |\n| 0302.49.00          | 00             | Other.               | kg. | Free ${ }^{\\text {D }}$ |                | $2.2 \\mathrm{~s} / \\mathrm{kg}$ |\n\n| Heading/ Subheading | Stat. Suf- fis | Article Description | Unit of Quantity | Rates of Duty |  |  |\n|---------------------|----------------|----------------------|------------------|----------------|----------------|----------------|\n|                     |                |                      |                  | General        | Special         |                |\n| 0302 (con.)         |                | Fish, fresh or chilled, excluding fish fillets and other fish meal of heading 0304: (con.) Fish of the families Bregmacerotidae, Euclichthyidae Gadidae, Macrouridae, Melanonidae, Merlucciidae, Moridae and Muraenolepididae, excluding edible fish offal of subheadings 0302.91 to 0302.99: |                  |                |                |                |\n| 0302.51.00          |                | Cod (Gadus morhua, Gadus ogac, Gadus macrocephalus). |                  | Free ${ }^{\\text {D }}$ |                | $2.2 \\notin / \\mathrm{kg}$ |\n|                     | 10             | Atlantic.           | kg |                |                |                |\n|                     | 90             | Other                | kg |                |                |                |\n| 0302.52.00          | 00             | Haddock (Melanogrammus aeglefinus). | kg | Free ${ }^{\\text {D }}$ |                | $2.2 \\notin / \\mathrm{kg}$ |\n| 0302.53.00          | 00             | Coalfish (Pollachius virens). | kg | Free ${ }^{\\text {D }}$ |                | $2.2 \\notin / \\mathrm{kg}$ |\n| 0302.54             |                | Hake (Merluccius spp., Urophycis spp.): |                  |                |                |                |\n| 0302.54.11          | 00             | Scaled (whether or not heads, viscera and/or fins have been removed, but not otherwise processed), in immediate containers weighing with their contents 6.8 kg or less. | kg | $3 \\%^{\\text {D }}$ | Free (A*, AU, BH, CL, CO, D, E, IL, JO, KR, MA, OM, P, PA, PE, S, SG) | $25 \\%$ |\n| 0302.54.50          | 00             | Other.               | kg | Free ${ }^{\\text {D }}$ |                | $2.2 \\notin / \\mathrm{kg}$ |\n| 0302.55             |                | Alaska pollock (Theragra chalcogramma): |                  |                |                |                |\n| 0302.55.11          | 00             | Scaled (whether or not heads, viscera and/or fins have been removed, but not otherwise processed), in immediate containers weighing with their contents 6.8 kg or less. | kg | $3 \\%^{\\text {D }}$ | Free (A*, AU, BH, CL, CO, D, E, IL, JO, KR, MA, OM, P, PA, PE, S, SG) | $25 \\%$ |\n| 0302.55.50          | 00             | Other.               | kg | Free ${ }^{\\text {D }}$ |                | $2.2 \\notin / \\mathrm{kg}$ |\n| 0302.56             |                | Blue whitings (Micromesistius poutassou, Micromesistius australis): |                  |                |                |                |\n| 0302.56.11          | 00             | Scaled (whether or not heads, viscera and/or fins have been removed, but not otherwise processed), in immediate containers weighing with their contents 6.8 kg or less. | kg | $3 \\%^{\\text {D }}$ | Free (A*, AU, BH, CL, CO, D, E, IL, JO, KR, MA, OM, P, PA, PE, S, SG) | $25 \\%$ |\n| 0302.56.50          | 00             | Other.               | kg | Free ${ }^{\\text {D }}$ |                | $2.2 \\notin / \\mathrm{kg}$ |\n| 0302.59             |                | Other:               |                  |                |                |                |\n| 0302.59.11          | 00             | Scaled (whether or not heads, viscera and/or fins have been removed, but not otherwise processed), in immediate containers weighing with their contents 6.8 kg or less. | kg | $3 \\%^{\\text {D }}$ | Free (A*, AU, BH, CL, CO, D, E, IL, JO, KR, MA, OM, P, PA, PE, S, SG) | $25 \\%$ |\n| 0302.59.50          |                | Other.               |                  | Free ${ }^{\\text {D }}$ |                | $2.2 \\notin / \\mathrm{kg}$ |\n|                     | 10             | Pollock.             | kg |                |                |                |\n|                     | 90             | Other                | kg |                |                |                |\n\n| Heading/ Subheading | Stat. Suf- fis | Article Description | Unit of Quantity | Rates of Duty |  |  |\n|---------------------|----------------|----------------------|------------------|----------------|----------------|----------------|\n|                     |                |                      |                  | General        | Special         |                |\n| 0302 (con.)         |                | Fish, fresh or chilled, excluding fish fillets and other fish meal of heading 0304: (con.) Tilapias (Oreochromis spp.), catfish (Pangasius spp., Silurus spp., Clarias spp., Ictalurus spp.), carp (Cyprinus spp., Carassius spp., Ctenopharyngodon idellus, Hypophthalmichthys spp., Cirrhinus spp., Mylopharyngodon piceus, Catla catla, Labeo spp., Osteochilus hasselti, Leptobarbus hoeveni, Megalobrama spp.), eels (Anguilla spp.), Nile perch (Lates niloticus) and snakeheads (Channa spp.), excluding edible fish offal of subheadings 0302.91 to 0302.99 : Tilapias (Oreochromis spp.): Scaled (whether or not heads, viscera and/or fins have been removed, but not otherwise processed), in immediate containers weighing with their contents 6.8 kg or less. |                  |                |                | Free (A*, AU, BH, CL, CO, D, E, IL, JO, KR, MA, OM, P, PA, PE, S, SG) | $25 \\%$ |\n| 0302.71.50          | 00             | Other.               | kg. | Free ${ }^{\\text {D }}$ |                | $2.2 \\notin / \\mathrm{kg}$ |\n| 0302.72             |                | Catfish (Pangasius spp., Silurus spp., Clarias spp., Ictalurus spp.): Scaled (whether or not heads, viscera and/or fins have been removed, but not otherwise processed), in immediate containers weighing with their contents 6.8 kg or less. |                  |                |                |                |\n| 0302.72.11          | 00             |                      | kg. | $3 \\%^{\\text {D }}$ | Free (A*, AU, BH, CL, CO, D, E, IL, JO, KR, MA, OM, P, PA, PE, S, SG) | $25 \\%$ |\n| 0302.72.50          |                | Other.               |                  | Free ${ }^{\\text {D }}$ |                | $2.2 \\notin / \\mathrm{kg}$ |\n|                     | 01             | Ictalurus spp.       | kg |                |                |                |\n|                     | 04             | Pangasius spp. including basa and tra. | kg |                |                |                |\n|                     | 34             | Other                |                  |                |                |                |\n| 0302.73             |                | Carp (Cyprinus spp., Carassius spp., Ctenopharyngodon idellus, Hypophthalmichthys spp., Cirrhinus spp., Mylopharyngodon piceus, Catla catla, Labeo spp., Osteochilus hasselti, Leptobarbus hoeveni, Megalobrama spp.): Scaled (whether or not heads, viscera and/or fins have been removed, but not otherwise processed), in immediate containers weighing with their contents 6.8 kg or less. |                  |                |                |                |\n| 0302.73.11          | 00             |                      | kg. | $3 \\%^{\\text {D }}$ | Free (A*, AU, BH, CL, CO, D, E, IL, JO, KR, MA, OM, P, PA, PE, S, SG) | $25 \\%$ |\n| 0302.73.50          | 00             |                      | kg. | Free ${ }^{\\text {D }}$ |                | $2.2 \\notin / \\mathrm{kg}$ |\n| 0302.74.00          | 00             | Eels (Anguilla spp.). | kg. | Free ${ }^{\\text {D }}$ |                | $2.2 \\notin / \\mathrm{kg}$ |\n\n| Heading/ Subheading | Stat. Suf- fis | Article Description | Unit of Quantity | Rates of Duty |  |  |\n|---------------------|----------------|----------------------|------------------|----------------|----------------|----------------|\n|                     |                |                      |                  | General        | Special         |                |\n| 0302 (con.)         |                | Fish, fresh or chilled, excluding fish fillets and other fish meal of heading 0304: (con.) Tilapias (Oreochromis spp.), catfish (Pangasius spp., Silurus spp., Clarias spp., Ictalurus spp.), carp (Cyprinus spp., Carassius spp., Ctenopharyngodon idellus, Hypophthalmichthys spp., Cirrhinus spp., Mylopharyngodon piceus, Catla catla, Labeo spp., Osteochilus hasselti, Leptobarbus hoeveni, Megalobrama spp.), eels (Anguilla spp.), Nile perch (Lates niloticus) and snakeheads (Channa spp.), excluding edible fish offal of subheadings 0302.91 to 0302.99: (con.) Other: Scaled (whether or not heads, viscera and/or fins have been removed, but not otherwise processed), in immediate containers weighing with their contents 6.8 kg or less. |                  |                |                | Free (A*, AU, BH, CL, CO, D, E, IL, JO, KR, MA, OM, P, PA, PE, S, SG) | $25 \\%$ |\n| 0302.79.50          |                | Other.               |                  |                |                | $2.2 \\notin / \\mathrm{kg}$ |\n|                     | 25             | Nile perch.         | kg |                |                |                |\n|                     | 76             | Other fish, excluding edible fish offal of subheadings 0302.91 to 0302.99: |                  |                |                |                |\n| 0302.81.00          |                | Dogfish and other sharks. |                  | Free ${ }^{\\text {D }}$ |                | $2.2 \\notin / \\mathrm{kg}$ |\n|                     | 11             | Dogfish (Squalus spp.). | kg |                |                |                |\n|                     | 91             | Other                | kg |                |                |                |\n| 0302.82.00          | 00             | Rays and skates (Rajidae). | kg. | Free ${ }^{\\text {D }}$ |                | $2.2 \\notin / \\mathrm{kg}$ |\n| 0302.83.00          | 00             | Toothfish (Dissostichus spp.). | kg. | Free ${ }^{\\text {D }}$ |                | $2.2 \\notin / \\mathrm{kg}$ |\n| 0302.84             |                | Seabass (Dicentrarchus spp.): |                  |                |                |                |\n| 0302.84.11          | 00             | Scaled (whether or not heads, viscera and/or fins have been removed, but not otherwise processed), in immediate containers weighing with their contents 6.8 kg or less. | kg. | $3 \\%^{\\text {D }}$ | Free (A*, AU, BH, CL, CO, D, E, IL, JO, KR, MA, OM, P, PA, PE, S, SG) | $25 \\%$ |\n| 0302.84.50          | 00             | Other.               | kg. | Free ${ }^{\\text {D }}$ |                | $2.2 \\notin / \\mathrm{kg}$ |\n| 0302.85             |                | Seabream (Sparidae): |                  |                |                |                |\n| 0302.85.11          | 00             | Scaled (whether or not heads, viscera and/or fins have been removed, but not otherwise processed), in immediate containers weighing with their contents 6.8 kg or less. | kg. | $3 \\%^{\\text {D }}$ | Free (A*, AU, BH, CL, CO, D, E, IL, JO, KR, MA, OM, P, PA, PE, S, SG) | $25 \\%$ |\n| 0302.85.50          | 00             | Other.               | kg. | Free ${ }^{\\text {D }}$ |                | $2.2 \\notin / \\mathrm{kg}$ |\n\n| Heading/ Subheading | Stat. Suf- fis | Article Description | Unit of Quantity | Rates of Duty |  |  |\n|---------------------|----------------|----------------------|------------------|----------------|----------------|----------------|\n|                     |                |                      |                  | General        | Special         |                |\n| 0302 (con.)         |                | Fish, fresh or chilled, excluding fish fillets and other fish meal of heading 0304: (con.) Other fish, excluding edible fish offal of subheadings 0302.91 to 0302.99: (con.) |                  |                |                |                |\n| 0302.89             |                | Other : Scaled (whether or not heads, viscera and/or fins have been processed), in immediate containers weighing with their contents 6.8 kg or less. |                  |                |                |                |\n| 0302.89.11          |                |                      |                  |                |                |                |\n|                     | 20             | Sable fish (Anoplopoma fimbria). | kg |                |                |                |\n|                     | 40             | Other                | kg |                |                |                |\n| 0302.89.50          |                | Other                |                  | Free ${ }^{\\text {D }}$ |                | $2.2 \\mathrm{~g} / \\mathrm{kg}$ |\n|                     |                | Fresh-water fish:   |                  |                |                |                |\n|                     | 07             | Pike.                | kg |                |                |                |\n|                     | 10             | Pickerel.           | kg |                |                |                |\n|                     |                | Perch:              |                  |                |                |                |\n|                     | 13             | Pike perch (including yellow pike). | kg |                |                |                |\n|                     | 25             | Other                | kg |                |                |                |\n|                     | 28             | Bass.                | kg |                |                |                |\n|                     | 31             | Whitefish.           | kg |                |                |                |\n```"
          },
          "metadata": {}
        },
        {
          "output_type": "stream",
          "name": "stdout",
          "text": [
            "✅ Saved extracted table as: Chapter 3 (1)_table.csv\n",
            "\n",
            "🔄 Processing file: Chapter 1 (1).pdf\n",
            "\n",
            "📄 Extracted tables for Chapter 1 (1).pdf:\n",
            "\n"
          ]
        },
        {
          "output_type": "display_data",
          "data": {
            "text/plain": [
              "<IPython.core.display.Markdown object>"
            ],
            "text/markdown": "Here is the table content extracted in markdown format:\n\n```markdown\n| Heading/Subheading | Stat. Suf- fis | Article Description | Unit of Quantity | Rates of Duty |  |  |\n|---------------------|----------------|---------------------|------------------|----------------|----------------|----------------|\n|                     |                |                     |                  | General         | Special         |                |\n| 0101               |                | Live horses, asses, mules and hinnies: |                  | Free¹           |                | Free           |\n| 0101.21.00         |                | Horses:             |                  |                |                |                |\n|                     | 10             | Purebred breeding animals. |                  |                |                |                |\n|                     | 20             | Males.              | No.              |                |                |                |\n| 0101.29.00         |                | Females.           | No.              |                |                |                |\n|                     | 10             | Other.              |                  | Free¹           |                | 20%            |\n|                     | 10             | Imported for immediate slaughter. | No.              |                |                |                |\n|                     | 90             | Other.              | No.              |                |                |                |\n| 0101.30.00         | 00             | Asses.              | No.              | 6.8%¹           | Free (A+, AU, BH, CL, CO, D, E, IL, JO, KR, MA, OM, P, PA, PE, S, SG) | 15%            |\n| 0101.90            |                | Other:              |                  |                |                |                |\n| 0101.90.30         | 00             | Imported for immediate slaughter. | No.              | Free¹           |                | Free           |\n| 0101.90.40         | 00             | Other.              | No.              | 4.5%¹           | Free (A+, AU, BH, CL, CO, D, E, IL, JO, KR, MA, OM, P, PA, PE, S, SG) | 20%            |\n| 0102               |                | Live bovine animals: |                  |                |                |                |\n| 0102.21.00         |                | Cattle:            |                  |                |                |                |\n|                     | 10             | Purebred breeding animals. |                  | Free¹           |                | Free           |\n|                     | 10             | Male.               | No.              |                |                |                |\n|                     | 20             | Female.             | No.              |                |                |                |\n|                     | 30             | Other:              | No.              |                |                |                |\n|                     | 50             | Male.               | No.              |                |                |                |\n|                     |                | Female.             | No.              |                |                |                |\n| 0102 (con.)        |                | Live bovine animals: (con.) |                  |                |                |                |\n| 0102.29            |                | Cattle: (con.)      |                  |                |                |                |\n| 0102.29.20         |                | Other:              |                  | Free¹           |                | 6.6¢/kg       |\n|                     | 11             | Cows imported specially for dairy purposes. | No. kg          |                |                |                |\n|                     |                | Weighing less than 90 kg each..................... | No. kg          |                |                |                |\n|                     | 12             | Weighing 90 kg or more each......................... | No. kg          |                |                |                |\n| 0102.29.40         |                | Other.......................................................... |                  | 1¢/kg¹           | Free (A+, AU, BH, CL, CO, D, E, IL, JO, KR, MA, OM, P, PA, PE, S, SG) | 5.5¢/kg       |\n|                     | 24             | Weighing less than 90 kg each: |                  |                |                |                |\n|                     |                | Male........................................................ |                  |                |                |                |\n|                     | 28             | Female.................................................... | No. kg          |                |                |                |\n|                     |                | Weighing 90 kg or more but less than 200 kg each: |                  |                |                |                |\n|                     | 34             | Male.................................................... | No. kg          |                |                |                |\n|                     | 38             | Female.................................................... | No. kg          |                |                |                |\n|                     |                | Weighing 200 kg or more but less than 320 kg each: |                  |                |                |                |\n|                     | 54             | Male.................................................... | No. kg          |                |                |                |\n|                     | 58             | Female.................................................... | No. kg          |                |                |                |\n|                     |                | Weighing 320 kg or more each: |                  |                |                |                |\n|                     |                | For immediate slaughter: |                  |                |                |                |\n|                     | 62             | Steers................................................. | No. kg          |                |                |                |\n|                     | 64             | Bulls.................................................... | No. kg          |                |                |                |\n|                     | 66             | Cows.................................................... | No. kg          |                |                |                |\n|                     | 68             | Heifers................................................. | No. kg          |                |                |                |\n|                     | 68             | For breeding: |                  |                |                |                |\n|                     | 72             | Male.................................................... | No. kg          |                |                |                |\n|                     | 74             | Female.................................................... | No. kg          |                |                |                |\n|                     |                | Other: |                  |                |                |                |\n|                     | 82             | Male.................................................... | No. kg          |                |                |                |\n|                     | 84             | Female.................................................... | No. kg          |                |                |                |\n| 0102 (con.)        |                | Live bovine animals: (con.) |                  | Free¹           |                | Free           |\n| 0102.31.00         |                | Buffalo:            |                  |                |                |                |\n|                     | 10             | Purebred breeding animals. |                  |                |                |                |\n|                     | 10             | Male.               | No.              |                |                |                |\n|                     | 20             | Female.             | No.              |                |                |                |\n| 0102.39.00         |                | Other.              |                  | 1¢/kg¹           | Free (A+, AU, BH, CL, CO, D, E, IL, JO, KR, MA, OM, P, PA, PE, S, SG) | 5.5¢/kg       |\n|                     | 10             | Bison.              | No. kg           |                |                |                |\n|                     |                | Other:              |                  |                |                |                |\n|                     |                | Weighing less than 90 kg each: |                  |                |                |                |\n|                     | 24             | Male.               | No. kg           |                |                |                |\n|                     | 28             | Female.             | No. kg           |                |                |                |\n|                     |                | Weighing 90 kg or more but less than 200 kg each: |                  |                |                |                |\n|                     | 34             | Male.               | No. kg           |                |                |                |\n|                     | 38             | Female.             | No. kg           |                |                |                |\n|                     |                | Weighing 200 kg or more but less than 320 kg each: |                  |                |                |                |\n|                     | 54             | Male.               | No. kg           |                |                |                |\n|                     | 58             | Female.             | No. kg           |                |                |                |\n|                     |                | Weighing 320 kg or more each: |                  |                |                |                |\n|                     | 61             | For immediate slaughter. | No. kg           |                |                |                |\n|                     | 72             | For breeding: |                  |                |                |                |\n|                     | 72             | Male.               | No. kg           |                |                |                |\n|                     | 74             | Female.             | No. kg           |                |                |                |\n|                     | 82             | Other:              |                  |                |                |                |\n|                     | 82             | Male.               | No. kg           |                |                |                |\n|                     | 84             | Female.             | No. kg           |                |                |                |\n| 0102.90.00         | 00             | Other.              | No. kg           | 1¢/kg¹           | Free (A+, AU, BH, CL, CO, D, E, IL, JO, KR, MA, OM, P, PA, PE, S, SG) | 5.5¢/kg       |\n| 0103               |                | Live swine:         |                  |                |                |                |\n| 0103.10.00         | 00             | Purebred breeding animals. | No.              | Free¹           |                | Free           |\n| 0103.91.00         |                | Other:              |                  | Free¹           |                | 4.4¢/kg       |\n|                     | 10             | Weighing less than 50 kg each. |                  |                |                |                |\n|                     | 10             | Weighing less than 7 kg each. | No. kg           |                |                |                |\n|                     | 20             | Weighing 7 kg or more but less than 23 kg each.. | No. kg          |                |                |                |\n|                     | 30             | Weighing 23 kg or more but less than 50 kg each. | No. kg          |                |                |                |\n| 0103.92.00         |                | Weighing 50 kg or more each. |                  | Free¹           |                | 4.4¢/kg       |\n|                     | 10             | Imported for immediate slaughter. | No. kg           |                |                |                |\n|                     | 20             | Breeding animals other than purebred breeding animals. | No. kg          |                |                |                |\n|                     | 91             | Other.              | No. kg           |                |                |                |\n| 0104               |                | Live sheep and goats: |                  |                |                |                |\n| 0104.10.00         | 00             | Sheep.              | No.              | Free¹           |                | $3/head       |\n| 0104.20.00         | 00             | Goats.              | No.              | 68¢/head¹       | Free (A+, AU, BH, CL, CO, D, E, IL, JO, KR, MA, OM, P, PA, PE, S, SG) | $3/head       |\n| 0105               |                | Live poultry of the following kinds: Chickens, ducks, geese, turkeys and guineas: |                  |                |                |                |\n|                     |                | Weighing not more than 185 g : |                  |                |                |                |\n|                     |                | Chickens.           |                  | 0.9¢ each¹      | Free (A+, AU, BH, CL, CO, D, E, IL, JO, KR, MA, OM, P, PA, PE, S, SG) | 4¢ each       |\n|                     | 10             |                    |                  |                |                |                |\n|                     | 20             | Broiler-type (meat-type). | No.              |                |                |                |\n|                     | 40             |                    |                  |                |                |                |\n| 0105.12.00         | 00             | Turkeys.            | No.              | 0.9¢ each¹      | Free (A+, AU, BH, CL, CO, D, E, IL, JO, KR, MA, OM, P, PA, PE, S, SG) | 4¢ each       |\n| 0105.13.00         | 00             | Ducks.              | No.              | 0.9¢ each¹      | Free (A+, AU, BH, CL, CO, D, E, IL, JO, KR, MA, OM, P, PA, PE, S, SG) | 4¢ each       |\n| 0105.14.00         | 00             | Geese.              | No.              | 0.9¢ each¹      | Free (A+, AU, BH, CL, CO, D, E, IL, JO, KR, MA, OM, P, PA, PE, S, SG) | 4¢ each       |\n| 0105.15.00         | 00             | Guinea fowls.       | No.              | 0.9¢ each¹      | Free (A+, AU, BH, CL, CO, D, E, IL, JO, KR, MA, OM, P, PA, PE, S, SG) | 4¢ each       |\n| 0105.94.00         | 00             | Other:              |                  |                |                |                |\n|                     |                | Chickens.           | No. kg           | 2¢/kg¹           | Free (A+, AU, BH, CL, CO, D, E, IL, JO, KR, MA, OM, P, PA, PE, S, SG) | 17.6¢/kg      |\n| 0105.99.00         | 00             | Other.              | No. kg           | 2¢/kg¹           | Free (A+, AU, BH, CL, CO, D, E, IL, JO, KR, MA, OM, P, PA, PE, S, SG) | 17.6¢/kg      |\n| 0106               |                | Other live animals: Mammals: |                  |                |                |                |\n| 0106.11.00         | 00             | Primates.           | No.              | Free¹           |                | 15%            |\n| 0106.12.01         | 00             | Whales, dolphins and porpoises (mammals of the order Cetacea); manatees and dugongs (mammals of the order Sirenia); seals, sea lions and walruses (mammals of the suborder Pinnipedia). | No.              | Free¹           |                | 15%            |\n| 0106.13.00         | 00             | Camels and other camelids (Camelidae). | No.              | Free¹           |                | 15%            |\n| 0106.14.00         | 00             | Rabbits and hares.  | No.              | Free¹           |                | 15%            |\n| 0106.19            |                | Other:              |                  |                |                |                |\n| 0106.19.30         | 00             | Foxes.              | No.              | 4.8%¹           | Free (A+, AU, BH, CL, CO, D, E, IL, JO, KR, MA, OM, P, PA, PE, S, SG) | 15%            |\n| 0106.19.91         |                | Other               |                  | Free¹           |                | 15%            |\n|                     | 20             | Dogs.               | No.              |                |                |                |\n|                     | 95             | Other.              | No.              |                |                |                |\n| 0106.20.00         | 00             | Reptiles (including snakes and turtles). | No.              | Free¹           |                | 15%            |\n| 0106.31.00         | 00             | Birds:              |                  |                |                |                |\n|                     |                | Birds of prey.     | No.              | 1.8%¹           | Free (A, AU, BH, CL, CO, D, E, IL, JO, KR, MA, OM, P, PA, PE, S, SG) | 20%            |\n| 0106.32.00         | 00             | Psittaciformes (including parrots, parakeets, macaws and cockatoos). | No.              | 1.8%¹           | Free (A, AU, BH, CL, CO, D, E, IL, JO, KR, MA, OM, P, PA, PE, S, SG) | 20%            |\n| 0106.33.00         | 00             | Ostriches; emus (Dromaius novaehollandiae). | No.              | 1.8%¹           | Free (A, AU, BH, CL, CO, D, E, IL, JO, KR, MA, OM, P, PA, PE, S, SG) | 20%            |\n| 0106.39.01         | 00             | Other.              | No.              | 1.8%¹           | Free (A, AU, BH, CL, CO, D, E, IL, JO, KR, MA, OM, P, PA, PE, S, SG) | 20%            |\n| 0106.41.00         | 00             | Insects:            |                  |                |                |                |\n|                     | 00             | Bees.               | kg               | Free¹           |                | 15%            |\n| 0106.49.00         |                | Other.              |                  | Free¹           |                | 15%            |\n|                     | 10             | Leaf cutter bee larvae. | kg               |                |                |                |\n|                     | 90             | Other.              | kg               |                |                |                |\n| 0106.90.01         |                | Other.              |                  | Free¹           |                | 15%            |\n|                     | 10             | Worms.              | kg               |                |                |                |\n|                     | 20             | Bait (other than worms). | kg               |                |                |                |\n|                     | 80             | Other.              | kg               |                |                |                |\n```"
          },
          "metadata": {}
        },
        {
          "output_type": "stream",
          "name": "stdout",
          "text": [
            "✅ Saved extracted table as: Chapter 1 (1)_table.csv\n"
          ]
        }
      ]
    },
    {
      "cell_type": "code",
      "source": [
        "from pathlib import Path\n",
        "from mistralai import DocumentURLChunk\n",
        "from mistralai.models import OCRResponse\n",
        "import json\n",
        "from IPython.display import display, Markdown\n",
        "from google.colab import files\n",
        "import csv\n",
        "import re\n",
        "import time\n",
        "\n",
        "uploaded = files.upload()\n",
        "\n",
        "def get_combined_text(ocr_response: OCRResponse) -> str:\n",
        "    text = \"\"\n",
        "    for page in ocr_response.pages:\n",
        "        text += page.markdown + \"\\n\\n\"\n",
        "    return text\n",
        "\n",
        "\n",
        "for file_name in uploaded.keys():\n",
        "    print(f\"\\nProcessing file: {file_name}\")\n",
        "    start_time = time.time()\n",
        "\n",
        "    pdf_path = Path(f\"/content/{file_name}\")\n",
        "    assert pdf_path.is_file()\n",
        "\n",
        "    uploaded_file = client.files.upload(\n",
        "        file={\n",
        "            \"file_name\": pdf_path.stem,\n",
        "            \"content\": pdf_path.read_bytes(),\n",
        "        },\n",
        "        purpose=\"ocr\",\n",
        "    )\n",
        "\n",
        "    signed_url = client.files.get_signed_url(file_id=uploaded_file.id, expiry=1)\n",
        "\n",
        "    ocr_response = client.ocr.process(\n",
        "        document=DocumentURLChunk(document_url=signed_url.url),\n",
        "        model=\"mistral-ocr-latest\",\n",
        "        include_image_base64=True\n",
        "    )\n",
        "\n",
        "    combined_text = get_combined_text(ocr_response)\n",
        "\n",
        "    system_prompt = \"Extract only the **table contents** (in markdown or plain table format) from the following OCR text.\"\n",
        "    user_prompt = combined_text[:20000]  # Adjust if needed for long text\n",
        "\n",
        "    table_response = client.chat.complete(\n",
        "        model=\"mistral-small-2503\",\n",
        "        messages=[\n",
        "            {\"role\": \"system\", \"content\": system_prompt},\n",
        "            {\"role\": \"user\", \"content\": user_prompt}\n",
        "        ]\n",
        "    )\n",
        "\n",
        "    markdown_content = table_response.choices[0].message.content\n",
        "    print(f\"\\n📄 Extracted tables for {file_name}:\\n\")\n",
        "    display(Markdown(markdown_content))\n",
        "\n",
        "    lines = markdown_content.strip().split('\\n')\n",
        "    table_lines = [line for line in lines if '|' in line and not re.match(r'^\\s*\\|?\\s*-+\\s*\\|?', line)]\n",
        "    table_data = [list(map(str.strip, line.strip('|').split('|'))) for line in table_lines]\n",
        "\n",
        "    csv_name = pdf_path.stem + \"_table.csv\"\n",
        "    with open(csv_name, mode='w', newline='', encoding='utf-8') as f:\n",
        "        writer = csv.writer(f)\n",
        "        writer.writerows(table_data)\n",
        "\n",
        "    end_time = time.time()\n",
        "    duration = end_time - start_time\n",
        "\n",
        "    print(f\"✅ Saved extracted table as: {csv_name}\")\n",
        "\n",
        "    print(f\"Time taken for {file_name}: {duration:.2f} seconds\")\n"
      ],
      "metadata": {
        "colab": {
          "base_uri": "https://localhost:8080/",
          "height": 1000
        },
        "id": "o6mhDvwWIduD",
        "outputId": "a7e20f3a-61fe-4d6a-d55a-43caea794a70",
        "collapsed": true
      },
      "execution_count": null,
      "outputs": [
        {
          "output_type": "display_data",
          "data": {
            "text/plain": [
              "<IPython.core.display.HTML object>"
            ],
            "text/html": [
              "\n",
              "     <input type=\"file\" id=\"files-d9d0ba64-d0cc-4269-a568-20889cb57919\" name=\"files[]\" multiple disabled\n",
              "        style=\"border:none\" />\n",
              "     <output id=\"result-d9d0ba64-d0cc-4269-a568-20889cb57919\">\n",
              "      Upload widget is only available when the cell has been executed in the\n",
              "      current browser session. Please rerun this cell to enable.\n",
              "      </output>\n",
              "      <script>// Copyright 2017 Google LLC\n",
              "//\n",
              "// Licensed under the Apache License, Version 2.0 (the \"License\");\n",
              "// you may not use this file except in compliance with the License.\n",
              "// You may obtain a copy of the License at\n",
              "//\n",
              "//      http://www.apache.org/licenses/LICENSE-2.0\n",
              "//\n",
              "// Unless required by applicable law or agreed to in writing, software\n",
              "// distributed under the License is distributed on an \"AS IS\" BASIS,\n",
              "// WITHOUT WARRANTIES OR CONDITIONS OF ANY KIND, either express or implied.\n",
              "// See the License for the specific language governing permissions and\n",
              "// limitations under the License.\n",
              "\n",
              "/**\n",
              " * @fileoverview Helpers for google.colab Python module.\n",
              " */\n",
              "(function(scope) {\n",
              "function span(text, styleAttributes = {}) {\n",
              "  const element = document.createElement('span');\n",
              "  element.textContent = text;\n",
              "  for (const key of Object.keys(styleAttributes)) {\n",
              "    element.style[key] = styleAttributes[key];\n",
              "  }\n",
              "  return element;\n",
              "}\n",
              "\n",
              "// Max number of bytes which will be uploaded at a time.\n",
              "const MAX_PAYLOAD_SIZE = 100 * 1024;\n",
              "\n",
              "function _uploadFiles(inputId, outputId) {\n",
              "  const steps = uploadFilesStep(inputId, outputId);\n",
              "  const outputElement = document.getElementById(outputId);\n",
              "  // Cache steps on the outputElement to make it available for the next call\n",
              "  // to uploadFilesContinue from Python.\n",
              "  outputElement.steps = steps;\n",
              "\n",
              "  return _uploadFilesContinue(outputId);\n",
              "}\n",
              "\n",
              "// This is roughly an async generator (not supported in the browser yet),\n",
              "// where there are multiple asynchronous steps and the Python side is going\n",
              "// to poll for completion of each step.\n",
              "// This uses a Promise to block the python side on completion of each step,\n",
              "// then passes the result of the previous step as the input to the next step.\n",
              "function _uploadFilesContinue(outputId) {\n",
              "  const outputElement = document.getElementById(outputId);\n",
              "  const steps = outputElement.steps;\n",
              "\n",
              "  const next = steps.next(outputElement.lastPromiseValue);\n",
              "  return Promise.resolve(next.value.promise).then((value) => {\n",
              "    // Cache the last promise value to make it available to the next\n",
              "    // step of the generator.\n",
              "    outputElement.lastPromiseValue = value;\n",
              "    return next.value.response;\n",
              "  });\n",
              "}\n",
              "\n",
              "/**\n",
              " * Generator function which is called between each async step of the upload\n",
              " * process.\n",
              " * @param {string} inputId Element ID of the input file picker element.\n",
              " * @param {string} outputId Element ID of the output display.\n",
              " * @return {!Iterable<!Object>} Iterable of next steps.\n",
              " */\n",
              "function* uploadFilesStep(inputId, outputId) {\n",
              "  const inputElement = document.getElementById(inputId);\n",
              "  inputElement.disabled = false;\n",
              "\n",
              "  const outputElement = document.getElementById(outputId);\n",
              "  outputElement.innerHTML = '';\n",
              "\n",
              "  const pickedPromise = new Promise((resolve) => {\n",
              "    inputElement.addEventListener('change', (e) => {\n",
              "      resolve(e.target.files);\n",
              "    });\n",
              "  });\n",
              "\n",
              "  const cancel = document.createElement('button');\n",
              "  inputElement.parentElement.appendChild(cancel);\n",
              "  cancel.textContent = 'Cancel upload';\n",
              "  const cancelPromise = new Promise((resolve) => {\n",
              "    cancel.onclick = () => {\n",
              "      resolve(null);\n",
              "    };\n",
              "  });\n",
              "\n",
              "  // Wait for the user to pick the files.\n",
              "  const files = yield {\n",
              "    promise: Promise.race([pickedPromise, cancelPromise]),\n",
              "    response: {\n",
              "      action: 'starting',\n",
              "    }\n",
              "  };\n",
              "\n",
              "  cancel.remove();\n",
              "\n",
              "  // Disable the input element since further picks are not allowed.\n",
              "  inputElement.disabled = true;\n",
              "\n",
              "  if (!files) {\n",
              "    return {\n",
              "      response: {\n",
              "        action: 'complete',\n",
              "      }\n",
              "    };\n",
              "  }\n",
              "\n",
              "  for (const file of files) {\n",
              "    const li = document.createElement('li');\n",
              "    li.append(span(file.name, {fontWeight: 'bold'}));\n",
              "    li.append(span(\n",
              "        `(${file.type || 'n/a'}) - ${file.size} bytes, ` +\n",
              "        `last modified: ${\n",
              "            file.lastModifiedDate ? file.lastModifiedDate.toLocaleDateString() :\n",
              "                                    'n/a'} - `));\n",
              "    const percent = span('0% done');\n",
              "    li.appendChild(percent);\n",
              "\n",
              "    outputElement.appendChild(li);\n",
              "\n",
              "    const fileDataPromise = new Promise((resolve) => {\n",
              "      const reader = new FileReader();\n",
              "      reader.onload = (e) => {\n",
              "        resolve(e.target.result);\n",
              "      };\n",
              "      reader.readAsArrayBuffer(file);\n",
              "    });\n",
              "    // Wait for the data to be ready.\n",
              "    let fileData = yield {\n",
              "      promise: fileDataPromise,\n",
              "      response: {\n",
              "        action: 'continue',\n",
              "      }\n",
              "    };\n",
              "\n",
              "    // Use a chunked sending to avoid message size limits. See b/62115660.\n",
              "    let position = 0;\n",
              "    do {\n",
              "      const length = Math.min(fileData.byteLength - position, MAX_PAYLOAD_SIZE);\n",
              "      const chunk = new Uint8Array(fileData, position, length);\n",
              "      position += length;\n",
              "\n",
              "      const base64 = btoa(String.fromCharCode.apply(null, chunk));\n",
              "      yield {\n",
              "        response: {\n",
              "          action: 'append',\n",
              "          file: file.name,\n",
              "          data: base64,\n",
              "        },\n",
              "      };\n",
              "\n",
              "      let percentDone = fileData.byteLength === 0 ?\n",
              "          100 :\n",
              "          Math.round((position / fileData.byteLength) * 100);\n",
              "      percent.textContent = `${percentDone}% done`;\n",
              "\n",
              "    } while (position < fileData.byteLength);\n",
              "  }\n",
              "\n",
              "  // All done.\n",
              "  yield {\n",
              "    response: {\n",
              "      action: 'complete',\n",
              "    }\n",
              "  };\n",
              "}\n",
              "\n",
              "scope.google = scope.google || {};\n",
              "scope.google.colab = scope.google.colab || {};\n",
              "scope.google.colab._files = {\n",
              "  _uploadFiles,\n",
              "  _uploadFilesContinue,\n",
              "};\n",
              "})(self);\n",
              "</script> "
            ]
          },
          "metadata": {}
        },
        {
          "output_type": "stream",
          "name": "stdout",
          "text": [
            "Saving Chapter 1.pdf to Chapter 1.pdf\n",
            "\n",
            "Processing file: Chapter 1.pdf\n",
            "\n",
            "📄 Extracted tables for Chapter 1.pdf:\n",
            "\n"
          ]
        },
        {
          "output_type": "display_data",
          "data": {
            "text/plain": [
              "<IPython.core.display.Markdown object>"
            ],
            "text/markdown": "Here is the table contents extracted in markdown format:\n\n```markdown\n| Heading/Subheading | Stat. Suf- fis | Article Description | Unit of Quantity | Rates of Duty |  |  |\n|---------------------|----------------|----------------------|------------------|----------------|----------------|----------------|\n|                     |                |                      |                  | General        | Special        |                |\n| 0101               |                | Live horses, asses, mules and hinnies: |                  | Free¹          |                | Free           |\n| 0101.21.00         |                | Horses:              |                  |                |                |                |\n|                     | 10             | Purebred breeding animals. |                  |                |                |                |\n|                     | 20             | Males.               | No.              |                |                |                |\n| 0101.29.00         |                | Females.            | No.              |                |                |                |\n|                     | 10             | Other.               |                  | Free¹          |                | 20%            |\n|                     | 10             | Imported for immediate slaughter. | No. |                |                |                |\n|                     | 90             | Other.               | No.              |                |                |                |\n| 0101.30.00         | 00             | Asses.               | No.              | 6.8%¹          | Free (A+, AU, BH, CL, CO, D, E, IL, JO, KR, MA, OM, P, PA, PE, S, SG) | 15%            |\n| 0101.90            |                | Other:              |                  |                |                |                |\n| 0101.90.30         | 00             | Imported for immediate slaughter. | No. | Free¹          |                | Free           |\n| 0101.90.40         | 00             | Other.               | No.              | 4.5%¹          | Free (A+, AU, BH, CL, CO, D, E, IL, JO, KR, MA, OM, P, PA, PE, S, SG) | 20%            |\n| 0102               |                | Live bovine animals: |                  |                |                |                |\n| 0102.21.00         |                | Cattle:              |                  |                |                |                |\n|                     | 10             | Purebred breeding animals. |                  | Free¹          |                | Free           |\n|                     | 10             | Male.                | No.              |                |                |                |\n|                     | 20             | Female.              | No.              |                |                |                |\n|                     | 30             | Other:               | No.              |                |                |                |\n|                     | 50             | Male.                | No.              |                |                |                |\n|                     |                | Female.              | No.              |                |                |                |\n| 0102 (con.)         |                | Live bovine animals: (con.) |                  |                |                |                |\n| 0102.29            |                | Cattle: (con.)       |                  |                |                |                |\n| 0102.29.20         |                | Other:               |                  | Free¹          |                | 6.6¢/kg       |\n|                     | 11             | Cows imported specially for dairy purposes. | No. kg |                |                |                |\n|                     |                | Weighing less than 90 kg each..................... | No. kg |                |                |                |\n|                     | 12             | Weighing 90 kg or more each......................... | No. kg |                |                |                |\n| 0102.29.40         |                | Other.......................................... |                  | 1¢/kg¹         | Free (A+, AU, BH, CL, CO, D, E, IL, JO, KR, MA, OM, P, PA, PE, S, SG) | 5.5¢/kg       |\n|                     | 24             | Weighing less than 90 kg each: |                  |                |                |                |\n|                     |                | Male........................................................ |                  |                |                |                |\n|                     | 28             | Female.................................................... | No. kg |                |                |                |\n|                     |                | Weighing 90 kg or more but less than 200 kg each: |                  |                |                |                |\n|                     | 34             | Male.................................................... | No. kg |                |                |                |\n|                     | 38             | Female.................................................... | No. kg |                |                |                |\n|                     |                | Weighing 200 kg or more but less than 320 kg each: |                  |                |                |                |\n|                     | 54             | Male.................................................... | No. kg |                |                |                |\n|                     | 58             | Female.................................................... | No. kg |                |                |                |\n|                     |                | Weighing 320 kg or more each: |                  |                |                |                |\n|                     |                | For immediate slaughter: |                  |                |                |                |\n|                     | 62             | Steers............................................... | No. kg |                |                |                |\n|                     | 64             | Bulls.................................................... | No. kg |                |                |                |\n|                     | 66             | Cows.................................................... | No. kg |                |                |                |\n|                     | 68             | Heifers................................................. | No. kg |                |                |                |\n|                     | 68             | For breeding: |                  |                |                |                |\n|                     | 72             | Male.................................................... | No. kg |                |                |                |\n|                     | 74             | Female.................................................... | No. kg |                |                |                |\n|                     |                | Other: |                  |                |                |                |\n|                     | 82             | Male.................................................... | No. kg |                |                |                |\n|                     | 84             | Female.................................................... | No. kg |                |                |                |\n| 0102 (con.)         |                | Live bovine animals: (con.) |                  | Free¹          |                | Free           |\n| 0102.31.00         |                | Buffalo:             |                  |                |                |                |\n|                     | 10             | Purebred breeding animals. |                  |                |                |                |\n|                     | 10             | Male.                | No.              |                |                |                |\n|                     | 20             | Female.              | No.              |                |                |                |\n| 0102.39.00         |                | Other.               |                  | 1¢/kg¹         | Free (A+, AU, BH, CL, CO, D, E, IL, JO, KR, MA, OM, P, PA, PE, S, SG) | 5.5¢/kg       |\n|                     | 10             | Bison.               | No. kg           |                |                |                |\n|                     |                | Other:               |                  |                |                |                |\n|                     |                | Weighing less than 90 kg each: |                  |                |                |                |\n|                     | 24             | Male.                | No. kg           |                |                |                |\n|                     | 28             | Female.              | No. kg           |                |                |                |\n|                     |                | Weighing 90 kg or more but less than 200 kg each: |                  |                |                |                |\n|                     | 34             | Male.                | No. kg           |                |                |                |\n|                     | 38             | Female.              | No. kg           |                |                |                |\n|                     |                | Weighing 200 kg or more but less than 320 kg each: |                  |                |                |                |\n|                     | 54             | Male.                | No. kg           |                |                |                |\n|                     | 58             | Female.              | No. kg           |                |                |                |\n|                     |                | Weighing 320 kg or more each: |                  |                |                |                |\n|                     | 61             | For immediate slaughter. | No. kg |                |                |                |\n|                     | 72             | For breeding: |                  |                |                |                |\n|                     | 72             | Male.                | No. kg           |                |                |                |\n|                     | 74             | Female.              | No. kg           |                |                |                |\n|                     | 82             | Other:               |                  |                |                |                |\n|                     | 82             | Male.                | No. kg           |                |                |                |\n|                     | 84             | Female.              | No. kg           |                |                |                |\n| 0102.90.00         | 00             | Other.               | No. kg           | 1¢/kg¹         | Free (A+, AU, BH, CL, CO, D, E, IL, JO, KR, MA, OM, P, PA, PE, S, SG) | 5.5¢/kg       |\n| 0103               |                | Live swine:          |                  |                |                |                |\n| 0103.10.00         | 00             | Purebred breeding animals. | No. | Free¹          |                | Free           |\n| 0103.91.00         |                | Other:               |                  | Free¹          |                | 4.4¢/kg       |\n|                     | 10             | Weighing less than 7 kg each. | No. kg |                |                |                |\n|                     | 20             | Weighing 7 kg or more but less than 23 kg each.. | No. kg |                |                |                |\n|                     | 30             | Weighing 23 kg or more but less than 50 kg each. | No. kg |                |                |                |\n| 0103.92.00         |                | Weighing 50 kg or more each. |                  | Free¹          |                | 4.4¢/kg       |\n|                     | 10             | Imported for immediate slaughter. | No. kg |                |                |                |\n|                     | 20             | Breeding animals other than purebred breeding animals. | No. kg |                |                |                |\n|                     | 91             | Other.               | No. kg           |                |                |                |\n| 0104               |                | Live sheep and goats: |                  |                |                |                |\n| 0104.10.00         | 00             | Sheep.               | No.              | Free¹          |                | $3/head       |\n| 0104.20.00         | 00             | Goats.               | No.              | 68¢/head¹      | Free (A+, AU, BH, CL, CO, D, E, IL, JO, KR, MA, OM, P, PA, PE, S, SG) | $3/head       |\n| 0105               |                | Live poultry of the following kinds: Chickens, ducks, geese, turkeys and guineas: |                  |                |                |                |\n|                     |                | Weighing not more than 185 g : |                  |                |                |                |\n|                     |                | Chickens.            |                  | 0.9¢ each¹     | Free (A+, AU, BH, CL, CO, D, E, IL, JO, KR, MA, OM, P, PA, PE, S, SG) | 4¢ each       |\n|                     | 10             |                      |                  |                |                |                |\n|                     | 20             | Broiler-type (meat-type). | No.              |                |                |                |\n|                     | 40             |                      |                  |                |                |                |\n| 0105.12.00         | 00             | Turkeys.             | No.              | 0.9¢ each¹     | Free (A+, AU, BH, CL, CO, D, E, IL, JO, KR, MA, OM, P, PA, PE, S, SG) | 4¢ each       |\n| 0105.13.00         | 00             | Ducks.               | No.              | 0.9¢ each¹     | Free (A+, AU, BH, CL, CO, D, E, IL, JO, KR, MA, OM, P, PA, PE, S, SG) | 4¢ each       |\n| 0105.14.00         | 00             | Geese.               | No.              | 0.9¢ each¹     | Free (A+, AU, BH, CL, CO, D, E, IL, JO, KR, MA, OM, P, PA, PE, S, SG) | 4¢ each       |\n| 0105.15.00         | 00             | Guinea fowls.        | No.              | 0.9¢ each¹     | Free (A+, AU, BH, CL, CO, D, E, IL, JO, KR, MA, OM, P, PA, PE, S, SG) | 4¢ each       |\n| 0105.94.00         | 00             | Other:               | No. kg           | 2¢/kg¹         | Free (A+, AU, BH, CL, CO, D, E, IL, JO, KR, MA, OM, P, PA, PE, S, SG) | 17.6¢/kg      |\n| 0105.99.00         | 00             | Other.               | No. kg           | 2¢/kg¹         | Free (A+, AU, BH, CL, CO, D, E, IL, JO, KR, MA, OM, P, PA, PE, S, SG) | 17.6¢/kg      |\n| 0106               |                | Other live animals: Mammals: |                  |                |                |                |\n| 0106.11.00         | 00             | Primates.            | No.              | Free¹          |                | 15%            |\n| 0106.12.01         | 00             | Whales, dolphins and porpoises (mammals of the order Cetacea); manatees and dugongs (mammals of the order Sirenia); seals, sea lions and walruses (mammals of the suborder Pinnipedia). | No. | Free¹          |                | 15%            |\n| 0106.13.00         | 00             | Camels and other camelids (Camelidae). | No. | Free¹          |                | 15%            |\n| 0106.14.00         | 00             | Rabbits and hares.   | No.              | Free¹          |                | 15%            |\n| 0106.19            |                | Other:               |                  |                |                |                |\n| 0106.19.30         | 00             | Foxes.               | No.              | 4.8%¹          | Free (A+, AU, BH, CL, CO, D, E, IL, JO, KR, MA, OM, P, PA, PE, S, SG) | 15%            |\n| 0106.19.91         |                | Other.               |                  | Free¹          |                | 15%            |\n|                     | 20             | Dogs.                | No.              |                |                |                |\n|                     | 95             | Other.               | No.              |                |                |                |\n| 0106.20.00         | 00             | Reptiles (including snakes and turtles). | No. | Free¹          |                | 15%            |\n| 0106.31.00         | 00             | Birds:               |                  |                |                |                |\n|                     |                | Birds of prey.       | No.              | 1.8%¹          | Free (A, AU, BH, CL, CO, D, E, IL, JO, KR, MA, OM, P, PA, PE, S, SG) | 20%            |\n| 0106.32.00         | 00             | Psittaciformes (including parrots, parakeets, macaws and cockatoos). | No. | 1.8%¹          | Free (A, AU, BH, CL, CO, D, E, IL, JO, KR, MA, OM, P, PA, PE, S, SG) | 20%            |\n| 0106.33.00         | 00             | Ostriches; emus (Dromaius novaehollandiae). | No. | 1.8%¹          | Free (A, AU, BH, CL, CO, D, E, IL, JO, KR, MA, OM, P, PA, PE, S, SG) | 20%            |\n| 0106.39.01         | 00             | Other.               | No.              | 1.8%¹          | Free (A, AU, BH, CL, CO, D, E, IL, JO, KR, MA, OM, P, PA, PE, S, SG) | 20%            |\n| 0106.41.00         | 00             | Insects:             |                  |                |                |                |\n|                     | 00             | Bees.                | kg               | Free¹          |                | 15%            |\n| 0106.49.00         |                | Other.               |                  | Free¹          |                | 15%            |\n|                     | 10             | Leaf cutter bee larvae. | kg               |                |                |                |\n|                     | 90             | Other.               | kg               |                |                |                |\n| 0106.90.01         |                | Other.               |                  | Free¹          |                | 15%            |\n|                     | 10             | Worms.               | kg               |                |                |                |\n|                     | 20             | Bait (other than worms). | kg |                |                |                |\n|                     | 80             | Other.               | kg               |                |                |                |\n```"
          },
          "metadata": {}
        },
        {
          "output_type": "stream",
          "name": "stdout",
          "text": [
            "✅ Saved extracted table as: Chapter 1_table.csv\n",
            "Time taken for Chapter 1.pdf: 43.58 seconds\n"
          ]
        }
      ]
    },
    {
      "cell_type": "code",
      "source": [],
      "metadata": {
        "id": "fco15fpO1RzC"
      },
      "execution_count": null,
      "outputs": []
    },
    {
      "cell_type": "markdown",
      "source": [
        "# **Using Azure Blob Storage -->**"
      ],
      "metadata": {
        "id": "3OzaU1wAtKMx"
      }
    },
    {
      "cell_type": "code",
      "source": [
        "from pathlib import Path\n",
        "from mistralai import DocumentURLChunk\n",
        "from mistralai.models import OCRResponse\n",
        "import json\n",
        "from IPython.display import display, Markdown\n",
        "from azure.storage.blob import BlobServiceClient\n",
        "import io\n",
        "import re\n",
        "import csv\n",
        "\n",
        "AZURE_STORAGE_CONNECTION_STRING = \"DefaultEndpointsProtocol=https;AccountName=agenticpodstorageacnt;AccountKey=WbE1Lm0JH1aTSuBWw7Lhlrc0igamXOIqOcOtePDrL3gDhWWfCE6ul4jDw2tdVE09KG56HxhbEDHc+AStBHv5dQ==;EndpointSuffix=core.windows.net\"\n",
        "SOURCE_CONTAINER_NAME = \"htsocrpoc\"\n",
        "DESTINATION_CONTAINER_NAME = \"output-htsocr\"\n",
        "\n",
        "blob_service_client = BlobServiceClient.from_connection_string(AZURE_STORAGE_CONNECTION_STRING)\n",
        "source_container_client = blob_service_client.get_container_client(SOURCE_CONTAINER_NAME)\n",
        "dest_container_client = blob_service_client.get_container_client(DESTINATION_CONTAINER_NAME)\n",
        "\n",
        "blob_list = source_container_client.list_blobs()\n",
        "\n",
        "for blob in blob_list:\n",
        "    blob_name = blob.name\n",
        "\n",
        "    if not blob_name.lower().endswith(\".pdf\"):\n",
        "        continue\n",
        "\n",
        "    print(f\"\\nProcessing file: {blob_name}\")\n",
        "\n",
        "    blob_client = source_container_client.get_blob_client(blob_name)\n",
        "    pdf_bytes = blob_client.download_blob().readall()\n",
        "\n",
        "    if not pdf_bytes:\n",
        "        print(f\"Skipping empty file: {blob_name}\")\n",
        "        continue\n",
        "\n",
        "    uploaded_file = client.files.upload(\n",
        "        file={\n",
        "            \"file_name\": Path(blob_name).stem,\n",
        "            \"content\": pdf_bytes,\n",
        "        },\n",
        "        purpose=\"ocr\",\n",
        "    )\n",
        "\n",
        "    signed_url = client.files.get_signed_url(file_id=uploaded_file.id, expiry=1)\n",
        "\n",
        "    ocr_response = client.ocr.process(\n",
        "        document=DocumentURLChunk(document_url=signed_url.url),\n",
        "        model=\"mistral-ocr-latest\",\n",
        "        include_image_base64=True\n",
        "    )\n",
        "\n",
        "    def get_combined_text(ocr_response: OCRResponse) -> str:\n",
        "        text = \"\"\n",
        "        for page in ocr_response.pages:\n",
        "            text += page.markdown + \"\\n\\n\"\n",
        "        return text\n",
        "\n",
        "    combined_text = get_combined_text(ocr_response)\n",
        "\n",
        "    system_prompt = \"Extract only the **table contents** (in markdown or plain table format) from the following OCR text.\"\n",
        "    user_prompt = combined_text[:20000]\n",
        "\n",
        "    table_response = client.chat.complete(\n",
        "        model=\"mistral-small-2503\",\n",
        "        messages=[\n",
        "            {\"role\": \"system\", \"content\": system_prompt},\n",
        "            {\"role\": \"user\", \"content\": user_prompt}\n",
        "        ]\n",
        "    )\n",
        "\n",
        "    markdown_content = table_response.choices[0].message.content\n",
        "    print(f\"\\nExtracted tables for {blob_name}:\\n\")\n",
        "    display(Markdown(markdown_content))\n",
        "\n",
        "    lines = markdown_content.strip().split('\\n')\n",
        "    table_lines = [line for line in lines if '|' in line and not re.match(r'^\\s*\\|?\\s*-+\\s*\\|?', line)]\n",
        "    table_data = [list(map(str.strip, line.strip('|').split('|'))) for line in table_lines]\n",
        "\n",
        "    if not table_data:\n",
        "        print(f\"No table data extracted for {blob_name}. Skipping CSV upload.\")\n",
        "        continue\n",
        "\n",
        "    csv_buffer = io.StringIO()\n",
        "    writer = csv.writer(csv_buffer)\n",
        "    writer.writerows(table_data)\n",
        "    csv_buffer.seek(0)\n",
        "\n",
        "    csv_blob_name = Path(blob_name).stem + \"_table.csv\"\n",
        "    dest_blob_client = dest_container_client.get_blob_client(csv_blob_name)\n",
        "\n",
        "    dest_blob_client.upload_blob(csv_buffer.getvalue(), overwrite=True)\n",
        "\n",
        "    print(f\"Saved extracted table as CSV into Azure Container: {DESTINATION_CONTAINER_NAME}/{csv_blob_name}\")\n"
      ],
      "metadata": {
        "colab": {
          "base_uri": "https://localhost:8080/",
          "height": 1000
        },
        "id": "KMr7kxeLE8WQ",
        "outputId": "8edeb48c-fe87-4cb5-c3fb-629e84b08ee8"
      },
      "execution_count": 10,
      "outputs": [
        {
          "output_type": "stream",
          "name": "stdout",
          "text": [
            "\n",
            "Processing file: Chapter 1.pdf\n",
            "\n",
            "📄 Extracted tables for Chapter 1.pdf:\n",
            "\n"
          ]
        },
        {
          "output_type": "display_data",
          "data": {
            "text/plain": [
              "<IPython.core.display.Markdown object>"
            ],
            "text/markdown": "Here is the table contents extracted in markdown format:\n\n```markdown\n| Heading/Subheading | Stat. Suf- fis | Article Description | Unit of Quantity | Rates of Duty |  |  |\n|---------------------|----------------|----------------------|------------------|----------------|----------------|----------------|\n|                     |                |                      |                  | General        | Special        |                |\n| 0101               |                | Live horses, asses, mules and hinnies: |                  | Free¹          |                | Free           |\n| 0101.21.00         | 10             | Purebred breeding animals. |                  |                |                |                |\n|                     | 20             | Males. | No. |                |                |                |\n| 0101.29.00         |                | Females. | No. |                |                |                |\n|                     | 10             | Other. |                  | Free¹          |                | 20%            |\n|                     | 90             | Imported for immediate slaughter. | No. |                |                |                |\n|                     | 90             | Other. | No. |                |                |                |\n| 0101.30.00         | 00             | Asses. | No. | 6.8%¹          | Free (A+, AU, BH, CL, CO, D, E, IL, JO, KR, MA, OM, P, PA, PE, S, SG) | 15%            |\n| 0101.90            |                | Other: |                  |                |                |                |\n| 0101.90.30         | 00             | Imported for immediate slaughter. | No. | Free¹          |                | Free           |\n| 0101.90.40         | 00             | Other. | No. | 4.5%¹          | Free (A+, AU, BH, CL, CO, D, E, IL, JO, KR, MA, OM, P, PA, PE, S, SG) | 20%            |\n| 0102               |                | Live bovine animals: |                  |                |                |                |\n| 0102.21.00         |                | Cattle: |                  |                |                |                |\n|                     | 10             | Purebred breeding animals. |                  | Free¹          |                | Free           |\n|                     | 20             | Male. | No. |                |                |                |\n|                     | 30             | Female. | No. |                |                |                |\n|                     | 50             | Other: | No. |                |                |                |\n|                     |                | Male. | No. |                |                |                |\n| 0102.29.20         |                | Other: |                  | Free¹          |                | 6.6¢/kg       |\n|                     | 11             | Cows imported specially for dairy purposes. |                  |                |                |                |\n|                     |                | Weighing less than 90 kg each. | No. kg |                |                |                |\n|                     | 12             | Weighing 90 kg or more each. | No. kg |                |                |                |\n| 0102.29.40         |                | Other. |                  | 1¢/kg¹         | Free (A+, AU, BH, CL, CO, D, E, IL, JO, KR, MA, OM, P, PA, PE, S, SG) | 5.5¢/kg       |\n|                     | 24             | Weighing less than 90 kg each: |                  |                |                |                |\n|                     |                | Male. | No. kg |                |                |                |\n|                     | 28             | Female. | No. kg |                |                |                |\n|                     | 34             | Weighing 90 kg or more but less than 200 kg each: |                  |                |                |                |\n|                     |                | Male. | No. kg |                |                |                |\n|                     | 38             | Female. | No. kg |                |                |                |\n|                     | 54             | Weighing 200 kg or more but less than 320 kg each: |                  |                |                |                |\n|                     |                | Male. | No. kg |                |                |                |\n|                     | 58             | Female. | No. kg |                |                |                |\n|                     | 62             | Weighing 320 kg or more each: |                  |                |                |                |\n|                     |                | For immediate slaughter: |                  |                |                |                |\n|                     |                | Steers. | No. kg |                |                |                |\n|                     | 64             | Bulls. | No. kg |                |                |                |\n|                     | 66             | Cows. | No. kg |                |                |                |\n|                     | 68             | Heifers. | No. kg |                |                |                |\n|                     | 68             | For breeding: |                  |                |                |                |\n|                     | 72             | Male. | No. kg |                |                |                |\n|                     | 74             | Female. | No. kg |                |                |                |\n|                     | 82             | Other: |                  |                |                |                |\n|                     |                | Male. | No. kg |                |                |                |\n|                     | 84             | Female. | No. kg |                |                |                |\n| 0102.31.00         |                | Buffalo: |                  |                |                |                |\n|                     | 10             | Purebred breeding animals. |                  |                |                |                |\n|                     | 10             | Male. | No. |                |                |                |\n|                     | 20             | Female. | No. |                |                |                |\n| 0102.39.00         |                | Other. |                  | 1¢/kg¹         | Free (A+, AU, BH, CL, CO, D, E, IL, JO, KR, MA, OM, P, PA, PE, S, SG) | 5.5¢/kg       |\n|                     | 10             | Bison. | No. kg |                |                |                |\n|                     | 24             | Weighing less than 90 kg each: |                  |                |                |                |\n|                     |                | Male. | No. kg |                |                |                |\n|                     | 28             | Female. | No. kg |                |                |                |\n|                     | 34             | Weighing 90 kg or more but less than 200 kg each: |                  |                |                |                |\n|                     |                | Male. | No. kg |                |                |                |\n|                     | 38             | Female. | No. kg |                |                |                |\n|                     | 54             | Weighing 200 kg or more but less than 320 kg each: |                  |                |                |                |\n|                     |                | Male. | No. kg |                |                |                |\n|                     | 58             | Female. | No. kg |                |                |                |\n|                     | 61             | Weighing 320 kg or more each: |                  |                |                |                |\n|                     |                | For immediate slaughter. | No. kg |                |                |                |\n|                     | 72             | For breeding: |                  |                |                |                |\n|                     |                | Male. | No. kg |                |                |                |\n|                     | 74             | Female. | No. kg |                |                |                |\n|                     | 82             | Other: |                  |                |                |                |\n|                     |                | Male. | No. kg |                |                |                |\n|                     | 84             | Female. | No. kg |                |                |                |\n| 0102.90.00         | 00             | Other. | No. kg | 1¢/kg¹         | Free (A+, AU, BH, CL, CO, D, E, IL, JO, KR, MA, OM, P, PA, PE, S, SG) | 5.5¢/kg       |\n| 0103               |                | Live swine: |                  |                |                |                |\n| 0103.10.00         | 00             | Purebred breeding animals. | No. | Free¹          |                | Free           |\n| 0103.91.00         |                | Other: |                  |                |                |                |\n|                     | 10             | Weighing less than 50 kg each. |                  | Free¹          |                | 4.4¢/kg       |\n|                     |                | Weighing less than 7 kg each. | No. kg |                |                |                |\n|                     | 20             | Weighing 7 kg or more but less than 23 kg each. | No. kg |                |                |                |\n|                     | 30             | Weighing 23 kg or more but less than 50 kg each. | No. kg |                |                |                |\n| 0103.92.00         |                | Weighing 50 kg or more each. |                  | Free¹          |                | 4.4¢/kg       |\n|                     | 10             | Imported for immediate slaughter. | No. kg |                |                |                |\n|                     | 20             | Breeding animals other than purebred breeding animals. | No. kg |                |                |                |\n|                     | 91             | Other. | No. kg |                |                |                |\n| 0104               |                | Live sheep and goats: |                  |                |                |                |\n| 0104.10.00         | 00             | Sheep. | No. | Free¹          |                | $3/head       |\n| 0104.20.00         | 00             | Goats. | No. | 68¢/head¹      | Free (A+, AU, BH, CL, CO, D, E, IL, JO, KR, MA, OM, P, PA, PE, S, SG) | $3/head       |\n| 0105               |                | Live poultry of the following kinds: Chickens, ducks, geese, turkeys and guineas: |                  |                |                |                |\n|                     |                | Weighing not more than 185 g: |                  |                |                |                |\n|                     | 10             | Chickens. | No. | 0.9¢ each¹     | Free (A+, AU, BH, CL, CO, D, E, IL, JO, KR, MA, OM, P, PA, PE, S, SG) | 4¢ each       |\n|                     | 20             | Broiler-type (meat-type). | No. |                |                |                |\n|                     | 40             | |                  |                |                |                |\n| 0105.12.00         | 00             | Turkeys. | No. | 0.9¢ each¹     | Free (A+, AU, BH, CL, CO, D, E, IL, JO, KR, MA, OM, P, PA, PE, S, SG) | 4¢ each       |\n| 0105.13.00         | 00             | Ducks. | No. | 0.9¢ each¹     | Free (A+, AU, BH, CL, CO, D, E, IL, JO, KR, MA, OM, P, PA, PE, S, SG) | 4¢ each       |\n| 0105.14.00         | 00             | Geese. | No. | 0.9¢ each¹     | Free (A+, AU, BH, CL, CO, D, E, IL, JO, KR, MA, OM, P, PA, PE, S, SG) | 4¢ each       |\n| 0105.15.00         | 00             | Guinea fowls. | No. | 0.9¢ each¹     | Free (A+, AU, BH, CL, CO, D, E, IL, JO, KR, MA, OM, P, PA, PE, S, SG) | 4¢ each       |\n| 0105.94.00         | 00             | Other: |                  |                |                |                |\n|                     |                | Chickens. | No. kg | 2¢/kg¹         | Free (A+, AU, BH, CL, CO, D, E, IL, JO, KR, MA, OM, P, PA, PE, S, SG) | 17.6¢/kg      |\n| 0105.99.00         | 00             | Other. | No. kg | 2¢/kg¹         | Free (A+, AU, BH, CL, CO, D, E, IL, JO, KR, MA, OM, P, PA, PE, S, SG) | 17.6¢/kg      |\n| 0106               |                | Other live animals: Mammals: |                  |                |                |                |\n| 0106.11.00         | 00             | Primates. | No. | Free¹          |                | 15%            |\n| 0106.12.01         | 00             | Whales, dolphins and porpoises (mammals of the order Cetacea); manatees and dugongs (mammals of the order Sirenia); seals, sea lions and walruses (mammals of the suborder Pinnipedia). | No. | Free¹          |                | 15%            |\n| 0106.13.00         | 00             | Camels and other camelids (Camelidae). | No. | Free¹          |                | 15%            |\n| 0106.14.00         | 00             | Rabbits and hares. | No. | Free¹          |                | 15%            |\n| 0106.19            |                | Other: |                  |                |                |                |\n| 0106.19.30         | 00             | Foxes. | No. | 4.8%¹          | Free (A+, AU, BH, CL, CO, D, E, IL, JO, KR, MA, OM, P, PA, PE, S, SG) | 15%            |\n| 0106.19.91         |                | Other |                  | Free¹          |                | 15%            |\n|                     | 20             | Dogs. | No. |                |                |                |\n|                     | 95             | Other. | No. |                |                |                |\n| 0106.20.00         | 00             | Reptiles (including snakes and turtles). | No. | Free¹          |                | 15%            |\n| 0106.31.00         | 00             | Birds: |                  |                |                |                |\n|                     |                | Birds of prey. | No. | 1.8%¹          | Free (A, AU, BH, CL, CO, D, E, IL, JO, KR, MA, OM, P, PA, PE, S, SG) | 20%            |\n| 0106.32.00         | 00             | Psittaciformes (including parrots, parakeets, macaws and cockatoos). | No. | 1.8%¹          | Free (A, AU, BH, CL, CO, D, E, IL, JO, KR, MA, OM, P, PA, PE, S, SG) | 20%            |\n| 0106.33.00         | 00             | Ostriches; emus (Dromaius novaehollandiae). | No. | 1.8%¹          | Free (A, AU, BH, CL, CO, D, E, IL, JO, KR, MA, OM, P, PA, PE, S, SG) | 20%            |\n| 0106.39.01         | 00             | Other. | No. | 1.8%¹          | Free (A, AU, BH, CL, CO, D, E, IL, JO, KR, MA, OM, P, PA, PE, S, SG) | 20%            |\n| 0106.41.00         | 00             | Insects: |                  |                |                |                |\n|                     | 00             | Bees. | kg | Free¹          |                | 15%            |\n| 0106.49.00         |                | Other. |                  | Free¹          |                | 15%            |\n|                     | 10             | Leaf cutter bee larvae. | kg |                |                |                |\n|                     | 90             | Other. | kg |                |                |                |\n| 0106.90.01         |                | Other. |                  | Free¹          |                | 15%            |\n|                     | 10             | Worms. | kg |                |                |                |\n|                     | 20             | Bait (other than worms). | kg |                |                |                |\n|                     | 80             | Other. | kg |                |                |                |\n```"
          },
          "metadata": {}
        },
        {
          "output_type": "stream",
          "name": "stdout",
          "text": [
            "Saved extracted table as CSV into Azure Container: output-htsocr/Chapter 1_table.csv\n",
            "\n",
            "Processing file: Chapter 2.pdf\n",
            "\n",
            "📄 Extracted tables for Chapter 2.pdf:\n",
            "\n"
          ]
        },
        {
          "output_type": "display_data",
          "data": {
            "text/plain": [
              "<IPython.core.display.Markdown object>"
            ],
            "text/markdown": "Here are the tables extracted from the text:\n\n### Table 1: Quantity Limits for Beef Imports\n\n| Country/Area | Quantity (metric ton) |\n|---------------|-----------------------|\n| Canada        | No limit              |\n| Mexico        | No limit              |\n| Australia     | 378,214               |\n| New Zealand   | 213,402               |\n| Argentina     | 20,000                |\n| Uruguay       | 20,000                |\n| Other countries or areas | 65,005 |\n\n### Table 2: Rates of Duty for Meat of Bovine Animals, Fresh or Chilled\n\n| Heading/Subheading | Stat. Suf. | Article Description | Unit of Quantity | Rates of Duty (General) | Rates of Duty (Special) | Rates of Duty (Column 2) |\n|---------------------|------------|----------------------|-------------------|-------------------------|-------------------------|--------------------------|\n| 0201               |            | Meat of bovine animals, fresh or chilled: |                   |                         |                         |                          |\n| 0201.10            |            | Carcasses and half-carcasses: |                   |                         |                         |                          |\n| 0201.10.05         |            | Described in general note 15 of the tariff schedule and entered pursuant to its provisions. | kg | 4.4¢/kg | Free (A+, AU, BH, CL, CO, D, E*, IL, JO, KR, MA, OM, P, PA, PE, S, SG) | 13.2¢/kg |\n| 0201.10.10         |            | Other | kg | 4.4¢/kg | Free (A+, AU, BH, CL, CO, D, E*, IL, JO, KR, MA, OM, P, PA, PE, S, SG) | 13.2¢/kg |\n| 0201.10.50         |            | Other | kg | 26.4% | Free (BH, CL, CO, JO, MA, OM, P, PE, S, SG) <br> 1.7% (KR) <br> See 9822.04.01-9822.04.03 (AU) <br> See 9919.02.01-9919.02.02 (PA) | 31.1% |\n| 0201.20            |            | Other cuts with bone in: |                   |                         |                         |                          |\n| 0201.20.02         | 00         | High-quality beef cuts. | kg | 4% | Free (A+, AU, BH, CL, CO, D, E*, IL, JO, KR, MA, OM, P, PA, PE, S, SG) | 20% |\n| 0201.20.04         | 00         | Other. | kg | 10% | Free (A+, AU, BH, CL, CO, D, E*, IL, JO, KR, MA, OM, P, PA, PE, S, SG) | 20% |\n| 0201.20.06         | 00         | Other. | kg | 4.4¢/kg | Free (A+, AU, BH, CL, CO, D, E*, IL, JO, KR, MA, OM, P, PA, PE, S, SG) | 13.2¢/kg |\n| 0201.20.10         | 00         | High-quality beef cuts. | kg | 4% | Free (A+, AU, BH, CL, CO, D, E*, IL, JO, KR, MA, OM, P, PA, PE, S, SG) | 20% |\n| 0201.20.30         | 00         | Other. | kg | 10% | Free (A+, AU, BH, CL, CO, D, E*, IL, JO, KR, MA, OM, P, PA, PE, S, SG) | 20% |\n| 0201.20.50         |            | Other. | kg | 4.4¢/kg | Free (A+, AU, BH, CL, CO, D, E*, IL, JO, KR, MA, OM, P, PA, PE, S, SG) | 13.2¢/kg |\n| 0201.20.80         |            | Other. | kg | 26.4% | Free (BH, CL, CO, JO, MA, OM, P, PE, S, SG) <br> 1.7% (KR) <br> See 9822.04.01-9822.04.03 (AU) <br> See 9919.02.01-9919.02.02 (PA) | 31.1% |\n| 0201.30            |            | Boneless: |                   |                         |                         |                          |\n| 0201.30.02         | 00         | High-quality beef cuts. | kg | 4% | Free (A+, AU, BH, CL, CO, D, E*, IL, JO, KR, MA, OM, P, PA, PE, S, SG) | 20% |\n| 0201.30.04         | 00         | Other. | kg | 10% | Free (A+, AU, BH, CL, CO, D, E*, IL, JO, KR, MA, OM, P, PA, PE, S, SG) | 20% |\n| 0201.30.06         | 00         | Other. | kg | 4.4¢/kg | Free (A+, AU, BH, CL, CO, D, E*, IL, JO, KR, MA, OM, P, PA, PE, S, SG) | 13.2¢/kg |\n| 0201.30.10         | 00         | High-quality beef cuts. | kg | 4% | Free (A+, AU, BH, CL, CO, D, E*, IL, JO, KR, MA, OM, P, PA, PE, S, SG) | 20% |\n| 0201.30.30         | 00         | Other. | kg | 10% | Free (A+, AU, BH, CL, CO, D, E*, IL, JO, KR, MA, OM, P, PA, PE, S, SG) | 20% |\n| 0201.30.50         |            | Other. | kg | 4.4¢/kg | Free (A+, AU, BH, CL, CO, D, E*, IL, JO, KR, MA, OM, P, PA, PE, S, SG) | 13.2¢/kg |\n| 0201.30.80         |            | Other | kg | 26.4% | Free (BH, CL, CO, JO, MA, OM, P, PE, S, SG) <br> 1.7% (KR) <br> See 9822.04.01-9822.04.03 (AU) <br> See 9919.02.01-9919.02.02 (PA) | 31.1% |\n\n### Table 3: Rates of Duty for Meat of Bovine Animals, Frozen\n\n| Heading/Subheading | Stat. Suf. | Article Description | Unit of Quantity | Rates of Duty (General) | Rates of Duty (Special) | Rates of Duty (Column 2) |\n|---------------------|------------|----------------------|-------------------|-------------------------|-------------------------|--------------------------|\n| 0202               |            | Meat of bovine animals, frozen: |                   |                         |                         |                          |\n| 0202.10            |            | Carcasses and half-carcasses: |                   |                         |                         |                          |\n| 0202.10.05         |            | Described in general note 15 of the tariff schedule and entered pursuant to its provisions. | kg | 4.4¢/kg | Free (A+, AU, BH, CL, CO, D, E*, IL, JO, KR, MA, OM, P, PA, PE, S, SG) | 13.2¢/kg |\n| 0202.10.10         |            | Other | kg | 4.4¢/kg | Free (A+, AU, BH, CL, CO, D, E*, IL, JO, KR, MA, OM, P, PA, PE, S, SG) | 13.2¢/kg |\n| 0202.10.50         |            | Other | kg | 26.4% | Free (BH, CL, CO, JO, MA, OM, P, PE, S, SG) <br> 1.7% (KR) <br> See 9822.04.01-9822.04.03 (AU) <br> See 9919.02.01-9919.02.02 (PA) | 31.1% |\n| 0202.20            |            | Other cuts with bone in: |                   |                         |                         |                          |\n| 0202.20.02         | 00         | High-quality beef cuts. | kg | 4% | Free (A+, AU, BH, CL, CO, D, E*, IL, JO, KR, MA, OM, P, PA, PE, S, SG) | 20% |\n| 0202.20.04         | 00         | Other. | kg | 10% | Free (A+, AU, BH, CL, CO, D, E*, IL, JO, KR, MA, OM, P, PA, PE, S, SG) | 20% |\n| 0202.20.06         | 00         | Other. | kg | 4.4¢/kg | Free (A+, AU, BH, CL, CO, D, E*, IL, JO, KR, MA, OM, P, PA, PE, S, SG) | 13.2¢/kg |\n| 0202.20.10         | 00         | High-quality beef cuts. | kg | 4% | Free (A+, AU, BH, CL, CO, D, E*, IL, JO, KR, MA, OM, P, PA, PE, S, SG) | 20% |\n| 0202.20.30         | 00         | Other. | kg | 10% | Free (A+, AU, BH, CL, CO, D, E*, IL, JO, KR, MA, OM, P, PA, PE, S, SG) | 20% |\n| 0202.20.50         |            | Other. | kg | 4.4¢/kg | Free (A+, AU, BH, CL, CO, D, E*, IL, JO, KR, MA, OM, P, PA, PE, S, SG) | 13.2¢/kg |\n| 0202.20.80         | 00         | Other. | kg | 26.4% | Free (BH, CL, CO, JO, MA, OM, P, PE, S, SG) <br> 1.7% (KR) <br> See 9822.04.01-9822.04.03 (AU) <br> See 9919.02.01-9919.02.02 (PA) | 31.1% |\n| 0202.30            |            | Boneless: |                   |                         |                         |                          |\n| 0202.30.02         | 00         | High-quality beef cuts. | kg | 4% | Free (A+, AU, BH, CL, CO, D, E*, IL, JO, KR, MA, OM, P, PA, PE, S, SG) | 20% |\n| 0202.30.04         | 00         | Other. | kg | 10% | Free (A+, AU, BH, CL, CO, D, E*, IL, JO, KR, MA, OM, P, PA, PE, S, SG) | 20% |\n| 0202.30.06         | 00         | Other. | kg | 4.4¢/kg | Free (A+, AU, BH, CL, CO, D, E*, IL, JO, KR, MA, OM, P, PA, PE, S, SG) | 13.2¢/kg |\n| 0202.30.10         | 00         | High-quality beef cuts. | kg | 4% | Free (A+, AU, BH, CL, CO, D, E*, IL, JO, KR, MA, OM, P, PA, PE, S, SG) | 20% |\n| 0202.30.30         | 00         | Other. | kg | 10% | Free (A+, AU, BH, CL, CO, D, E*, IL, JO, KR, MA, OM, P, PA, PE, S, SG) | 20% |\n| 0202.30.50         |            | Other. | kg | 4.4¢/kg | Free (A+, AU, BH, CL, CO, D, E*, IL, JO, KR, MA, OM, P, PA, PE, S, SG) | 13.2¢/kg |\n| 0202.30.80         | 00         | Other | kg | 26.4% | Free (BH, CL, CO, JO, MA, OM, P, PE, S, SG) <br> 1.7% (KR) <br> See 9822.04.01-9822.04.03 (AU) <br> See 9919.02.01-9919.02.02 (PA) | 31.1% |\n\n### Table 4: Rates of Duty for Meat of Swine, Fresh, Chilled, or Frozen\n\n| Heading/Subheading | Stat. Suf. | Article Description | Unit of Quantity | Rates of Duty (General) | Rates of Duty (Special) | Rates of Duty (Column 2) |\n|---------------------|------------|----------------------|-------------------|-------------------------|-------------------------|--------------------------|\n| 0203               |            | Meat of swine, fresh, chilled, or frozen: |                   |                         |                         |                          |\n| 0203.11.00         | 00         | Carcasses and half-carcasses. | kg | Free |                         | 5.5¢/kg |\n| 0203.12.10         |            | Hams, shoulders and cuts thereof, with bone in: |                   |                         |                         |                          |\n| 0203.12.10         | 10         | Processed: Hams and cuts thereof. | kg | 1.4¢/kg | Free (A+, AU, BH, JO, KR, MA, OM, P, PA, PE, S, SG) | 7.2¢/kg |\n| 0203.12.10         | 20         | Processed: Shoulders and cuts thereof. | kg | 1.4¢/kg | Free (A+, AU, BH, JO, KR, MA, OM, P, PA, PE, S, SG) | 7.2¢/kg |\n| 0203.12.90         | 10         | Other: Hams and cuts thereof. | kg | Free |                         | 5.5¢/kg |\n| 0203.12.90         | 20         | Other: Shoulders and cuts thereof. | kg | Free |                         | 5.5¢/kg |\n| 0203.19.20         |            | Other: Processed. | kg | 1.4¢/kg | Free (A+, AU, BH, JO, KR, MA, OM, P, PA, PE, S, SG) | 7.2¢/kg |\n| 0203.19.40         | 10         | Other: Bellies. | kg | Free |                         | 5.5¢/kg |\n| 0203.19.40         | 90         | Other: Other. | kg | Free |                         | 5.5¢/kg |\n| 0203.21.00         | 00         | Carcasses and half-carcasses. | kg | Free |                         | 5.5¢/kg |\n| 0203.22.10         | 00         | Hams, shoulders and cuts thereof, with bone in: Processed. | kg | 1.4¢/kg | Free (A, AU, BH, CL, CO, D, E, IL, JO, KR, MA, OM, P, PA, PE, S, SG) | 7.2¢/kg |\n| 0203.22.90         | 00         | Other: Hams, shoulders and cuts thereof, with bone in. | kg | Free |                         | 5.5¢/kg |\n| 0203.29.20         | 00         | Other: Processed. | kg | 1.4¢/kg | Free (A, AU, BH, CL, CO, D, E, IL, JO, KR, MA, OM, P, PA, PE, S, SG) | 7.2¢/kg |\n| 0203.29.40         | 00         | Other: Other. | kg | Free |                         | 5.5¢/kg |\n\n### Table 5: Rates of Duty for Meat of Sheep or Goats, Fresh, Chilled or Frozen\n\n| Heading/Subheading | Stat. Suf. | Article Description | Unit of Quantity | Rates of Duty (General) | Rates of Duty (Special) | Rates of Duty (Column 2) |\n|---------------------|------------|----------------------|-------------------|-------------------------|-------------------------|--------------------------|\n| 0204               |            | Meat of sheep or goats, fresh, chilled or frozen: |                   |                         |                         |                          |\n| 0204.10.00         | 00         | Carcasses and half-carcasses of lamb, fresh or chilled. | kg | 0.7¢/kg | Free (A+, AU, BH, CL, CO, D, E, IL, JO, KR, MA, OM, P, PA, PE, S, SG) | 15.4¢/kg |\n| 0204.21.00         | 00         | Other meat of sheep, fresh or chilled: Carcasses and half-carcasses. | kg | 2.8¢/kg | Free (A+, AU, BH, CL, CO, D, E, IL, JO, KR, MA, OM, P, PA, PE, S, SG) | 11¢/kg |\n| 0204.22.20         |            | Other cuts with bone in: Lamb. | kg | 0.7¢/kg | Free (A+, AU, BH, CL, CO, D, E, IL, JO, KR, MA, OM, P, PA, PE, S, SG) | 15.4¢/kg |\n| 0204.22.40         | 00         | Other cuts with bone in: Other. | kg | 2.8¢/kg | Free (A+, AU, BH, CL, CO, D, E, IL, JO, KR, MA, OM, P, PA, PE, S, SG) | 11¢/kg |\n| 0204.23.20         | 00         | Boneless: Lamb. | kg | 0.7¢/kg | Free (A+, AU, BH, CL, CO, D, E, IL, JO, KR, MA, OM, P, PA, PE, S, SG) | 15.4¢/kg |\n| 0204.23.40         | 00         | Boneless: Other. | kg | 2.8¢/kg | Free (A+, AU, BH, CL, CO, D, E, IL, JO, KR, MA, OM, P, PA, PE, S, SG) | 11¢/kg |\n| 0204.30.00         | 00         | Carcasses and half-carcasses of lamb, frozen. | kg | 0.7¢/kg | Free (A+, AU, BH, CL, CO, D, E, IL, JO, KR, MA, OM, P, PA, PE, S, SG) | 15.4¢/kg |"
          },
          "metadata": {}
        },
        {
          "output_type": "stream",
          "name": "stdout",
          "text": [
            "Saved extracted table as CSV into Azure Container: output-htsocr/Chapter 2_table.csv\n",
            "\n",
            "Processing file: Chapter 3.pdf\n",
            "\n",
            "📄 Extracted tables for Chapter 3.pdf:\n",
            "\n"
          ]
        },
        {
          "output_type": "display_data",
          "data": {
            "text/plain": [
              "<IPython.core.display.Markdown object>"
            ],
            "text/markdown": "Here is the table contents extracted in markdown format:\n\n```markdown\n| Heading/Subheading | Stat. Suf- fis | Article Description | Unit of Quantity | Rates of Duty |  |  |\n|---------------------|----------------|----------------------|------------------|----------------|---|---|\n|                     |                |                      |                  | General        | Special |  |\n| 0301               |                | Live fish:           |                  | Free           |       | Free |\n| 0301.11.00         |                | Ornamental fish:     |                  |                |       |     |\n|                     |                | Freshwater.         |                  |                |       |     |\n|                     | 10             |                      |                  |                |       |     |\n|                     | 20             | Goldfish (Carassius auratus), Crucian carp (Carassius carassius). |                  |                |       |     |\n|                     | 90             | Other                |                  |                |       |     |\n| 0301.19.00         | 00             | Other.               |                  |                |       |     |\n| 0301.91.00         | 00             | Trout (Salmo trutta, Oncorhynchus mykiss, Oncorhynchus clarki, Oncorhynchus aguabonita, Oncorhynchus gilae, Oncorhynchus apache and Oncorhynchus chrysogaster). | kg. | Free           |       | Free |\n| 0301.92.00         | 00             | Eels (Anguilla spp.). | kg. | Free           |       | Free |\n| 0301.93.02         |                | Carp (Cyprinus spp., Carassius spp., Ctenopharyngodon idellus, Hypophthalmichthys spp., Cirrhinus spp., Mylopharyngodon piceus, Catla catla, Labeo spp., Osteochilus hasselti, Leptobarbus hoeveni, Megalobrama spp.). |                  |                |       |     |\n|                     | 10             | Grass carp (Ctenopharyngodon idellus), silver carp (Hypophthalmichthys molitrix) and bighead carp (Aristichthys nobilis). |                  |                |       |     |\n|                     | 90             | Other                |                  |                |       |     |\n| 0301.94.01         | 00             | Atlantic and Pacific bluefin tunas (Thunnus thynnus, Thunnus orientalis). | kg. | Free           |       | Free |\n| 0301.95.00         | 00             | Southern Bluefin tunas (Thunnus maccoyii). | kg. | Free           |       | Free |\n| 0301.99.03         |                | Other                |                  | Free           |       | Free |\n|                     | 10             | Tench (Tinca tinca), sheatfish (Silurus glanis). | kg |                |       |     |\n|                     | 15             | Bighead carp (Aristichthys nobilis). | kg |                |       |     |\n|                     | 90             | Other                | kg |                |       |     |\n\n| Heading/Subheading | Stat. Suf- fis | Article Description | Unit of Quantity | Rates of Duty |  |  |\n|---------------------|----------------|----------------------|------------------|----------------|---|---|\n|                     |                |                      |                  | General        | Special |  |\n| 0302               |                | Fish, fresh or chilled, excluding fish fillets and other fish meal of heading 0304: Salmonidae, excluding edible fish offal of subheadings 0302.91 to 0302.99 : |                  | Free           |       | $2.2¢/kg |\n| 0302.11.00         |                | Trout (Salmo trutta, Oncorhynchus mykiss, Oncorhynchus clarki, Oncorhynchus aguabonita, Oncorhynchus gilae, Oncorhynchus apache and Oncorhynchus chrysogaster). |                  |                |       |     |\n|                     | 10             | Rainbow trout (Salmo gairdneri), farmed. | kg |                |       |     |\n|                     | 90             | Other                | kg |                |       |     |\n| 0302.13.00         |                | Pacific salmon (Oncorhynchus nerka, Oncorhynchus gorbuscha, Oncorhynchus keta, Oncorhynchus tschawytscha, Oncorhynchus kisutch, Oncorhynchus masou and Oncorhynchus rhodurus). |                  |                |       | $4.4¢/kg |\n|                     | 13             | Chinook (king):      | kg |                |       |     |\n|                     | 14             | Not farmed.         | kg |                |       |     |\n|                     | 22             | Chum (dog).         | kg |                |       |     |\n|                     | 32             | Pink (humpie).      | kg |                |       |     |\n|                     | 42             | Sockeye (red).      | kg |                |       |     |\n|                     | 53             | Coho (silver):      |                  |                |       |     |\n|                     | 54             | Farmed.             | kg |                |       |     |\n|                     | 62             | Not farmed.         | kg |                |       |     |\n| 0302.14.00         |                | Atlantic salmon (Salmo salar) and Danube salmon (Hucho hucho). |                  | Free           |       | $4.4¢/kg |\n|                     | 03             | Atlantic:           | kg |                |       |     |\n|                     | 04             | Not farmed.         | kg |                |       |     |\n|                     | 62             | Other               | kg |                |       |     |\n| 0302.19.00         | 00             | Other.               | kg | Free           |       | $2.2¢/kg |\n| 0302.21.00         |                | Halibut and Greenland turbot (Reinhardtius hippoglossoides, Hippoglossus hippoglossus, Hippoglossus stenolepis). |                  |                |       | $4.4¢/kg |\n|                     | 10             | Atlantic.           | kg |                |       |     |\n|                     | 20             | Pacific.            | kg |                |       |     |\n|                     | 90             | Other (including Greenland). | kg |                |       |     |\n| 0302.22.00         | 00             | Plaice (Pleuronectes platessa). | kg | Free           |       | $2.2¢/kg |\n| 0302.23.00         | 00             | Sole (Solea spp.).  | kg. | $1.1¢/kg       | Free (A*, AU, BH, CL, CO, D, E, IL, JO, KR, MA, OM, P, PA, PE, S, SG) | $2.2¢/kg |\n| 0302.24.00         | 00             | Turbots (Psetta maxima). | kg. | Free           |       | $2.2¢/kg |\n| 0302.29.01         |                | Other.               |                  | Free           |       | $2.2¢/kg |\n|                     | 10             | Flounder.           | kg |                |       |     |\n|                     | 90             | Other                | kg |                |       |     |\n\n| Heading/Subheading | Stat. Suf- fis | Article Description | Unit of Quantity | Rates of Duty |  |  |\n|---------------------|----------------|----------------------|------------------|----------------|---|---|\n|                     |                |                      |                  | General        | Special |  |\n| 0302 (con.)        |                | Fish, fresh or chilled, excluding fish fillets and other fish meal of heading 0304: (con.) Tunas (of the genus Thunnus), skipjack tuna (stripe-bellied bonito)(Katsuwonus pelamis), excluding edible fish offal of subheadings 0302.91 to 0302.99: |                  |                |       | Free |\n| 0302.31.00         | 00             | Albacore or longfinned tunas (Thunnus alalunga). | kg. | Free           |       | Free |\n| 0302.32.00         | 00             | Yellowfin tunas (Thunnus albacares). | kg. | Free           |       | Free |\n| 0302.33.00         | 00             | Skipjack tuna (stripe-bellied bonito) (Katsuwonus pelamis). | kg. | Free           |       | Free |\n| 0302.34.00         | 00             | Bigeye tunas (Thunnus obesus). | kg. | Free           |       | Free |\n| 0302.35.01         | 00             | Atlantic and Pacific bluefin tunas (Thunnus thynnus, Thunnus orientalis). | kg. | Free           |       | Free |\n| 0302.36.00         | 00             | Southern bluefin tunas (Thunnus maccoyii). | kg. | Free           |       | Free |\n| 0302.39.02         | 00             | Other.               | kg. | Free           |       | Free |\n\n| Heading/Subheading | Stat. Suf- fis | Article Description | Unit of Quantity | Rates of Duty |  |  |\n|---------------------|----------------|----------------------|------------------|----------------|---|---|\n|                     |                |                      |                  | General        | Special |  |\n| 0302 (con.)        |                | Fish, fresh or chilled, excluding fish fillets and other fish meal of heading 0304: (con.) Herrings (Clupea harengus, Clupea pallasii), anchovies (Engraulis spp.), sardines (Sardina pilchardus, Sardinops spp.), sardinella (Sardinella spp.), brisling or sprats (Sprattus sprattus), mackerel (Scomber scombrus, Scomber australasicus, Scomber japonicus), Indian mackerels (Rastrelliger spp.), seerfishes (Scomberomorus spp.), jack and horse mackerel (Trachurus spp.), jacks, crevalles (Caranx spp.), cobia (Rachycentron canadum), silver pomfrets (Pampus spp.), Pacific saury (Cololabis saira), scads (Decapterus spp.), capelin (Mallotus villosus), swordfish (Xiphias gladius), Kawakawa (Euthynnus affinis), bonitos (Sarda spp.), marlins, sailfishes, spearlish (Istiophoridae), excluding edible fish offal of subheadings 0302.91 to 0302.99 : |                  |                |       |     |\n| 0302.41.00         | 00             | Herrings (Clupea harengus, Clupea pallasii). | kg. | Free           |       | Free |\n| 0302.42.00         | 00             | Anchovies (Engraulis spp.). | kg. | Free           |       | Free |\n| 0302.43.00         | 00             | Sardines (Sardina pilchardus, Sardinops spp.), sardinella (Sardinella spp.), brisling or sprats (Sprattus sprattus). | kg. | Free           |       | $2.2¢/kg |\n| 0302.44.00         | 00             | Mackerel (Scomber scombrus, Scomber australasicus, Scomber japonicus). | kg. | Free           |       | $4.4¢/kg |\n| 0302.45           |                | Jack and horse mackerel (Trachurus spp): |                  |                |       |     |\n| 0302.45.11         | 00             | Scaled (whether or not heads, viscera and/or fins have been removed, but not otherwise processed), in immediate containers weighing with their contents 6.8 kg or less. | kg. | $3%$           | Free (A*, AU, BH, CL, CO, D, E, IL, JO, KR, MA, OM, P, PA, PE, S, SG) | $25%$ |\n| 0302.45.50         | 00             | Other.               | kg. | Free           |       | $2.2¢/kg |\n| 0302.46           |                | Cobia (Rachycentron canadum) : |                  |                |       |     |\n| 0302.46.11         | 00             | Scaled (whether or not heads, viscera and/or fins have been removed, but not otherwise processed), in immediate containers weighing with their contents 6.8 kg or less. | kg. | $3%$           | Free (A*, AU, BH, CL, CO, D, E, IL, JO, KR, MA, OM, P, PA, PE, S, SG) | $25%$ |\n| 0302.46.50         | 00             | Other.               | kg. | Free           |       | $2.2¢/kg |\n| 0302.47.00         |                | Swordfish (Xiphias gladius). |                  | Free           |       | $2.2¢/kg |\n|                     | 10             | Steaks.              | kg |                |       |     |\n|                     | 90             | Other                | kg |                |       |     |\n| 0302.49.00         | 00             | Other.               | kg. | Free           |       | $2.2¢/kg |\n\n| Heading/Subheading | Stat. Suf- fis | Article Description | Unit of Quantity | Rates of Duty |  |  |\n|---------------------|----------------|----------------------|------------------|----------------|---|---|\n|                     |                |                      |                  | General        | Special |  |\n| 0302 (con.)        |                | Fish, fresh or chilled, excluding fish fillets and other fish meal of heading 0304: (con.) Fish of the families Bregmacerotidae, Euclichthyidae Gadidae, Macrouridae, Melanonidae, Merlucciidae, Moridae and Muraenolepididae, excluding edible fish offal of subheadings 0302.91 to 0302.99: |                  |                |       |     |\n| 0302.51.00         |                | Cod (Gadus morhua, Gadus ogac, Gadus macrocephalus). |                  | Free           |       | $2.2¢/kg |\n|                     | 10             | Atlantic.           | kg |                |       |     |\n|                     | 90             | Other                | kg |                |       |     |\n| 0302.52.00         | 00             | Haddock (Melanogrammus aeglefinus). | kg | Free           |       | $2.2¢/kg |\n| 0302.53.00         | 00             | Coalfish (Pollachius virens). | kg | Free           |       | $2.2¢/kg |\n| 0302.54           |                | Hake (Merluccius spp., Urophycis spp.): |                  |                |       |     |\n| 0302.54.11         | 00             | Scaled (whether or not heads, viscera and/or fins have been removed, but not otherwise processed), in immediate containers weighing with their contents 6.8 kg or less. | kg | $3%$           | Free (A*, AU, BH, CL, CO, D, E, IL, JO, KR, MA, OM, P, PA, PE, S, SG) | $25%$ |\n| 0302.54.50         | 00             | Other.               | kg | Free           |       | $2.2¢/kg |\n| 0302.55           |                | Alaska pollock (Theragra chalcogramma): |                  |                |       |     |\n| 0302.55.11         | 00             | Scaled (whether or not heads, viscera and/or fins have been removed, but not otherwise processed), in immediate containers weighing with their contents 6.8 kg or less. | kg | $3%$           | Free (A*, AU, BH, CL, CO, D, E, IL, JO, KR, MA, OM, P, PA, PE, S, SG) | $25%$ |\n| 0302.55.50         | 00             | Other.               | kg | Free           |       | $2.2¢/kg |\n| 0302.56           |                | Blue whitings (Micromesistius poutassou, Micromesistius australis): |                  |                |       |     |\n| 0302.56.11         | 00             | Scaled (whether or not heads, viscera and/or fins have been removed, but not otherwise processed), in immediate containers weighing with their contents 6.8 kg or less. | kg | $3%$           | Free (A*, AU, BH, CL, CO, D, E, IL, JO, KR, MA, OM, P, PA, PE, S, SG) | $25%$ |\n| 0302.56.50         | 00             | Other.               | kg | Free           |       | $2.2¢/kg |\n| 0302.59           |                | Other:               |                  |                |       |     |\n| 0302.59.11         | 00             | Scaled (whether or not heads, viscera and/or fins have been removed, but not otherwise processed), in immediate containers weighing with their contents 6.8 kg or less. | kg | $3%$           | Free (A*, AU, BH, CL, CO, D, E, IL, JO, KR, MA, OM, P, PA, PE, S, SG) | $25%$ |\n| 0302.59.50         |                | Other.               |                  | Free           |       | $2.2¢/kg |\n|                     | 10             | Pollock.             | kg |                |       |     |\n|                     | 90             | Other                | kg |                |       |     |\n\n| Heading/Subheading | Stat. Suf- fis | Article Description | Unit of Quantity | Rates of Duty |  |  |\n|---------------------|----------------|----------------------|------------------|----------------|---|---|\n|                     |                |                      |                  | General        | Special |  |\n| 0302 (con.)        |                | Fish, fresh or chilled, excluding fish fillets and other fish meal of heading 0304: (con.) Tilapias (Oreochromis spp.), catfish (Pangasius spp., Silurus spp., Clarias spp., Ictalurus spp.), carp (Cyprinus spp., Carassius spp., Ctenopharyngodon idellus, Hypophthalmichthys spp., Cirrhinus spp., Mylopharyngodon piceus, Catla catla, Labeo spp., Osteochilus hasselti, Leptobarbus hoeveni, Megalobrama spp.), eels (Anguilla spp.), Nile perch (Lates niloticus) and snakeheads (Channa spp.), excluding edible fish offal of subheadings 0302.91 to 0302.99 : Tilapias (Oreochromis spp.): Scaled (whether or not heads, viscera and/or fins have been removed, but not otherwise processed), in immediate containers weighing with their contents 6.8 kg or less. |                  |                |       | Free (A*, AU, BH, CL, CO, D, E, IL, JO, KR, MA, OM, P, PA, PE, S, SG) | $25%$ |\n| 0302.71.50         | 00             | Other.               | kg. | Free           |       | $2.2¢/kg |\n| 0302.72           |                | Catfish (Pangasius spp., Silurus spp., Clarias spp., Ictalurus spp.): Scaled (whether or not heads, viscera and/or fins have been removed, but not otherwise processed), in immediate containers weighing with their contents 6.8 kg or less. |                  |                |       |     |\n| 0302.72.11         | 00             |                      | kg. | $3%$           | Free (A*, AU, BH, CL, CO, D, E, IL, JO, KR, MA, OM, P, PA, PE, S, SG) | $25%$ |\n| 0302.72.50         |                | Other.               |                  |                |       | $2.2¢/kg |\n|                     | 01             | Ictalurus spp.      | kg |                |       |     |\n|                     | 04             | Pangasius spp. including basa and tra. | kg |                |       |     |\n|                     | 34             | Other                |                  |                |       |     |\n| 0302.73           |                | Carp (Cyprinus spp., Carassius spp., Ctenopharyngodon idellus, Hypophthalmichthys spp., Cirrhinus spp., Mylopharyngodon piceus, Catla catla, Labeo spp., Osteochilus hasselti, Leptobarbus hoeveni, Megalobrama spp.): Scaled (whether or not heads, viscera and/or fins have been removed, but not otherwise processed), in immediate containers weighing with their contents 6.8 kg or less. |                  |                |       |     |\n| 0302.73.11         |                |                      | kg. | $3%$           | Free (A*, AU, BH, CL, CO, D, E, IL, JO, KR, MA, OM, P, PA, PE, S, SG) | $25%$ |\n| 0302.73.50         | 00             |                      | kg. | Free           |       | $2.2¢/kg |\n| 0302.74.00         | 00             | Eels (Anguilla spp.). | kg. | Free           |       | $2.2¢/kg |\n\n| Heading/Subheading | Stat. Suf- fis | Article Description | Unit of Quantity | Rates of Duty |  |  |\n|---------------------|----------------|----------------------|------------------|----------------|---|---|\n|                     |                |                      |                  | General        | Special |  |\n| 0302 (con.)        |                | Fish, fresh or chilled, excluding fish fillets and other fish meal of heading 0304: (con.) Tilapias (Oreochromis spp.), catfish (Pangasius spp., Silurus spp., Clarias spp., Ictalurus spp.), carp (Cyprinus spp., Carassius spp., Ctenopharyngodon idellus, Hypophthalmichthys spp., Cirrhinus spp., Mylopharyngodon piceus, Catla catla, Labeo spp., Osteochilus hasselti, Leptobarbus hoeveni, Megalobrama spp.), eels (Anguilla spp.), Nile perch (Lates niloticus) and snakeheads (Channa spp.), excluding edible fish offal of subheadings 0302.91 to 0302.99: (con.) Other: Scaled (whether or not heads, viscera and/or fins have been removed, but not otherwise processed), in immediate containers weighing with their contents 6.8 kg or less. |                  |                |       | Free (A*, AU, BH, CL, CO, D, E, IL, JO, KR, MA, OM, P, PA, PE, S, SG) | $25%$ |\n| 0302.79           |                | Other.               |                  |                |       | $2.2¢/kg |\n|                     | 25             | Nile perch.          | kg |                |       |     |\n|                     | 76             | Other fish, excluding edible fish offal of subheadings 0302.91 to 0302.99: |                  |                |       |     |\n| 0302.81.00         |                | Dogfish and other sharks. |                  | Free           |       | $2.2¢/kg |\n|                     | 11             | Dogfish (Squalus spp.). | kg |                |       |     |\n|                     | 91             | Other                | kg |                |       |     |\n| 0302.82.00         | 00             | Rays and skates (Rajidae). | kg. | Free           |       | $2.2¢/kg |\n| 0302.83.00         | 00             | Toothfish (Dissostichus spp.). | kg. | Free           |       | $2.2¢/kg |\n| 0302.84           |                | Seabass (Dicentrarchus spp.): |                  |                |       |     |\n| 0302.84.11         | 00             | Scaled (whether or not heads, viscera and/or fins have been removed, but not otherwise processed), in immediate containers weighing with their contents 6.8 kg or less. | kg. | $3%$           | Free (A*, AU, BH, CL, CO, D, E, IL, JO, KR, MA, OM, P, PA, PE, S, SG) | $25%$ |\n| 0302.84.50         | 00             | Other.               | kg. | Free           |       | $2.2¢/kg |\n| 0302.85           |                | Seabream (Sparidae): |                  |                |       |     |\n| 0302.85.11         | 00             | Scaled (whether or not heads, viscera and/or fins have been removed, but not otherwise processed), in immediate containers weighing with their contents 6.8 kg or less. | kg. | $3%$           | Free (A*, AU, BH, CL, CO, D, E, IL, JO, KR, MA, OM, P, PA, PE, S, SG) | $25%$ |\n| 0302.85.50         | 00             | Other.               | kg. | Free           |       | $2.2¢/kg |\n\n| Heading/Subheading | Stat. Suf- fis | Article Description | Unit of Quantity | Rates of Duty |  |  |\n|---------------------|----------------|----------------------|------------------|----------------|---|---|\n|                     |                |                      |                  | General        | Special |  |\n| 0302 (con.)        |                | Fish, fresh or chilled, excluding fish fillets and other fish meal of heading 0304: (con.) Other fish, excluding edible fish offal of subheadings 0302.91 to 0302.99: (con.) |                  |                |       |     |\n| 0302.89           |                | Other : Scaled (whether or not heads, viscera and/or fins have been processed), in immediate containers weighing with their contents 6.8 kg or less. |                  |                |       |     |\n| 0302.89.11         |                |                      |                  |                |       |     |\n|                     | 20             | Sable fish (Anoplopoma fimbria). | kg |                |       |     |\n|                     | 40             | Other                | kg |                |       |     |\n| 0302.89.50         |                | Other.               |                  | Free           |       | $2.2¢/kg |\n|                     |                | Fresh-water fish:    |                  |                |       |     |\n|                     | 07             | Pike.                | kg |                |       |     |\n|                     | 10             | Pickerel.            | kg |                |       |     |\n|                     |                | Perch:               |                  |                |       |     |\n|                     | 13             | Pike perch (including yellow pike). | kg |                |       |     |\n|                     | 25             | Other                | kg |                |       |     |\n|                     | 28             | Bass.                | kg |                |       |     |\n|                     | 31             | Whitefish.           | kg |                |       |     |\n|                     | 34             | Other                | kg |                |       |     |\n```"
          },
          "metadata": {}
        },
        {
          "output_type": "stream",
          "name": "stdout",
          "text": [
            "Saved extracted table as CSV into Azure Container: output-htsocr/Chapter 3_table.csv\n",
            "\n",
            "Processing file: Chapter 6.pdf\n",
            "\n",
            "📄 Extracted tables for Chapter 6.pdf:\n",
            "\n"
          ]
        },
        {
          "output_type": "display_data",
          "data": {
            "text/plain": [
              "<IPython.core.display.Markdown object>"
            ],
            "text/markdown": "Here is the table content extracted in markdown format:\n\n```markdown\n| Heading/Subheading | Stat. Suf- fis | Article Description | Unit of Quantity | Rates of Duty |  |  |\n| :--: | :--: | :--: | :--: | :--: | :--: | :--: |\n|  |  |  |  | General | Special |  |\n| 0601 |  | Bulbs, tubers, tuberous roots, corms, crowns and rhizomes, dormant, in growth or in flower; chicory plants and roots other than roots of heading 1212: |  |  |  |  |\n| 0601.10 |  | Bulbs, tubers, tuberous roots, corms, crowns and rhizomes, dormant: |  |  |  |  |\n| 0601.10.15 | 00 | Tulip bulbs. | No. | $89.6 \\mathrm{c} / 1000^{3)}$ | Free (A*, AU, BH, CL, CO, D, E, IL, JO, KR, MA, OM, P, PA, PE, S, SG) | $\\$ 6 / 1000$ |\n| 0601.10.30 | 00 | Hyacinth bulbs. | No. | $38.4 \\mathrm{c} / 1000^{3)}$ | Free (A+, AU, BH, CL, CO, D, E, IL, JO, KR, MA, OM, P, PA, PE, S, SG) | $\\$ 4 / 1000$ |\n| 0601.10.45 | 00 | Lily bulbs. | No. | $55.7 \\mathrm{c} / 1000^{3)}$ | Free (A*, AU, BH, CL, CO, D, E, IL, JO, KR, MA, OM, P, PA, PE, S, SG) | $\\$ 6 / 1000$ |\n| 0601.10.60 | 00 | Narcissus bulbs. | No. | $\\$ 1.34 / 1000^{3)}$ | Free (A*, AU, BH, CL, CO, D, E, IL, JO, KR, MA, OM, P, PA, PE, S, SG) | $\\$ 6 / 1000$ |\n| 0601.10.75 | 00 | Crocus corms. | No. | $19.2 \\mathrm{c} / 1000^{3)}$ | Free (A*, AU, BH, CL, CO, D, E, IL, JO, KR, MA, OM, P, PA, PE, S, SG) | $\\$ 2 / 1000$ |\n| 0601.10.85 | 00 | Lily of the valley pips. | No. | $\\$ 1.44 / 1000^{3)}$ | Free (A+, AU, BH, CL, CO, D, E, IL, JO, KR, MA, OM, P, PA, PE, S, SG) | $\\$ 6 / 1000$ |\n| 0601.10.90 |  | Other. |  | $3.5 \\%^{3)}$ | Free (A*, AU, BH, CL, CO, D, E, IL, JO, KR, MA, OM, P, PA, PE, S, SG) | $30 \\%$ |\n|  | 20 | Iris bulbs. | No. |  |  |  |\n|  | 40 | Gladiolus corms. | No. |  |  |  |\n|  | 60 | Begonia (tuberous) tubers. | No. |  |  |  |\n|  | 80 | Other. | No. |  |  |  |\n| 0601.20 |  | Bulbs, tubers, tuberous roots, corms, crowns and rhizomes, in growth or in flower; chicory plants and roots: |  |  |  |  |\n| 0601.20.10 | 00 | Hyacinth bulbs, without soil attached. | No. | $38.4 \\mathrm{c} / 1000^{3)}$ | Free (A+, AU, BH, CL, CO, D, E, IL, JO, KR, MA, OM, P, PA, PE, S, SG) | $\\$ 4 / 1000$ |\n| 0601.20.90 | 00 | Other. | No. | $1.4 \\%^{3)}$ | Free (A*, AU, BH, CL, CO, D, E, IL, JO, KR, MA, OM, P, PA, PE, S, SG) | $30 \\%$ |\n\n| Heading/Subheading | Stat. Suf- fis | Article Description | Unit of Quantity | Rates of Duty |  |  |\n| :--: | :--: | :--: | :--: | :--: | :--: | :--: |\n|  |  |  |  | General | Special |  |\n| 0602 |  | Other live plants (including their roots), cuttings and slips; mushroom spawn: |  |  |  |  |\n| 0602.10.00 | 00 | Unrooted cuttings and slips. | No. | $4.8 \\%^{1 /}$ | Free (A*, AU, BH, CL, CO, D, E, IL, JO, KR, MA, OM, P, PA, PE, S, SG) | $25 \\%$ |\n| 0602.20.00 | 00 | Trees, shrubs and bushes, grafted or not, of kinds which bear edible fruit or nuts. | No. | Free ${ }^{1 /}$ |  | $25 \\%$ |\n| 0602.30.00 | 00 | Rhododendrons and azaleas, grafted or not. | No. | $1.9 \\%^{1 /}$ | Free (A, AU, BH, CL, CO, D, E, IL, JO, JP, KR, MA, OM, P, PA, PE, S, SG) | $25 \\%$ |\n| 0602.40.00 | 00 | Roses, grafted or not. | No. | Free ${ }^{1 /}$ |  | $4 \\$$ each |\n| 0602.90 |  | Other: Herbaceous perennials: |  |  |  |  |\n| 0602.90.20 | 00 | Orchid plants. | kg. | Free ${ }^{1 /}$ |  | $25 \\%$ |\n|  |  | Other: |  |  |  |  |\n| 0602.90.30 |  | With soil attached to roots. |  | $1.4 \\%^{1 /}$ | Free (A*, AU, BH, CL, CO, D, E, IL, JO, JP, KR, MA, OM, P, PA, PE, S, SG) | $30 \\%$ |\n|  | 10 | Chrysanthemums. | No. |  |  |  |\n|  | 90 | Other. | No. |  |  |  |\n| 0602.90.40 | 00 | Other. | kg. | $3.5 \\%^{1 /}$ | Free (A*, AU, BH, CL, CO, D, E, IL, JO, JP, KR, MA, OM, P, PA, PE, S, SG) | $30 \\%$ |\n|  |  | Other: |  |  |  |  |\n| 0602.90.50 | 00 | Mushroom spawn. | kg. | $1.4 \\mathrm{c} / \\mathrm{kg}$ | Free (A+, AU, BH, CL, CO, D, E, IL, JO, KR, MA, OM, P, PA, PE, S, SG) | $2.2 \\mathrm{c} / \\mathrm{kg}$ |\n| 0602.90.60 |  | Other: |  |  |  |  |\n|  |  | With soil attached to roots. |  | $1.9 \\%^{1 /}$ | Free (A*, AU, BH, CL, CO, D, E, IL, JO, JP, KR, MA, OM, P, PA, PE, S, SG) | $25 \\%$ |\n|  | 10 | Trees and shrubs. | No. |  |  |  |\n|  | 20 | Poinsettias. | No. |  |  |  |\n|  | 90 | Other. | No. |  |  |  |\n| 0602.90.90 |  | Other. |  | $4.8 \\%^{1 /}$ | Free (A*, AU, BH, CL, CO, D, E, IL, JO, JP, KR, MA, OM, P, PA, PE, S, SG) | $25 \\%$ |\n|  | 10 | Trees and shrubs. | No. |  |  |  |\n|  | 90 | Other. | No. |  |  |  |\n\n| Heading/Subheading | Stat. Suf- fis | Article Description | Unit of Quantity | Rates of Duty |  |  |\n| :--: | :--: | :--: | :--: | :--: | :--: | :--: |\n|  |  |  |  | General | Special |  |\n| 0603 |  | Cut flowers and flower buds of a kind suitable for bouquets or for ornamental purposes, fresh, dried, dyed, bleached, impregnated or otherwise prepared: |  |  |  | $40 \\%$ |\n|  |  | Fresh: |  |  |  |  |\n| 0603.11.00 |  | Roses.......................................................... | ................... | $6.8 \\%$ | Free (A, AU, BH, CL, CO, D, E, IL, JO, KR, MA, OM, P, PA, PE, S, SG) |  |\n|  | 30 | Spray.......................................................... | No. ${ }^{\\text {® }}$ |  |  |  |\n|  | 50 | Other............................................................ | No. ${ }^{\\text {® }}$ |  |  |  |\n| 0603.12 |  | Carnations: |  |  |  |  |\n| 0603.12.30 | 00 | Miniature (spray) carnations............................... | No. ${ }^{\\text {® }}$ | $3.2 \\%$ | Free (A, AU, BH, CL, CO, D, E, IL, JO, JP, KR, MA, OM, P, PA, PE, S, SG) | $40 \\%$ |\n| 0603.12.70 | 00 | Other............................................................ | No. ${ }^{\\text {® }}$ | $6.4 \\%$ | Free (A, AU, BH, CL, CO, D, E, IL, JO, KR, MA, OM, P, PA, PE, S, SG) $3.2 \\%$ (JP) | $40 \\%$ |\n| 0603.13.00 |  | Orchids............................................................ | ................... | $6.4 \\%$ | Free (A, AU, BH, CL, CO, D, E, IL, JO, KR, MA, OM, P, PA, PE, S, SG) $3.2 \\%$ (JP) | $40 \\%$ |\n|  | 50 | Dendrobium........................................................ | No. ${ }^{\\text {® }}$ |  |  |  |\n|  | 60 | Other............................................................ | No. ${ }^{\\text {® }}$ |  |  |  |\n| 0603.14.00 |  | Chrysanthemums.................................................. | ................... | $6.4 \\%$ | Free (A, AU, BH, CL, CO, D, E, IL, JO, KR, MA, OM, P, PA, PE, S, SG) $3.2 \\%$ (JP) | $40 \\%$ |\n|  | 10 | Chrysanthemums: |  |  |  |  |\n|  | 20 | Pom Pom.................................................. | No. ${ }^{\\text {® }}$ |  |  |  |\n| 0603.15.00 | 00 | Lilias (Lillium spp.).................................................. | No. ${ }^{\\text {® }}$ | $6.4 \\%$ | Free (A, AU, BH, CL, CO, D, E, IL, JO, KR, MA, OM, P, PA, PE, S, SG) $3.2 \\%$ (JP) | $40 \\%$ |\n\n| Heading/Subheading | Stat. Suf- fis | Article Description | Unit of Quantity | Rates of Duty |  |  |\n| :--: | :--: | :--: | :--: | :--: | :--: | :--: |\n|  |  |  |  | General | Special |  |\n| 0603 (con.) |  | Cut flowers and flower buds of a kind suitable for bouquets or for ornamental purposes, fresh, dried, dyed, bleached, impregnated or otherwise prepared: (con.) |  | $6.4 \\%^{\\text {U }}$ | Free (A*, AU, BH, CL, CO, D, E, IL, JO, KR, MA, OM, P, PA, PE, S, SG) $3.2 \\%$ (JP) | $40 \\%$ |\n|  |  | Fresh: (con.) |  |  |  |  |\n| 0603.19.01 |  | Other. |  |  |  |  |\n|  | 05 | Anthuriums. | No. ${ }^{\\text {B }}$ |  |  |  |\n|  | 07 | Alstroemeria. | No. ${ }^{\\text {B }}$ |  |  |  |\n|  | 09 | Aster. | No. ${ }^{\\text {B }}$ |  |  |  |\n|  | 11 | Bells of Ireland. | No. ${ }^{\\text {B }}$ |  |  |  |\n|  | 13 | Bird of Paradise. | No. ${ }^{\\text {B }}$ |  |  |  |\n|  | 14 | Calla lilies. | No. ${ }^{\\text {B }}$ |  |  |  |\n|  | 15 | Daffodils. | No. ${ }^{\\text {B }}$ |  |  |  |\n|  | 16 | Delphinium. | No. ${ }^{\\text {B }}$ |  |  |  |\n|  | 17 | Freesia. | No. ${ }^{\\text {B }}$ |  |  |  |\n|  | 18 | Gerbera. | No. ${ }^{\\text {B }}$ |  |  |  |\n|  | 19 | Gladiolus. | No. ${ }^{\\text {B }}$ |  |  |  |\n|  | 20 | Gypsophila. | No. ${ }^{\\text {B }}$ |  |  |  |\n|  | 25 | Hydrangea. | No. ${ }^{\\text {B }}$ |  |  |  |\n|  | 27 | Hypericum. | No. ${ }^{\\text {B }}$ |  |  |  |\n|  | 29 | Lisianthus. | No. ${ }^{\\text {B }}$ |  |  |  |\n|  | 31 | Peony. | No. ${ }^{\\text {B }}$ |  |  |  |\n|  | 35 | Ranunculus. | No. ${ }^{\\text {B }}$ |  |  |  |\n|  | 37 | Scabiosa. | No. ${ }^{\\text {B }}$ |  |  |  |\n|  | 40 | Snapdragons. | No. ${ }^{\\text {B }}$ |  |  |  |\n|  | 41 | Statice. | No. ${ }^{\\text {B }}$ |  |  |  |\n|  | 42 | Stock. | No. ${ }^{\\text {B }}$ |  |  |  |\n|  | 43 | Sunflowers. | No. ${ }^{\\text {B }}$ |  |  |  |\n|  | 45 | Tulips. | No. ${ }^{\\text {B }}$ |  |  |  |\n|  | 55 | Campanula. | No. ${ }^{\\text {B }}$ |  |  |  |\n|  | 97 | Other. | No. ${ }^{\\text {B }}$ |  |  |  |\n| 0603.90.00 | 00 | Other. | No. | $4 \\%^{\\text {U }}$ | Free (A*, AU, BH, CL, CO, D, E, IL, JO, JP, KR, MA, OM, P, PA, PE, S, SG) | $40 \\%$ |\n\n| Heading/Subheading | Stat. Suf- fis | Article Description | Unit of Quantity | Rates of Duty |  |  |\n| :--: | :--: | :--: | :--: | :--: | :--: | :--: |\n|  |  |  |  | General | Special |  |\n| 0604 |  | Foliage, branches and other parts of plants, without flowers or flower buds, and grasses, mosses and lichens, being goods of a kind suitable for bouquets or for ornamental purposes, fresh, dried, dyed, bleached, impregnated or otherwise prepared: |  | Free ${ }^{1)}$ |  | Free |\n| 0604.20.00 |  | Fresh. |  |  |  |  |\n|  | 05 | Aralia. | No. |  |  |  |\n|  | 11 | Aspidistra. | No. |  |  |  |\n|  | 15 | Eucalyptus. | No. |  |  |  |\n|  |  | Evergreen Christmas trees: Douglas fir. |  |  |  |  |\n|  | 20 | Fir except Douglas fir. | No. |  |  |  |\n|  | 40 | Fir except Douglas fir. | No. |  |  |  |\n|  | 60 | Other. | No. |  |  |  |\n|  | 65 | Ferns: |  |  |  |  |\n|  | 70 | Leather leaf. | No. |  |  |  |\n|  | 72 | Other. | No. |  |  |  |\n|  | 74 | Mosses and lichens. | No. |  |  |  |\n|  | 78 |  |  |  |  |  |\n|  | 82 | Pittosporum. | No. |  |  |  |\n|  | 84 | Ruscus. | No. |  |  |  |\n|  | 86 | Other. | No. |  |  |  |\n| 0604.90 |  | Other: |  |  |  |  |\n| 0604.90.10 | 00 | Mosses and lichens. | No. | Free ${ }^{1)}$ |  | Free |\n|  |  | Other: |  |  |  |  |\n| 0604.90.30 | 00 | Dried or bleached. | No. | Free ${ }^{1)}$ |  | Free |\n| 0604.90.60 | 00 | Other. | No. | $7 \\%{ }^{1)}$ | Free (A*, AU, BH, CL, CO, D, E, IL, JO, KR, MA, OM, P, PA, PE, S, SG) | $50 \\%$ |\n```"
          },
          "metadata": {}
        },
        {
          "output_type": "stream",
          "name": "stdout",
          "text": [
            "Saved extracted table as CSV into Azure Container: output-htsocr/Chapter 6_table.csv\n"
          ]
        }
      ]
    },
    {
      "cell_type": "code",
      "source": [],
      "metadata": {
        "id": "XP-DqC9yE8Sq"
      },
      "execution_count": null,
      "outputs": []
    },
    {
      "cell_type": "markdown",
      "source": [
        "# **Image -->**"
      ],
      "metadata": {
        "id": "pAVfrn-u10Vd"
      }
    },
    {
      "cell_type": "code",
      "source": [
        "import base64\n",
        "\n",
        "# Verify image exists\n",
        "image_file = Path(\"/content/EF56Z3Exu9-pie11.png\")\n",
        "assert image_file.is_file()\n",
        "\n",
        "# Encode image as base64 for API\n",
        "encoded = base64.b64encode(image_file.read_bytes()).decode()\n",
        "base64_data_url = f\"data:image/jpeg;base64,{encoded}\"\n",
        "\n",
        "# Process image with OCR\n",
        "image_response = client.ocr.process(\n",
        "    document=ImageURLChunk(image_url=base64_data_url),\n",
        "    model=\"mistral-ocr-latest\"\n",
        ")\n",
        "\n",
        "# Convert response to JSON\n",
        "response_dict = json.loads(image_response.model_dump_json())\n",
        "json_string = json.dumps(response_dict, indent=4)\n",
        "print(json_string)"
      ],
      "metadata": {
        "colab": {
          "base_uri": "https://localhost:8080/"
        },
        "id": "K-Sdp26N1RwL",
        "outputId": "0ec3e93e-ae00-4c9c-952a-69c714aeb3eb"
      },
      "execution_count": null,
      "outputs": [
        {
          "output_type": "stream",
          "name": "stdout",
          "text": [
            "{\n",
            "    \"pages\": [\n",
            "        {\n",
            "            \"index\": 0,\n",
            "            \"markdown\": \"U.S. per capita fluid milk availability, gallons, shares, 2013\\n![img-0.jpeg](img-0.jpeg)\\n\\nSource: USDA, Economic Research Service, Food Availability Data.\",\n",
            "            \"images\": [\n",
            "                {\n",
            "                    \"id\": \"img-0.jpeg\",\n",
            "                    \"top_left_x\": 63,\n",
            "                    \"top_left_y\": 38,\n",
            "                    \"bottom_right_x\": 382,\n",
            "                    \"bottom_right_y\": 157,\n",
            "                    \"image_base64\": null\n",
            "                }\n",
            "            ],\n",
            "            \"dimensions\": {\n",
            "                \"dpi\": 200,\n",
            "                \"height\": 360,\n",
            "                \"width\": 450\n",
            "            }\n",
            "        }\n",
            "    ],\n",
            "    \"model\": \"mistral-ocr-2503-completion\",\n",
            "    \"usage_info\": {\n",
            "        \"pages_processed\": 1,\n",
            "        \"doc_size_bytes\": 37736\n",
            "    }\n",
            "}\n"
          ]
        }
      ]
    },
    {
      "cell_type": "code",
      "source": [
        "# Get OCR results for processing\n",
        "image_ocr_markdown = image_response.pages[0].markdown\n",
        "\n",
        "# Get structured response from model\n",
        "chat_response = client.chat.complete(\n",
        "    model=\"pixtral-12b-latest\",\n",
        "    messages=[\n",
        "        {\n",
        "            \"role\": \"user\",\n",
        "            \"content\": [\n",
        "                ImageURLChunk(image_url=base64_data_url),\n",
        "                TextChunk(\n",
        "                    text=(\n",
        "                        f\"This is image's OCR in markdown:\\n\\n{image_ocr_markdown}\\n.\\n\"\n",
        "                        \"Convert this into a sensible structured json response. \"\n",
        "                        \"The output should be strictly be json with no extra commentary\"\n",
        "                    )\n",
        "                ),\n",
        "            ],\n",
        "        }\n",
        "    ],\n",
        "    response_format={\"type\": \"json_object\"},\n",
        "    temperature=0,\n",
        ")\n",
        "\n",
        "# Parse and return JSON response\n",
        "response_dict = json.loads(chat_response.choices[0].message.content)\n",
        "print(json.dumps(response_dict, indent=4))"
      ],
      "metadata": {
        "colab": {
          "base_uri": "https://localhost:8080/"
        },
        "id": "VqWelOfs1Rto",
        "outputId": "814af2e2-710f-43c2-8f67-0c05440e752e"
      },
      "execution_count": null,
      "outputs": [
        {
          "output_type": "stream",
          "name": "stdout",
          "text": [
            "{\n",
            "    \"title\": \"U.S. per capita fluid milk availability, gallons, shares, 2013\",\n",
            "    \"data\": {\n",
            "        \"Plain 2% milk\": {\n",
            "            \"gallons\": 6.7,\n",
            "            \"shares\": 35\n",
            "        },\n",
            "        \"Plain whole milk\": {\n",
            "            \"gallons\": 5.2,\n",
            "            \"shares\": 27\n",
            "        },\n",
            "        \"Plain 1% milk\": {\n",
            "            \"gallons\": 2.7,\n",
            "            \"shares\": 14\n",
            "        },\n",
            "        \"Skim milk\": {\n",
            "            \"gallons\": 2.7,\n",
            "            \"shares\": 14\n",
            "        },\n",
            "        \"Flavored milk (whole, 2%, 1%)\": {\n",
            "            \"gallons\": 1.6,\n",
            "            \"shares\": 9\n",
            "        },\n",
            "        \"Eggnog and buttermilk\": {\n",
            "            \"gallons\": 0.2,\n",
            "            \"shares\": 1\n",
            "        }\n",
            "    },\n",
            "    \"source\": \"USDA, Economic Research Service, Food Availability Data.\"\n",
            "}\n"
          ]
        }
      ]
    },
    {
      "cell_type": "code",
      "source": [],
      "metadata": {
        "id": "aGXJEVu22dYS"
      },
      "execution_count": null,
      "outputs": []
    }
  ]
}